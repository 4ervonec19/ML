{
 "cells": [
  {
   "cell_type": "markdown",
   "metadata": {},
   "source": [
    "## Домашнее задание №3. Классификатор текстового контента"
   ]
  },
  {
   "cell_type": "code",
   "execution_count": 1,
   "metadata": {},
   "outputs": [
    {
     "name": "stderr",
     "output_type": "stream",
     "text": [
      "C:\\Users\\Пользователь\\AppData\\Local\\Temp\\ipykernel_9412\\1166365904.py:27: DeprecationWarning: Importing display from IPython.core.display is deprecated since IPython 7.14, please import from IPython display\n",
      "  from IPython.core.display import HTML, display\n"
     ]
    }
   ],
   "source": [
    "import re\n",
    "import nltk\n",
    "import pymorphy2\n",
    "from collections import Counter\n",
    "import razdel\n",
    "from tqdm import tqdm_notebook\n",
    "from unidecode import unidecode\n",
    "\n",
    "\n",
    "from googletrans import Translator, constants\n",
    "import html\n",
    "from sklearn.metrics import classification_report\n",
    "from sklearn.decomposition import PCA\n",
    "from sklearn.decomposition import TruncatedSVD\n",
    "from sklearn.model_selection import train_test_split, GridSearchCV\n",
    "from sklearn.preprocessing  import StandardScaler, MinMaxScaler, RobustScaler\n",
    "from sklearn.feature_extraction.text import TfidfVectorizer, CountVectorizer\n",
    "from sklearn.linear_model import LogisticRegression, SGDClassifier\n",
    "from sklearn.neighbors import KNeighborsClassifier\n",
    "from sklearn.ensemble import RandomForestClassifier\n",
    "from sklearn.naive_bayes import GaussianNB\n",
    "from sklearn.tree import DecisionTreeClassifier, plot_tree\n",
    "from sklearn.pipeline import Pipeline, FeatureUnion\n",
    "from sklearn.compose import ColumnTransformer\n",
    "from sklearn.metrics import f1_score\n",
    "from sklearn.preprocessing import StandardScaler\n",
    "from IPython.core.display import HTML, display\n",
    "\n",
    "\n",
    "\n",
    "import pandas as pd\n",
    "import numpy as np\n",
    "import matplotlib.pyplot as plt\n",
    "import seaborn as sns\n",
    "import warnings\n",
    "warnings.filterwarnings('ignore')\n",
    "sns.set()"
   ]
  },
  {
   "cell_type": "code",
   "execution_count": 2,
   "metadata": {},
   "outputs": [],
   "source": [
    "SEED = 42\n",
    "np.random.seed(SEED)\n",
    "\n",
    "TOKEN_PATTERN = \"[а-яёa-z]+\""
   ]
  },
  {
   "cell_type": "code",
   "execution_count": 3,
   "metadata": {},
   "outputs": [
    {
     "data": {
      "text/html": [
       "<div>\n",
       "<style scoped>\n",
       "    .dataframe tbody tr th:only-of-type {\n",
       "        vertical-align: middle;\n",
       "    }\n",
       "\n",
       "    .dataframe tbody tr th {\n",
       "        vertical-align: top;\n",
       "    }\n",
       "\n",
       "    .dataframe thead th {\n",
       "        text-align: right;\n",
       "    }\n",
       "</style>\n",
       "<table border=\"1\" class=\"dataframe\">\n",
       "  <thead>\n",
       "    <tr style=\"text-align: right;\">\n",
       "      <th></th>\n",
       "      <th>ID</th>\n",
       "      <th>url</th>\n",
       "      <th>title</th>\n",
       "      <th>label</th>\n",
       "    </tr>\n",
       "  </thead>\n",
       "  <tbody>\n",
       "    <tr>\n",
       "      <th>0</th>\n",
       "      <td>0</td>\n",
       "      <td>m.kp.md</td>\n",
       "      <td>Экс-министр экономики Молдовы - главе МИДЭИ, ц...</td>\n",
       "      <td>0</td>\n",
       "    </tr>\n",
       "    <tr>\n",
       "      <th>1</th>\n",
       "      <td>1</td>\n",
       "      <td>www.kp.by</td>\n",
       "      <td>Эта песня стала известна многим телезрителям б...</td>\n",
       "      <td>0</td>\n",
       "    </tr>\n",
       "    <tr>\n",
       "      <th>2</th>\n",
       "      <td>2</td>\n",
       "      <td>fanserials.tv</td>\n",
       "      <td>Банши 4 сезон 2 серия Бремя красоты смотреть о...</td>\n",
       "      <td>0</td>\n",
       "    </tr>\n",
       "    <tr>\n",
       "      <th>3</th>\n",
       "      <td>3</td>\n",
       "      <td>colorbox.spb.ru</td>\n",
       "      <td>Не Беси Меня Картинки</td>\n",
       "      <td>0</td>\n",
       "    </tr>\n",
       "    <tr>\n",
       "      <th>4</th>\n",
       "      <td>4</td>\n",
       "      <td>tula-sport.ru</td>\n",
       "      <td>В Новомосковске сыграют следж-хоккеисты алекси...</td>\n",
       "      <td>0</td>\n",
       "    </tr>\n",
       "  </tbody>\n",
       "</table>\n",
       "</div>"
      ],
      "text/plain": [
       "   ID              url                                              title   \n",
       "0   0          m.kp.md  Экс-министр экономики Молдовы - главе МИДЭИ, ц...  \\\n",
       "1   1        www.kp.by  Эта песня стала известна многим телезрителям б...   \n",
       "2   2    fanserials.tv  Банши 4 сезон 2 серия Бремя красоты смотреть о...   \n",
       "3   3  colorbox.spb.ru                              Не Беси Меня Картинки   \n",
       "4   4    tula-sport.ru  В Новомосковске сыграют следж-хоккеисты алекси...   \n",
       "\n",
       "   label  \n",
       "0      0  \n",
       "1      0  \n",
       "2      0  \n",
       "3      0  \n",
       "4      0  "
      ]
     },
     "execution_count": 3,
     "metadata": {},
     "output_type": "execute_result"
    }
   ],
   "source": [
    "content_dataset = pd.read_csv('C:\\\\Users\\\\Пользователь\\\\Desktop\\\\Tehcnopark\\\\ML\\\\HomeWork_content_filter\\\\tools\\\\train.csv')\n",
    "content_dataset.head()"
   ]
  },
  {
   "cell_type": "code",
   "execution_count": 4,
   "metadata": {},
   "outputs": [
    {
     "data": {
      "text/html": [
       "<div>\n",
       "<style scoped>\n",
       "    .dataframe tbody tr th:only-of-type {\n",
       "        vertical-align: middle;\n",
       "    }\n",
       "\n",
       "    .dataframe tbody tr th {\n",
       "        vertical-align: top;\n",
       "    }\n",
       "\n",
       "    .dataframe thead th {\n",
       "        text-align: right;\n",
       "    }\n",
       "</style>\n",
       "<table border=\"1\" class=\"dataframe\">\n",
       "  <thead>\n",
       "    <tr style=\"text-align: right;\">\n",
       "      <th></th>\n",
       "      <th>ID</th>\n",
       "      <th>url</th>\n",
       "      <th>title</th>\n",
       "    </tr>\n",
       "  </thead>\n",
       "  <tbody>\n",
       "    <tr>\n",
       "      <th>0</th>\n",
       "      <td>135309</td>\n",
       "      <td>www.kommersant.ru</td>\n",
       "      <td>Шестой кассационный суд в Самаре начнет работу...</td>\n",
       "    </tr>\n",
       "    <tr>\n",
       "      <th>1</th>\n",
       "      <td>135310</td>\n",
       "      <td>urexpert.online</td>\n",
       "      <td>Что такое индексация алиментов, кем и в каких ...</td>\n",
       "    </tr>\n",
       "    <tr>\n",
       "      <th>2</th>\n",
       "      <td>135311</td>\n",
       "      <td>imperimeha.ru</td>\n",
       "      <td>Женщинам | Империя Меха - Part 12</td>\n",
       "    </tr>\n",
       "    <tr>\n",
       "      <th>3</th>\n",
       "      <td>135312</td>\n",
       "      <td>national-porn.com</td>\n",
       "      <td>Небритые, волосатые киски: Порно всех стран и ...</td>\n",
       "    </tr>\n",
       "    <tr>\n",
       "      <th>4</th>\n",
       "      <td>135313</td>\n",
       "      <td>2gis.ru</td>\n",
       "      <td>67</td>\n",
       "    </tr>\n",
       "  </tbody>\n",
       "</table>\n",
       "</div>"
      ],
      "text/plain": [
       "       ID                url   \n",
       "0  135309  www.kommersant.ru  \\\n",
       "1  135310    urexpert.online   \n",
       "2  135311      imperimeha.ru   \n",
       "3  135312  national-porn.com   \n",
       "4  135313            2gis.ru   \n",
       "\n",
       "                                               title  \n",
       "0  Шестой кассационный суд в Самаре начнет работу...  \n",
       "1  Что такое индексация алиментов, кем и в каких ...  \n",
       "2                  Женщинам | Империя Меха - Part 12  \n",
       "3  Небритые, волосатые киски: Порно всех стран и ...  \n",
       "4                                                 67  "
      ]
     },
     "execution_count": 4,
     "metadata": {},
     "output_type": "execute_result"
    }
   ],
   "source": [
    "test_dataset = pd.read_csv('tools//test.csv')\n",
    "test_dataset.head()"
   ]
  },
  {
   "cell_type": "code",
   "execution_count": 4,
   "metadata": {},
   "outputs": [
    {
     "data": {
      "text/html": [
       "<div>\n",
       "<style scoped>\n",
       "    .dataframe tbody tr th:only-of-type {\n",
       "        vertical-align: middle;\n",
       "    }\n",
       "\n",
       "    .dataframe tbody tr th {\n",
       "        vertical-align: top;\n",
       "    }\n",
       "\n",
       "    .dataframe thead th {\n",
       "        text-align: right;\n",
       "    }\n",
       "</style>\n",
       "<table border=\"1\" class=\"dataframe\">\n",
       "  <thead>\n",
       "    <tr style=\"text-align: right;\">\n",
       "      <th></th>\n",
       "      <th>ID</th>\n",
       "      <th>label</th>\n",
       "    </tr>\n",
       "  </thead>\n",
       "  <tbody>\n",
       "    <tr>\n",
       "      <th>count</th>\n",
       "      <td>135309.000000</td>\n",
       "      <td>135309.000000</td>\n",
       "    </tr>\n",
       "    <tr>\n",
       "      <th>mean</th>\n",
       "      <td>67654.000000</td>\n",
       "      <td>0.123532</td>\n",
       "    </tr>\n",
       "    <tr>\n",
       "      <th>std</th>\n",
       "      <td>39060.488124</td>\n",
       "      <td>0.329048</td>\n",
       "    </tr>\n",
       "    <tr>\n",
       "      <th>min</th>\n",
       "      <td>0.000000</td>\n",
       "      <td>0.000000</td>\n",
       "    </tr>\n",
       "    <tr>\n",
       "      <th>25%</th>\n",
       "      <td>33827.000000</td>\n",
       "      <td>0.000000</td>\n",
       "    </tr>\n",
       "    <tr>\n",
       "      <th>50%</th>\n",
       "      <td>67654.000000</td>\n",
       "      <td>0.000000</td>\n",
       "    </tr>\n",
       "    <tr>\n",
       "      <th>75%</th>\n",
       "      <td>101481.000000</td>\n",
       "      <td>0.000000</td>\n",
       "    </tr>\n",
       "    <tr>\n",
       "      <th>max</th>\n",
       "      <td>135308.000000</td>\n",
       "      <td>1.000000</td>\n",
       "    </tr>\n",
       "  </tbody>\n",
       "</table>\n",
       "</div>"
      ],
      "text/plain": [
       "                  ID          label\n",
       "count  135309.000000  135309.000000\n",
       "mean    67654.000000       0.123532\n",
       "std     39060.488124       0.329048\n",
       "min         0.000000       0.000000\n",
       "25%     33827.000000       0.000000\n",
       "50%     67654.000000       0.000000\n",
       "75%    101481.000000       0.000000\n",
       "max    135308.000000       1.000000"
      ]
     },
     "execution_count": 4,
     "metadata": {},
     "output_type": "execute_result"
    }
   ],
   "source": [
    "content_dataset.describe()"
   ]
  },
  {
   "cell_type": "code",
   "execution_count": 5,
   "metadata": {},
   "outputs": [
    {
     "name": "stdout",
     "output_type": "stream",
     "text": [
      "<class 'pandas.core.frame.DataFrame'>\n",
      "RangeIndex: 135309 entries, 0 to 135308\n",
      "Data columns (total 4 columns):\n",
      " #   Column  Non-Null Count   Dtype \n",
      "---  ------  --------------   ----- \n",
      " 0   ID      135309 non-null  int64 \n",
      " 1   url     135309 non-null  object\n",
      " 2   title   135308 non-null  object\n",
      " 3   label   135309 non-null  int64 \n",
      "dtypes: int64(2), object(2)\n",
      "memory usage: 4.1+ MB\n"
     ]
    }
   ],
   "source": [
    "content_dataset.info()"
   ]
  },
  {
   "cell_type": "code",
   "execution_count": 6,
   "metadata": {},
   "outputs": [
    {
     "data": {
      "text/plain": [
       "ID       16715\n",
       "url      16715\n",
       "title    16715\n",
       "label    16715\n",
       "dtype: int64"
      ]
     },
     "execution_count": 6,
     "metadata": {},
     "output_type": "execute_result"
    }
   ],
   "source": [
    "content_dataset.query('label == 1').count()"
   ]
  },
  {
   "cell_type": "code",
   "execution_count": 7,
   "metadata": {},
   "outputs": [
    {
     "data": {
      "text/html": [
       "<div>\n",
       "<style scoped>\n",
       "    .dataframe tbody tr th:only-of-type {\n",
       "        vertical-align: middle;\n",
       "    }\n",
       "\n",
       "    .dataframe tbody tr th {\n",
       "        vertical-align: top;\n",
       "    }\n",
       "\n",
       "    .dataframe thead th {\n",
       "        text-align: right;\n",
       "    }\n",
       "</style>\n",
       "<table border=\"1\" class=\"dataframe\">\n",
       "  <thead>\n",
       "    <tr style=\"text-align: right;\">\n",
       "      <th></th>\n",
       "      <th>ID</th>\n",
       "      <th>url</th>\n",
       "      <th>title</th>\n",
       "      <th>label</th>\n",
       "      <th>text_length</th>\n",
       "    </tr>\n",
       "  </thead>\n",
       "  <tbody>\n",
       "    <tr>\n",
       "      <th>0</th>\n",
       "      <td>0</td>\n",
       "      <td>m.kp.md</td>\n",
       "      <td>Экс-министр экономики Молдовы - главе МИДЭИ, ц...</td>\n",
       "      <td>0</td>\n",
       "      <td>140.0</td>\n",
       "    </tr>\n",
       "    <tr>\n",
       "      <th>1</th>\n",
       "      <td>1</td>\n",
       "      <td>www.kp.by</td>\n",
       "      <td>Эта песня стала известна многим телезрителям б...</td>\n",
       "      <td>0</td>\n",
       "      <td>74.0</td>\n",
       "    </tr>\n",
       "    <tr>\n",
       "      <th>2</th>\n",
       "      <td>2</td>\n",
       "      <td>fanserials.tv</td>\n",
       "      <td>Банши 4 сезон 2 серия Бремя красоты смотреть о...</td>\n",
       "      <td>0</td>\n",
       "      <td>52.0</td>\n",
       "    </tr>\n",
       "    <tr>\n",
       "      <th>3</th>\n",
       "      <td>3</td>\n",
       "      <td>colorbox.spb.ru</td>\n",
       "      <td>Не Беси Меня Картинки</td>\n",
       "      <td>0</td>\n",
       "      <td>21.0</td>\n",
       "    </tr>\n",
       "    <tr>\n",
       "      <th>4</th>\n",
       "      <td>4</td>\n",
       "      <td>tula-sport.ru</td>\n",
       "      <td>В Новомосковске сыграют следж-хоккеисты алекси...</td>\n",
       "      <td>0</td>\n",
       "      <td>83.0</td>\n",
       "    </tr>\n",
       "  </tbody>\n",
       "</table>\n",
       "</div>"
      ],
      "text/plain": [
       "   ID              url                                              title   \n",
       "0   0          m.kp.md  Экс-министр экономики Молдовы - главе МИДЭИ, ц...  \\\n",
       "1   1        www.kp.by  Эта песня стала известна многим телезрителям б...   \n",
       "2   2    fanserials.tv  Банши 4 сезон 2 серия Бремя красоты смотреть о...   \n",
       "3   3  colorbox.spb.ru                              Не Беси Меня Картинки   \n",
       "4   4    tula-sport.ru  В Новомосковске сыграют следж-хоккеисты алекси...   \n",
       "\n",
       "   label  text_length  \n",
       "0      0        140.0  \n",
       "1      0         74.0  \n",
       "2      0         52.0  \n",
       "3      0         21.0  \n",
       "4      0         83.0  "
      ]
     },
     "execution_count": 7,
     "metadata": {},
     "output_type": "execute_result"
    }
   ],
   "source": [
    "content_dataset['text_length'] = content_dataset.title.str.len()\n",
    "content_dataset.head()"
   ]
  },
  {
   "cell_type": "code",
   "execution_count": 9,
   "metadata": {},
   "outputs": [
    {
     "data": {
      "text/html": [
       "<div>\n",
       "<style scoped>\n",
       "    .dataframe tbody tr th:only-of-type {\n",
       "        vertical-align: middle;\n",
       "    }\n",
       "\n",
       "    .dataframe tbody tr th {\n",
       "        vertical-align: top;\n",
       "    }\n",
       "\n",
       "    .dataframe thead th {\n",
       "        text-align: right;\n",
       "    }\n",
       "</style>\n",
       "<table border=\"1\" class=\"dataframe\">\n",
       "  <thead>\n",
       "    <tr style=\"text-align: right;\">\n",
       "      <th></th>\n",
       "      <th>ID</th>\n",
       "      <th>label</th>\n",
       "      <th>text_length</th>\n",
       "    </tr>\n",
       "  </thead>\n",
       "  <tbody>\n",
       "    <tr>\n",
       "      <th>count</th>\n",
       "      <td>135309.000000</td>\n",
       "      <td>135309.000000</td>\n",
       "      <td>135308.000000</td>\n",
       "    </tr>\n",
       "    <tr>\n",
       "      <th>mean</th>\n",
       "      <td>67654.000000</td>\n",
       "      <td>0.123532</td>\n",
       "      <td>69.519171</td>\n",
       "    </tr>\n",
       "    <tr>\n",
       "      <th>std</th>\n",
       "      <td>39060.488124</td>\n",
       "      <td>0.329048</td>\n",
       "      <td>36.065493</td>\n",
       "    </tr>\n",
       "    <tr>\n",
       "      <th>min</th>\n",
       "      <td>0.000000</td>\n",
       "      <td>0.000000</td>\n",
       "      <td>1.000000</td>\n",
       "    </tr>\n",
       "    <tr>\n",
       "      <th>25%</th>\n",
       "      <td>33827.000000</td>\n",
       "      <td>0.000000</td>\n",
       "      <td>45.000000</td>\n",
       "    </tr>\n",
       "    <tr>\n",
       "      <th>50%</th>\n",
       "      <td>67654.000000</td>\n",
       "      <td>0.000000</td>\n",
       "      <td>66.000000</td>\n",
       "    </tr>\n",
       "    <tr>\n",
       "      <th>75%</th>\n",
       "      <td>101481.000000</td>\n",
       "      <td>0.000000</td>\n",
       "      <td>84.000000</td>\n",
       "    </tr>\n",
       "    <tr>\n",
       "      <th>max</th>\n",
       "      <td>135308.000000</td>\n",
       "      <td>1.000000</td>\n",
       "      <td>473.000000</td>\n",
       "    </tr>\n",
       "  </tbody>\n",
       "</table>\n",
       "</div>"
      ],
      "text/plain": [
       "                  ID          label    text_length\n",
       "count  135309.000000  135309.000000  135308.000000\n",
       "mean    67654.000000       0.123532      69.519171\n",
       "std     39060.488124       0.329048      36.065493\n",
       "min         0.000000       0.000000       1.000000\n",
       "25%     33827.000000       0.000000      45.000000\n",
       "50%     67654.000000       0.000000      66.000000\n",
       "75%    101481.000000       0.000000      84.000000\n",
       "max    135308.000000       1.000000     473.000000"
      ]
     },
     "execution_count": 9,
     "metadata": {},
     "output_type": "execute_result"
    }
   ],
   "source": [
    "content_dataset.describe()"
   ]
  },
  {
   "cell_type": "code",
   "execution_count": 657,
   "metadata": {},
   "outputs": [
    {
     "data": {
      "text/plain": [
       "Text(0.5, 1.0, 'Distribution for negatives')"
      ]
     },
     "execution_count": 657,
     "metadata": {},
     "output_type": "execute_result"
    },
    {
     "data": {
      "image/png": "[encoded data removed]",
      "text/plain": [
       "<Figure size 1500x500 with 3 Axes>"
      ]
     },
     "metadata": {},
     "output_type": "display_data"
    }
   ],
   "source": [
    "figure, axs = plt.subplots(1, 3, sharey=True, figsize = (15, 5))\n",
    "\n",
    "lens_positive_class = content_dataset.query('label == 1').text_length.values\n",
    "lens_negative_class = content_dataset.query('label == 0').text_length.values\n",
    "\n",
    "\n",
    "axs[0].hist(content_dataset['text_length'], bins = 100)\n",
    "axs[0].set_title('Distribution for all')\n",
    "\n",
    "axs[1].hist(lens_positive_class, bins = 100, color = 'red')\n",
    "axs[1].set_title('Distribution for positives')\n",
    "\n",
    "axs[2].hist(lens_negative_class, bins = 100, color = 'green')\n",
    "axs[2].set_title('Distribution for negatives')"
   ]
  },
  {
   "cell_type": "code",
   "execution_count": 8,
   "metadata": {},
   "outputs": [],
   "source": [
    "content_dataset = content_dataset.query('text_length >= 3 & text_length <= 196')"
   ]
  },
  {
   "cell_type": "markdown",
   "metadata": {},
   "source": [
    "### В целом, длины для негативных классов по распредлению выше, чем у позитивных. Есть и шумовые предметы в выборке. Посмотрим перцентили по длинам"
   ]
  },
  {
   "cell_type": "code",
   "execution_count": 11,
   "metadata": {},
   "outputs": [
    {
     "name": "stdout",
     "output_type": "stream",
     "text": [
      "15.0\n",
      "8.0\n",
      "150.0\n",
      "160.0\n",
      "106339\n",
      "14976\n"
     ]
    }
   ],
   "source": [
    "print(content_dataset.query('label == 1')['text_length'].quantile(0.01))\n",
    "print(content_dataset.query('label == 0')['text_length'].quantile(0.01))\n",
    "print(content_dataset.query('label == 1')['text_length'].quantile(0.99))\n",
    "print(content_dataset.query('label == 0')['text_length'].quantile(0.99))\n",
    "print(len(content_dataset.query('label == 0 & text_length > 18 & text_length < 139')['text_length']))\n",
    "print(len(content_dataset.query('label == 1 & text_length > 23 & text_length < 131')['text_length']))"
   ]
  },
  {
   "cell_type": "markdown",
   "metadata": {},
   "source": [
    "### Но выборка сама по себе не сбалансирована, поэтому пока фильтровать по длине не будем, а поизвлекаем другие признаки и посмотрим на их распределения"
   ]
  },
  {
   "cell_type": "code",
   "execution_count": 12,
   "metadata": {},
   "outputs": [
    {
     "name": "stdout",
     "output_type": "stream",
     "text": [
      "(117679, 5)\n",
      "(16399, 5)\n"
     ]
    }
   ],
   "source": [
    "print(content_dataset.query('label == 0').shape)\n",
    "print(content_dataset.query('label == 1').shape)"
   ]
  },
  {
   "cell_type": "markdown",
   "metadata": {},
   "source": [
    "### Посмотрим на распредедения по длинам url"
   ]
  },
  {
   "cell_type": "code",
   "execution_count": 661,
   "metadata": {},
   "outputs": [
    {
     "data": {
      "text/plain": [
       "Text(0.5, 1.0, 'Distribution for negatives')"
      ]
     },
     "execution_count": 661,
     "metadata": {},
     "output_type": "execute_result"
    },
    {
     "data": {
      "image/png": "[encoded data removed]",
      "text/plain": [
       "<Figure size 1500x500 with 3 Axes>"
      ]
     },
     "metadata": {},
     "output_type": "display_data"
    }
   ],
   "source": [
    "content_dataset['url_length'] = content_dataset.url.str.len()\n",
    "figure, axs = plt.subplots(1, 3, sharey=True, figsize = (15, 5))\n",
    "\n",
    "lens_positive_class = content_dataset.query('label == 1').url_length.values\n",
    "lens_negative_class = content_dataset.query('label == 0').url_length.values\n",
    "\n",
    "\n",
    "axs[0].hist(content_dataset['url_length'], bins = 100)\n",
    "axs[0].set_title('Distribution for all')\n",
    "\n",
    "axs[1].hist(lens_positive_class, bins = 100, color = 'red')\n",
    "axs[1].set_title('Distribution for positives')\n",
    "\n",
    "axs[2].hist(lens_negative_class, bins = 100, color = 'green')\n",
    "axs[2].set_title('Distribution for negatives')\n"
   ]
  },
  {
   "cell_type": "code",
   "execution_count": 6,
   "metadata": {},
   "outputs": [
    {
     "data": {
      "text/html": [
       "<div>\n",
       "<style scoped>\n",
       "    .dataframe tbody tr th:only-of-type {\n",
       "        vertical-align: middle;\n",
       "    }\n",
       "\n",
       "    .dataframe tbody tr th {\n",
       "        vertical-align: top;\n",
       "    }\n",
       "\n",
       "    .dataframe thead th {\n",
       "        text-align: right;\n",
       "    }\n",
       "</style>\n",
       "<table border=\"1\" class=\"dataframe\">\n",
       "  <thead>\n",
       "    <tr style=\"text-align: right;\">\n",
       "      <th></th>\n",
       "      <th>ID</th>\n",
       "      <th>url</th>\n",
       "      <th>title</th>\n",
       "      <th>label</th>\n",
       "      <th>text_length</th>\n",
       "    </tr>\n",
       "  </thead>\n",
       "  <tbody>\n",
       "    <tr>\n",
       "      <th>0</th>\n",
       "      <td>0</td>\n",
       "      <td>m.kp.md</td>\n",
       "      <td>Экс-министр экономики Молдовы - главе МИДЭИ, ц...</td>\n",
       "      <td>0</td>\n",
       "      <td>140.0</td>\n",
       "    </tr>\n",
       "    <tr>\n",
       "      <th>1</th>\n",
       "      <td>1</td>\n",
       "      <td>www.kp.by</td>\n",
       "      <td>Эта песня стала известна многим телезрителям б...</td>\n",
       "      <td>0</td>\n",
       "      <td>74.0</td>\n",
       "    </tr>\n",
       "    <tr>\n",
       "      <th>2</th>\n",
       "      <td>2</td>\n",
       "      <td>fanserials.tv</td>\n",
       "      <td>Банши 4 сезон 2 серия Бремя красоты смотреть о...</td>\n",
       "      <td>0</td>\n",
       "      <td>52.0</td>\n",
       "    </tr>\n",
       "    <tr>\n",
       "      <th>3</th>\n",
       "      <td>3</td>\n",
       "      <td>colorbox.spb.ru</td>\n",
       "      <td>Не Беси Меня Картинки</td>\n",
       "      <td>0</td>\n",
       "      <td>21.0</td>\n",
       "    </tr>\n",
       "    <tr>\n",
       "      <th>4</th>\n",
       "      <td>4</td>\n",
       "      <td>tula-sport.ru</td>\n",
       "      <td>В Новомосковске сыграют следж-хоккеисты алекси...</td>\n",
       "      <td>0</td>\n",
       "      <td>83.0</td>\n",
       "    </tr>\n",
       "  </tbody>\n",
       "</table>\n",
       "</div>"
      ],
      "text/plain": [
       "   ID              url                                              title   \n",
       "0   0          m.kp.md  Экс-министр экономики Молдовы - главе МИДЭИ, ц...  \\\n",
       "1   1        www.kp.by  Эта песня стала известна многим телезрителям б...   \n",
       "2   2    fanserials.tv  Банши 4 сезон 2 серия Бремя красоты смотреть о...   \n",
       "3   3  colorbox.spb.ru                              Не Беси Меня Картинки   \n",
       "4   4    tula-sport.ru  В Новомосковске сыграют следж-хоккеисты алекси...   \n",
       "\n",
       "   label  text_length  \n",
       "0      0        140.0  \n",
       "1      0         74.0  \n",
       "2      0         52.0  \n",
       "3      0         21.0  \n",
       "4      0         83.0  "
      ]
     },
     "execution_count": 6,
     "metadata": {},
     "output_type": "execute_result"
    }
   ],
   "source": [
    "content_dataset.head()"
   ]
  },
  {
   "cell_type": "code",
   "execution_count": 9,
   "metadata": {},
   "outputs": [],
   "source": [
    "def string_processor(x):\n",
    "    return x.split('.')\n",
    "\n",
    "content_dataset['new_url'] = content_dataset[['url']].applymap(string_processor)\n",
    "# content_dataset = content_dataset.drop(columns = 'url')"
   ]
  },
  {
   "cell_type": "code",
   "execution_count": null,
   "metadata": {},
   "outputs": [],
   "source": [
    "test_dataset['new_url'] = test_dataset[['url']].applymap(string_processor)"
   ]
  },
  {
   "cell_type": "markdown",
   "metadata": {},
   "source": [
    "### Делаем преобразрвание -> оставляем только информативную часть от url и домен сайта через функции. Зачастую у порносайтов домены нетривиальные, названия так же отличаются от обычных. Возможно, это внесет какой-то импакт"
   ]
  },
  {
   "cell_type": "code",
   "execution_count": 10,
   "metadata": {},
   "outputs": [],
   "source": [
    "def get_domain(x):\n",
    "    if len(x) == 1 :\n",
    "        return 'com'\n",
    "    else:\n",
    "        return x[-1]\n",
    "    \n",
    "def get_pre_domain(x):\n",
    "    if len(x) == 1:\n",
    "        return x[0]\n",
    "    else:\n",
    "        start = -1\n",
    "        while len(x[start]) < 4:\n",
    "            if x[start] != x[0]:\n",
    "                start = start - 1\n",
    "            else:\n",
    "                start = start + 1\n",
    "                break\n",
    "            \n",
    "        return x[start]  \n",
    "    \n",
    "    \n",
    "content_dataset['url_domain'] = content_dataset[['new_url']].applymap(get_domain)\n",
    "content_dataset['site_name'] = content_dataset[['new_url']].applymap(get_pre_domain)"
   ]
  },
  {
   "cell_type": "code",
   "execution_count": 17,
   "metadata": {},
   "outputs": [],
   "source": [
    "test_dataset['url_domain'] = test_dataset[['new_url']].applymap(get_domain)\n",
    "test_dataset['site_name'] = test_dataset[['new_url']].applymap(get_pre_domain)"
   ]
  },
  {
   "cell_type": "code",
   "execution_count": 11,
   "metadata": {},
   "outputs": [],
   "source": [
    "content_dataset = content_dataset.drop(columns = ['new_url'])"
   ]
  },
  {
   "cell_type": "code",
   "execution_count": 19,
   "metadata": {},
   "outputs": [],
   "source": [
    "test_dataset = test_dataset.drop(columns = ['new_url'])"
   ]
  },
  {
   "cell_type": "code",
   "execution_count": 12,
   "metadata": {},
   "outputs": [
    {
     "name": "stdout",
     "output_type": "stream",
     "text": [
      "296\n",
      "30107\n"
     ]
    }
   ],
   "source": [
    "print(content_dataset['url_domain'].nunique())\n",
    "print(content_dataset['site_name'].nunique())"
   ]
  },
  {
   "cell_type": "code",
   "execution_count": 13,
   "metadata": {},
   "outputs": [
    {
     "data": {
      "text/html": [
       "<div>\n",
       "<style scoped>\n",
       "    .dataframe tbody tr th:only-of-type {\n",
       "        vertical-align: middle;\n",
       "    }\n",
       "\n",
       "    .dataframe tbody tr th {\n",
       "        vertical-align: top;\n",
       "    }\n",
       "\n",
       "    .dataframe thead th {\n",
       "        text-align: right;\n",
       "    }\n",
       "</style>\n",
       "<table border=\"1\" class=\"dataframe\">\n",
       "  <thead>\n",
       "    <tr style=\"text-align: right;\">\n",
       "      <th></th>\n",
       "      <th>ID</th>\n",
       "      <th>url</th>\n",
       "      <th>title</th>\n",
       "      <th>label</th>\n",
       "      <th>text_length</th>\n",
       "      <th>url_domain</th>\n",
       "      <th>site_name</th>\n",
       "    </tr>\n",
       "  </thead>\n",
       "  <tbody>\n",
       "    <tr>\n",
       "      <th>0</th>\n",
       "      <td>0</td>\n",
       "      <td>m.kp.md</td>\n",
       "      <td>Экс-министр экономики Молдовы - главе МИДЭИ, ц...</td>\n",
       "      <td>0</td>\n",
       "      <td>140.0</td>\n",
       "      <td>md</td>\n",
       "      <td>kp</td>\n",
       "    </tr>\n",
       "    <tr>\n",
       "      <th>1</th>\n",
       "      <td>1</td>\n",
       "      <td>www.kp.by</td>\n",
       "      <td>Эта песня стала известна многим телезрителям б...</td>\n",
       "      <td>0</td>\n",
       "      <td>74.0</td>\n",
       "      <td>by</td>\n",
       "      <td>kp</td>\n",
       "    </tr>\n",
       "    <tr>\n",
       "      <th>2</th>\n",
       "      <td>2</td>\n",
       "      <td>fanserials.tv</td>\n",
       "      <td>Банши 4 сезон 2 серия Бремя красоты смотреть о...</td>\n",
       "      <td>0</td>\n",
       "      <td>52.0</td>\n",
       "      <td>tv</td>\n",
       "      <td>fanserials</td>\n",
       "    </tr>\n",
       "    <tr>\n",
       "      <th>3</th>\n",
       "      <td>3</td>\n",
       "      <td>colorbox.spb.ru</td>\n",
       "      <td>Не Беси Меня Картинки</td>\n",
       "      <td>0</td>\n",
       "      <td>21.0</td>\n",
       "      <td>ru</td>\n",
       "      <td>colorbox</td>\n",
       "    </tr>\n",
       "    <tr>\n",
       "      <th>4</th>\n",
       "      <td>4</td>\n",
       "      <td>tula-sport.ru</td>\n",
       "      <td>В Новомосковске сыграют следж-хоккеисты алекси...</td>\n",
       "      <td>0</td>\n",
       "      <td>83.0</td>\n",
       "      <td>ru</td>\n",
       "      <td>tula-sport</td>\n",
       "    </tr>\n",
       "  </tbody>\n",
       "</table>\n",
       "</div>"
      ],
      "text/plain": [
       "   ID              url                                              title   \n",
       "0   0          m.kp.md  Экс-министр экономики Молдовы - главе МИДЭИ, ц...  \\\n",
       "1   1        www.kp.by  Эта песня стала известна многим телезрителям б...   \n",
       "2   2    fanserials.tv  Банши 4 сезон 2 серия Бремя красоты смотреть о...   \n",
       "3   3  colorbox.spb.ru                              Не Беси Меня Картинки   \n",
       "4   4    tula-sport.ru  В Новомосковске сыграют следж-хоккеисты алекси...   \n",
       "\n",
       "   label  text_length url_domain   site_name  \n",
       "0      0        140.0         md          kp  \n",
       "1      0         74.0         by          kp  \n",
       "2      0         52.0         tv  fanserials  \n",
       "3      0         21.0         ru    colorbox  \n",
       "4      0         83.0         ru  tula-sport  "
      ]
     },
     "execution_count": 13,
     "metadata": {},
     "output_type": "execute_result"
    }
   ],
   "source": [
    "content_dataset.head()"
   ]
  },
  {
   "cell_type": "markdown",
   "metadata": {},
   "source": [
    "### Попробуем создать фичу на основе принадлежности домена к пересечению доменов классов или нет"
   ]
  },
  {
   "cell_type": "code",
   "execution_count": 14,
   "metadata": {},
   "outputs": [],
   "source": [
    "domain_positives = content_dataset.query('label == 1')['url_domain'].unique()\n",
    "domain_negatives = content_dataset.query('label == 0')['url_domain'].unique()\n",
    "intersection = np.intersect1d(domain_negatives, domain_positives)\n",
    "\n",
    "def domain_processor(x):\n",
    "    if x not in intersection:\n",
    "        if x in domain_negatives:\n",
    "            return -1\n",
    "        if x in domain_positives:\n",
    "            return 1\n",
    "    else:\n",
    "        return 0\n",
    "\n",
    "content_dataset['domain_unique_not'] = content_dataset[['url_domain']].applymap(domain_processor)"
   ]
  },
  {
   "cell_type": "code",
   "execution_count": 15,
   "metadata": {},
   "outputs": [],
   "source": [
    "content_dataset['site_length'] = content_dataset.site_name.str.len()\n",
    "content_dataset['url_length'] = content_dataset.url.str.len()"
   ]
  },
  {
   "cell_type": "markdown",
   "metadata": {},
   "source": [
    "### Посмотрим на распределение информативных частей сайтов"
   ]
  },
  {
   "cell_type": "code",
   "execution_count": 673,
   "metadata": {},
   "outputs": [
    {
     "data": {
      "text/plain": [
       "Text(0.5, 1.0, 'Distribution for negatives')"
      ]
     },
     "execution_count": 673,
     "metadata": {},
     "output_type": "execute_result"
    },
    {
     "data": {
      "image/png": "[encoded data removed]",
      "text/plain": [
       "<Figure size 1500x500 with 3 Axes>"
      ]
     },
     "metadata": {},
     "output_type": "display_data"
    }
   ],
   "source": [
    "figure, axs = plt.subplots(1, 3, sharey=True, figsize = (15, 5))\n",
    "\n",
    "lens_positive_class = content_dataset.query('label == 1').site_length.values\n",
    "lens_negative_class = content_dataset.query('label == 0').site_length.values\n",
    "\n",
    "\n",
    "axs[0].hist(content_dataset['site_length'], bins = 100)\n",
    "axs[0].set_title('Distribution for all')\n",
    "\n",
    "axs[1].hist(lens_positive_class, bins = 100, color = 'red')\n",
    "axs[1].set_title('Distribution for positives')\n",
    "\n",
    "axs[2].hist(lens_negative_class, bins = 100, color = 'green')\n",
    "axs[2].set_title('Distribution for negatives')\n"
   ]
  },
  {
   "cell_type": "markdown",
   "metadata": {},
   "source": [
    "### Как коррелируют между собой длины информативных частей и полные длины между собой"
   ]
  },
  {
   "cell_type": "code",
   "execution_count": 674,
   "metadata": {},
   "outputs": [
    {
     "data": {
      "image/png": "[encoded data removed]",
      "text/plain": [
       "<Figure size 640x480 with 1 Axes>"
      ]
     },
     "metadata": {},
     "output_type": "display_data"
    },
    {
     "name": "stdout",
     "output_type": "stream",
     "text": [
      "[[1.        0.5768507]\n",
      " [0.5768507 1.       ]]\n"
     ]
    }
   ],
   "source": [
    "plt.scatter(content_dataset['site_length'], content_dataset['url_length'], alpha = 1)\n",
    "plt.show()\n",
    "print(np.corrcoef(content_dataset['site_length'], content_dataset['url_length']))"
   ]
  },
  {
   "cell_type": "markdown",
   "metadata": {},
   "source": [
    "### Матрица корреляции всего, что поизвлекали на текущий момент"
   ]
  },
  {
   "cell_type": "code",
   "execution_count": 675,
   "metadata": {},
   "outputs": [
    {
     "data": {
      "image/png": "[encoded data removed]",
      "text/plain": [
       "<Figure size 640x480 with 2 Axes>"
      ]
     },
     "metadata": {},
     "output_type": "display_data"
    }
   ],
   "source": [
    "content_dataset_numerical = content_dataset.select_dtypes(include='number')\n",
    "content_dataset_numerical_except_label = content_dataset_numerical.drop(columns = 'label')\n",
    "dataplot = sns.heatmap(content_dataset_numerical_except_label.corr(), cmap=\"YlGnBu\", annot=True) "
   ]
  },
  {
   "cell_type": "code",
   "execution_count": 16,
   "metadata": {},
   "outputs": [],
   "source": [
    "content_dataset.title = content_dataset.title.str.lower()"
   ]
  },
  {
   "cell_type": "code",
   "execution_count": null,
   "metadata": {},
   "outputs": [],
   "source": [
    "test_dataset.title = test_dataset.title.str.lower()"
   ]
  },
  {
   "cell_type": "code",
   "execution_count": 26,
   "metadata": {},
   "outputs": [
    {
     "data": {
      "text/html": [
       "<div>\n",
       "<style scoped>\n",
       "    .dataframe tbody tr th:only-of-type {\n",
       "        vertical-align: middle;\n",
       "    }\n",
       "\n",
       "    .dataframe tbody tr th {\n",
       "        vertical-align: top;\n",
       "    }\n",
       "\n",
       "    .dataframe thead th {\n",
       "        text-align: right;\n",
       "    }\n",
       "</style>\n",
       "<table border=\"1\" class=\"dataframe\">\n",
       "  <thead>\n",
       "    <tr style=\"text-align: right;\">\n",
       "      <th></th>\n",
       "      <th>ID</th>\n",
       "      <th>url</th>\n",
       "      <th>title</th>\n",
       "      <th>url_domain</th>\n",
       "      <th>site_name</th>\n",
       "    </tr>\n",
       "  </thead>\n",
       "  <tbody>\n",
       "    <tr>\n",
       "      <th>0</th>\n",
       "      <td>135309</td>\n",
       "      <td>www.kommersant.ru</td>\n",
       "      <td>шестой кассационный суд в самаре начнет работу...</td>\n",
       "      <td>ru</td>\n",
       "      <td>kommersant</td>\n",
       "    </tr>\n",
       "    <tr>\n",
       "      <th>1</th>\n",
       "      <td>135310</td>\n",
       "      <td>urexpert.online</td>\n",
       "      <td>что такое индексация алиментов, кем и в каких ...</td>\n",
       "      <td>online</td>\n",
       "      <td>online</td>\n",
       "    </tr>\n",
       "    <tr>\n",
       "      <th>2</th>\n",
       "      <td>135311</td>\n",
       "      <td>imperimeha.ru</td>\n",
       "      <td>женщинам | империя меха - part 12</td>\n",
       "      <td>ru</td>\n",
       "      <td>imperimeha</td>\n",
       "    </tr>\n",
       "    <tr>\n",
       "      <th>3</th>\n",
       "      <td>135312</td>\n",
       "      <td>national-porn.com</td>\n",
       "      <td>небритые, волосатые киски: порно всех стран и ...</td>\n",
       "      <td>com</td>\n",
       "      <td>national-porn</td>\n",
       "    </tr>\n",
       "    <tr>\n",
       "      <th>4</th>\n",
       "      <td>135313</td>\n",
       "      <td>2gis.ru</td>\n",
       "      <td>67</td>\n",
       "      <td>ru</td>\n",
       "      <td>2gis</td>\n",
       "    </tr>\n",
       "  </tbody>\n",
       "</table>\n",
       "</div>"
      ],
      "text/plain": [
       "       ID                url   \n",
       "0  135309  www.kommersant.ru  \\\n",
       "1  135310    urexpert.online   \n",
       "2  135311      imperimeha.ru   \n",
       "3  135312  national-porn.com   \n",
       "4  135313            2gis.ru   \n",
       "\n",
       "                                               title url_domain      site_name  \n",
       "0  шестой кассационный суд в самаре начнет работу...         ru     kommersant  \n",
       "1  что такое индексация алиментов, кем и в каких ...     online         online  \n",
       "2                  женщинам | империя меха - part 12         ru     imperimeha  \n",
       "3  небритые, волосатые киски: порно всех стран и ...        com  national-porn  \n",
       "4                                                 67         ru           2gis  "
      ]
     },
     "execution_count": 26,
     "metadata": {},
     "output_type": "execute_result"
    }
   ],
   "source": [
    "test_dataset.head()"
   ]
  },
  {
   "cell_type": "code",
   "execution_count": 26,
   "metadata": {},
   "outputs": [],
   "source": [
    "content_dataset['!_text'] = content_dataset.title.str.count('!')"
   ]
  },
  {
   "cell_type": "code",
   "execution_count": 680,
   "metadata": {},
   "outputs": [
    {
     "data": {
      "text/plain": [
       "(0.0, 36.0)"
      ]
     },
     "execution_count": 680,
     "metadata": {},
     "output_type": "execute_result"
    },
    {
     "data": {
      "image/png": "[encoded data removed]",
      "text/plain": [
       "<Figure size 1500x500 with 3 Axes>"
      ]
     },
     "metadata": {},
     "output_type": "display_data"
    }
   ],
   "source": [
    "figure, axs = plt.subplots(1, 3, sharey=True, figsize = (15, 5))\n",
    "\n",
    "lens_positive_class = content_dataset.query('label == 1')['!_text'].values\n",
    "lens_negative_class = content_dataset.query('label == 0')['!_text'].values\n",
    "\n",
    "\n",
    "axs[0].hist(content_dataset['!_text'], bins = 100)\n",
    "axs[0].set_title('Distribution for all')\n",
    "\n",
    "axs[1].hist(lens_positive_class, bins = 100, color = 'red')\n",
    "axs[1].set_title('Distribution for positives')\n",
    "\n",
    "axs[2].hist(lens_negative_class, bins = 100, color = 'green')\n",
    "axs[2].set_title('Distribution for negatives')\n",
    "plt.xlim([0, 36])\n"
   ]
  },
  {
   "cell_type": "code",
   "execution_count": 27,
   "metadata": {},
   "outputs": [
    {
     "data": {
      "text/html": [
       "<div>\n",
       "<style scoped>\n",
       "    .dataframe tbody tr th:only-of-type {\n",
       "        vertical-align: middle;\n",
       "    }\n",
       "\n",
       "    .dataframe tbody tr th {\n",
       "        vertical-align: top;\n",
       "    }\n",
       "\n",
       "    .dataframe thead th {\n",
       "        text-align: right;\n",
       "    }\n",
       "</style>\n",
       "<table border=\"1\" class=\"dataframe\">\n",
       "  <thead>\n",
       "    <tr style=\"text-align: right;\">\n",
       "      <th></th>\n",
       "      <th>ID</th>\n",
       "      <th>url</th>\n",
       "      <th>title</th>\n",
       "      <th>url_domain</th>\n",
       "      <th>site_name</th>\n",
       "    </tr>\n",
       "  </thead>\n",
       "  <tbody>\n",
       "    <tr>\n",
       "      <th>0</th>\n",
       "      <td>135309</td>\n",
       "      <td>www.kommersant.ru</td>\n",
       "      <td>шестой кассационный суд в самаре начнет работу...</td>\n",
       "      <td>ru</td>\n",
       "      <td>kommersant</td>\n",
       "    </tr>\n",
       "    <tr>\n",
       "      <th>1</th>\n",
       "      <td>135310</td>\n",
       "      <td>urexpert.online</td>\n",
       "      <td>что такое индексация алиментов, кем и в каких ...</td>\n",
       "      <td>online</td>\n",
       "      <td>online</td>\n",
       "    </tr>\n",
       "    <tr>\n",
       "      <th>2</th>\n",
       "      <td>135311</td>\n",
       "      <td>imperimeha.ru</td>\n",
       "      <td>женщинам | империя меха - part 12</td>\n",
       "      <td>ru</td>\n",
       "      <td>imperimeha</td>\n",
       "    </tr>\n",
       "    <tr>\n",
       "      <th>3</th>\n",
       "      <td>135312</td>\n",
       "      <td>national-porn.com</td>\n",
       "      <td>небритые, волосатые киски: порно всех стран и ...</td>\n",
       "      <td>com</td>\n",
       "      <td>national-porn</td>\n",
       "    </tr>\n",
       "    <tr>\n",
       "      <th>4</th>\n",
       "      <td>135313</td>\n",
       "      <td>2gis.ru</td>\n",
       "      <td>67</td>\n",
       "      <td>ru</td>\n",
       "      <td>2gis</td>\n",
       "    </tr>\n",
       "  </tbody>\n",
       "</table>\n",
       "</div>"
      ],
      "text/plain": [
       "       ID                url   \n",
       "0  135309  www.kommersant.ru  \\\n",
       "1  135310    urexpert.online   \n",
       "2  135311      imperimeha.ru   \n",
       "3  135312  national-porn.com   \n",
       "4  135313            2gis.ru   \n",
       "\n",
       "                                               title url_domain      site_name  \n",
       "0  шестой кассационный суд в самаре начнет работу...         ru     kommersant  \n",
       "1  что такое индексация алиментов, кем и в каких ...     online         online  \n",
       "2                  женщинам | империя меха - part 12         ru     imperimeha  \n",
       "3  небритые, волосатые киски: порно всех стран и ...        com  national-porn  \n",
       "4                                                 67         ru           2gis  "
      ]
     },
     "execution_count": 27,
     "metadata": {},
     "output_type": "execute_result"
    }
   ],
   "source": [
    "test_dataset.head()"
   ]
  },
  {
   "cell_type": "code",
   "execution_count": 17,
   "metadata": {},
   "outputs": [
    {
     "data": {
      "text/plain": [
       "array(['экс-министр экономики молдовы - главе мидэи, цель которого сделать из республики не просителя, а донора: надо избегать долгого нахождения н�',\n",
       "       'эта песня стала известна многим телезрителям благодаря сериалу диверсант-2',\n",
       "       'банши 4 сезон 2 серия бремя красоты смотреть онлайн!',\n",
       "       'не беси меня картинки',\n",
       "       'в новомосковске сыграют следж-хоккеисты алексинской «звезды» и сборной китая | т...',\n",
       "       'салат: корейская морковь + копченая курица + кукуруза + сухарики, мой: калорийность, белки, жиры, углеводы',\n",
       "       'угловой пневмогайковерт fubag rwc 105 1/2\" 100320 в екатеринбурге - купить, цены, отзывы, характеристики, фото, инструкция',\n",
       "       'табачный магазин `мир табака` | курительные трубки | stanwell | курительная труб',\n",
       "       'league of legends » page 5 » porn comics free online',\n",
       "       '08:00 (4766р), одесса - ростов-на-дону 20 сентября 2019, фаворит чп'],\n",
       "      dtype=object)"
      ]
     },
     "execution_count": 17,
     "metadata": {},
     "output_type": "execute_result"
    }
   ],
   "source": [
    "corpus_texts = content_dataset.title.values\n",
    "corpus_texts[:10]"
   ]
  },
  {
   "cell_type": "code",
   "execution_count": 18,
   "metadata": {},
   "outputs": [],
   "source": [
    "def unidecoder(x):\n",
    "    return unidecode(x)"
   ]
  },
  {
   "cell_type": "code",
   "execution_count": 13,
   "metadata": {},
   "outputs": [],
   "source": [
    "content_dataset['title'] = content_dataset[['title']].applymap(unidecoder)"
   ]
  },
  {
   "cell_type": "code",
   "execution_count": 32,
   "metadata": {},
   "outputs": [
    {
     "data": {
      "text/plain": [
       "'I love you'"
      ]
     },
     "execution_count": 32,
     "metadata": {},
     "output_type": "execute_result"
    }
   ],
   "source": [
    "def translator(x):\n",
    "    translated = GoogleTranslator(source='auto', target='en').translate(text=x)\n",
    "    return translated\n",
    "\n",
    "translator('Я люблю тебя')"
   ]
  },
  {
   "cell_type": "code",
   "execution_count": null,
   "metadata": {},
   "outputs": [],
   "source": [
    "content_dataset['title'] = content_dataset[['title']].applymap(translator)"
   ]
  },
  {
   "cell_type": "code",
   "execution_count": 19,
   "metadata": {},
   "outputs": [
    {
     "data": {
      "text/html": [
       "<div>\n",
       "<style scoped>\n",
       "    .dataframe tbody tr th:only-of-type {\n",
       "        vertical-align: middle;\n",
       "    }\n",
       "\n",
       "    .dataframe tbody tr th {\n",
       "        vertical-align: top;\n",
       "    }\n",
       "\n",
       "    .dataframe thead th {\n",
       "        text-align: right;\n",
       "    }\n",
       "</style>\n",
       "<table border=\"1\" class=\"dataframe\">\n",
       "  <thead>\n",
       "    <tr style=\"text-align: right;\">\n",
       "      <th></th>\n",
       "      <th>ID</th>\n",
       "      <th>url</th>\n",
       "      <th>title</th>\n",
       "      <th>label</th>\n",
       "      <th>text_length</th>\n",
       "      <th>url_domain</th>\n",
       "      <th>site_name</th>\n",
       "      <th>domain_unique_not</th>\n",
       "      <th>site_length</th>\n",
       "      <th>url_length</th>\n",
       "    </tr>\n",
       "  </thead>\n",
       "  <tbody>\n",
       "    <tr>\n",
       "      <th>0</th>\n",
       "      <td>0</td>\n",
       "      <td>m.kp.md</td>\n",
       "      <td>экс-министр экономики молдовы - главе мидэи, ц...</td>\n",
       "      <td>0</td>\n",
       "      <td>140.0</td>\n",
       "      <td>md</td>\n",
       "      <td>kp</td>\n",
       "      <td>-1</td>\n",
       "      <td>2</td>\n",
       "      <td>7</td>\n",
       "    </tr>\n",
       "    <tr>\n",
       "      <th>1</th>\n",
       "      <td>1</td>\n",
       "      <td>www.kp.by</td>\n",
       "      <td>эта песня стала известна многим телезрителям б...</td>\n",
       "      <td>0</td>\n",
       "      <td>74.0</td>\n",
       "      <td>by</td>\n",
       "      <td>kp</td>\n",
       "      <td>0</td>\n",
       "      <td>2</td>\n",
       "      <td>9</td>\n",
       "    </tr>\n",
       "    <tr>\n",
       "      <th>2</th>\n",
       "      <td>2</td>\n",
       "      <td>fanserials.tv</td>\n",
       "      <td>банши 4 сезон 2 серия бремя красоты смотреть о...</td>\n",
       "      <td>0</td>\n",
       "      <td>52.0</td>\n",
       "      <td>tv</td>\n",
       "      <td>fanserials</td>\n",
       "      <td>0</td>\n",
       "      <td>10</td>\n",
       "      <td>13</td>\n",
       "    </tr>\n",
       "    <tr>\n",
       "      <th>3</th>\n",
       "      <td>3</td>\n",
       "      <td>colorbox.spb.ru</td>\n",
       "      <td>не беси меня картинки</td>\n",
       "      <td>0</td>\n",
       "      <td>21.0</td>\n",
       "      <td>ru</td>\n",
       "      <td>colorbox</td>\n",
       "      <td>0</td>\n",
       "      <td>8</td>\n",
       "      <td>15</td>\n",
       "    </tr>\n",
       "    <tr>\n",
       "      <th>4</th>\n",
       "      <td>4</td>\n",
       "      <td>tula-sport.ru</td>\n",
       "      <td>в новомосковске сыграют следж-хоккеисты алекси...</td>\n",
       "      <td>0</td>\n",
       "      <td>83.0</td>\n",
       "      <td>ru</td>\n",
       "      <td>tula-sport</td>\n",
       "      <td>0</td>\n",
       "      <td>10</td>\n",
       "      <td>13</td>\n",
       "    </tr>\n",
       "  </tbody>\n",
       "</table>\n",
       "</div>"
      ],
      "text/plain": [
       "   ID              url                                              title   \n",
       "0   0          m.kp.md  экс-министр экономики молдовы - главе мидэи, ц...  \\\n",
       "1   1        www.kp.by  эта песня стала известна многим телезрителям б...   \n",
       "2   2    fanserials.tv  банши 4 сезон 2 серия бремя красоты смотреть о...   \n",
       "3   3  colorbox.spb.ru                              не беси меня картинки   \n",
       "4   4    tula-sport.ru  в новомосковске сыграют следж-хоккеисты алекси...   \n",
       "\n",
       "   label  text_length url_domain   site_name  domain_unique_not  site_length   \n",
       "0      0        140.0         md          kp                 -1            2  \\\n",
       "1      0         74.0         by          kp                  0            2   \n",
       "2      0         52.0         tv  fanserials                  0           10   \n",
       "3      0         21.0         ru    colorbox                  0            8   \n",
       "4      0         83.0         ru  tula-sport                  0           10   \n",
       "\n",
       "   url_length  \n",
       "0           7  \n",
       "1           9  \n",
       "2          13  \n",
       "3          15  \n",
       "4          13  "
      ]
     },
     "execution_count": 19,
     "metadata": {},
     "output_type": "execute_result"
    }
   ],
   "source": [
    "content_dataset.head(5)"
   ]
  },
  {
   "cell_type": "markdown",
   "metadata": {},
   "source": [
    "### Токенизация"
   ]
  },
  {
   "cell_type": "code",
   "execution_count": 20,
   "metadata": {},
   "outputs": [],
   "source": [
    "def tokenize(text):\n",
    "    return re.findall(TOKEN_PATTERN, text.lower())\n",
    "\n",
    "documents = [tokenize(str(text)) for text in corpus_texts]"
   ]
  },
  {
   "cell_type": "code",
   "execution_count": 21,
   "metadata": {},
   "outputs": [
    {
     "data": {
      "text/plain": [
       "162308"
      ]
     },
     "execution_count": 21,
     "metadata": {},
     "output_type": "execute_result"
    }
   ],
   "source": [
    "occurence = Counter([text for document in documents for text in document])\n",
    "len(occurence)"
   ]
  },
  {
   "cell_type": "markdown",
   "metadata": {},
   "source": [
    "### Всего получили 164142 слов, которые необходимо отфильтровать и использовать в фичеризации\n",
    "### Самые встречающиеся"
   ]
  },
  {
   "cell_type": "code",
   "execution_count": null,
   "metadata": {},
   "outputs": [],
   "source": [
    "occurence.most_common(10) # Предлоги как и ожидалось заняли первое место"
   ]
  },
  {
   "cell_type": "markdown",
   "metadata": {},
   "source": [
    "### Распределение слов по частоте"
   ]
  },
  {
   "cell_type": "code",
   "execution_count": 22,
   "metadata": {},
   "outputs": [
    {
     "data": {
      "image/png": "[encoded data removed]",
      "text/plain": [
       "<Figure size 640x480 with 1 Axes>"
      ]
     },
     "metadata": {},
     "output_type": "display_data"
    }
   ],
   "source": [
    "stopword_set = set(nltk.corpus.stopwords.words('russian'))\n",
    "stopword_set_english = set(nltk.corpus.stopwords.words('english'))\n",
    "stopword_set = stopword_set.union({'это', 'который', 'весь', 'наш', 'свой', 'ещё', 'её', 'ваш', 'также', 'итак'})\n",
    "stopword_set = stopword_set.union(stopword_set_english)\n",
    "\n",
    "max_rank = 100000\n",
    "\n",
    "counts = [count for i, count in occurence.most_common()[:max_rank]]\n",
    "\n",
    "plt.plot(range(1, len(counts) + 1), counts)\n",
    "plt.title('log-log scale', fontsize=18)\n",
    "plt.yscale('log')\n",
    "plt.xscale('log')\n",
    "plt.xticks(fontsize=14)\n",
    "plt.yticks(fontsize=14)\n",
    "plt.xlabel('rank', fontsize=16)\n",
    "plt.ylabel('count', fontsize=16)\n",
    "plt.tight_layout()\n",
    "plt.show()"
   ]
  },
  {
   "cell_type": "code",
   "execution_count": null,
   "metadata": {},
   "outputs": [],
   "source": [
    "# stemmer_russian = nltk.stem.SnowballStemmer('russian')\n",
    "# stemmer_english = nltk.stem.SnowballStemmer('english')\n",
    "lemmatizer = pymorphy2.MorphAnalyzer()\n",
    "\n",
    "lemmatizer_cache = {}\n",
    "\n",
    "def lemmatize(token):\n",
    "    if lemmatizer.word_is_known(token):\n",
    "        if token not in lemmatizer_cache:\n",
    "            lemmatizer_cache[token] = lemmatizer.parse(token)[0].normal_form\n",
    "        return lemmatizer_cache[token]\n",
    "    return token\n",
    "\n",
    "lemmatized_docs = [[lemmatize(token) for token in text] for text in tqdm_notebook(documents)]\n",
    "\n",
    "cleared_docs = [[token for token in text if token not in stopword_set] for text in lemmatized_docs]"
   ]
  },
  {
   "cell_type": "markdown",
   "metadata": {},
   "source": [
    "### Итак, отфильтровали при помощи лемматизации. После данных преобразований словарь уменьшился почти что в два раза по сути без особых потерь информации! Неплохо"
   ]
  },
  {
   "cell_type": "code",
   "execution_count": null,
   "metadata": {},
   "outputs": [],
   "source": [
    "for array in tqdm_notebook(cleared_docs):\n",
    "    array = [translator(word) for word in array]"
   ]
  },
  {
   "cell_type": "code",
   "execution_count": 28,
   "metadata": {},
   "outputs": [
    {
     "data": {
      "text/plain": [
       "118053"
      ]
     },
     "execution_count": 28,
     "metadata": {},
     "output_type": "execute_result"
    }
   ],
   "source": [
    "len({token for text in cleared_docs for token in text})"
   ]
  },
  {
   "cell_type": "markdown",
   "metadata": {},
   "source": [
    "### Обновим датасет"
   ]
  },
  {
   "cell_type": "code",
   "execution_count": 24,
   "metadata": {},
   "outputs": [],
   "source": [
    "content_dataset['title'] = cleared_docs"
   ]
  },
  {
   "cell_type": "code",
   "execution_count": 25,
   "metadata": {},
   "outputs": [
    {
     "data": {
      "text/html": [
       "<div>\n",
       "<style scoped>\n",
       "    .dataframe tbody tr th:only-of-type {\n",
       "        vertical-align: middle;\n",
       "    }\n",
       "\n",
       "    .dataframe tbody tr th {\n",
       "        vertical-align: top;\n",
       "    }\n",
       "\n",
       "    .dataframe thead th {\n",
       "        text-align: right;\n",
       "    }\n",
       "</style>\n",
       "<table border=\"1\" class=\"dataframe\">\n",
       "  <thead>\n",
       "    <tr style=\"text-align: right;\">\n",
       "      <th></th>\n",
       "      <th>ID</th>\n",
       "      <th>url</th>\n",
       "      <th>title</th>\n",
       "      <th>label</th>\n",
       "      <th>text_length</th>\n",
       "      <th>url_domain</th>\n",
       "      <th>site_name</th>\n",
       "      <th>domain_unique_not</th>\n",
       "      <th>site_length</th>\n",
       "      <th>url_length</th>\n",
       "    </tr>\n",
       "  </thead>\n",
       "  <tbody>\n",
       "    <tr>\n",
       "      <th>0</th>\n",
       "      <td>0</td>\n",
       "      <td>m.kp.md</td>\n",
       "      <td>[экс, министр, экономика, молдова, глава, мидэ...</td>\n",
       "      <td>0</td>\n",
       "      <td>140.0</td>\n",
       "      <td>md</td>\n",
       "      <td>kp</td>\n",
       "      <td>-1</td>\n",
       "      <td>2</td>\n",
       "      <td>7</td>\n",
       "    </tr>\n",
       "    <tr>\n",
       "      <th>1</th>\n",
       "      <td>1</td>\n",
       "      <td>www.kp.by</td>\n",
       "      <td>[песня, стать, известный, многий, телезритель,...</td>\n",
       "      <td>0</td>\n",
       "      <td>74.0</td>\n",
       "      <td>by</td>\n",
       "      <td>kp</td>\n",
       "      <td>0</td>\n",
       "      <td>2</td>\n",
       "      <td>9</td>\n",
       "    </tr>\n",
       "    <tr>\n",
       "      <th>2</th>\n",
       "      <td>2</td>\n",
       "      <td>fanserials.tv</td>\n",
       "      <td>[банши, сезон, серия, бремя, красота, смотреть...</td>\n",
       "      <td>0</td>\n",
       "      <td>52.0</td>\n",
       "      <td>tv</td>\n",
       "      <td>fanserials</td>\n",
       "      <td>0</td>\n",
       "      <td>10</td>\n",
       "      <td>13</td>\n",
       "    </tr>\n",
       "    <tr>\n",
       "      <th>3</th>\n",
       "      <td>3</td>\n",
       "      <td>colorbox.spb.ru</td>\n",
       "      <td>[бесить, картинка]</td>\n",
       "      <td>0</td>\n",
       "      <td>21.0</td>\n",
       "      <td>ru</td>\n",
       "      <td>colorbox</td>\n",
       "      <td>0</td>\n",
       "      <td>8</td>\n",
       "      <td>15</td>\n",
       "    </tr>\n",
       "    <tr>\n",
       "      <th>4</th>\n",
       "      <td>4</td>\n",
       "      <td>tula-sport.ru</td>\n",
       "      <td>[новомосковск, сыграть, следж, хоккеист, алекс...</td>\n",
       "      <td>0</td>\n",
       "      <td>83.0</td>\n",
       "      <td>ru</td>\n",
       "      <td>tula-sport</td>\n",
       "      <td>0</td>\n",
       "      <td>10</td>\n",
       "      <td>13</td>\n",
       "    </tr>\n",
       "    <tr>\n",
       "      <th>...</th>\n",
       "      <td>...</td>\n",
       "      <td>...</td>\n",
       "      <td>...</td>\n",
       "      <td>...</td>\n",
       "      <td>...</td>\n",
       "      <td>...</td>\n",
       "      <td>...</td>\n",
       "      <td>...</td>\n",
       "      <td>...</td>\n",
       "      <td>...</td>\n",
       "    </tr>\n",
       "    <tr>\n",
       "      <th>135304</th>\n",
       "      <td>135304</td>\n",
       "      <td>mail.ru</td>\n",
       "      <td>[пора, тюльпан, турецкий, сериал, русский, язы...</td>\n",
       "      <td>0</td>\n",
       "      <td>82.0</td>\n",
       "      <td>ru</td>\n",
       "      <td>mail</td>\n",
       "      <td>0</td>\n",
       "      <td>4</td>\n",
       "      <td>7</td>\n",
       "    </tr>\n",
       "    <tr>\n",
       "      <th>135305</th>\n",
       "      <td>135305</td>\n",
       "      <td>www.ntv.ru</td>\n",
       "      <td>[остросюжетный, сериал, шеф, игра, повышение, ...</td>\n",
       "      <td>0</td>\n",
       "      <td>56.0</td>\n",
       "      <td>ru</td>\n",
       "      <td>ntv</td>\n",
       "      <td>0</td>\n",
       "      <td>3</td>\n",
       "      <td>10</td>\n",
       "    </tr>\n",
       "    <tr>\n",
       "      <th>135306</th>\n",
       "      <td>135306</td>\n",
       "      <td>topclassiccarsforsale.com</td>\n",
       "      <td>[plymouth, special, deluxe, hot, rod, automati...</td>\n",
       "      <td>0</td>\n",
       "      <td>135.0</td>\n",
       "      <td>com</td>\n",
       "      <td>topclassiccarsforsale</td>\n",
       "      <td>0</td>\n",
       "      <td>21</td>\n",
       "      <td>25</td>\n",
       "    </tr>\n",
       "    <tr>\n",
       "      <th>135307</th>\n",
       "      <td>135307</td>\n",
       "      <td>wowcream.ru</td>\n",
       "      <td>[купить, skin, сыворотка, питательный, power, ...</td>\n",
       "      <td>0</td>\n",
       "      <td>94.0</td>\n",
       "      <td>ru</td>\n",
       "      <td>wowcream</td>\n",
       "      <td>0</td>\n",
       "      <td>8</td>\n",
       "      <td>11</td>\n",
       "    </tr>\n",
       "    <tr>\n",
       "      <th>135308</th>\n",
       "      <td>135308</td>\n",
       "      <td>www.ubu.ru</td>\n",
       "      <td>[технический, спирт, канистра, флакон, купить,...</td>\n",
       "      <td>0</td>\n",
       "      <td>57.0</td>\n",
       "      <td>ru</td>\n",
       "      <td>ubu</td>\n",
       "      <td>0</td>\n",
       "      <td>3</td>\n",
       "      <td>10</td>\n",
       "    </tr>\n",
       "  </tbody>\n",
       "</table>\n",
       "<p>134078 rows × 10 columns</p>\n",
       "</div>"
      ],
      "text/plain": [
       "            ID                        url   \n",
       "0            0                    m.kp.md  \\\n",
       "1            1                  www.kp.by   \n",
       "2            2              fanserials.tv   \n",
       "3            3            colorbox.spb.ru   \n",
       "4            4              tula-sport.ru   \n",
       "...        ...                        ...   \n",
       "135304  135304                    mail.ru   \n",
       "135305  135305                 www.ntv.ru   \n",
       "135306  135306  topclassiccarsforsale.com   \n",
       "135307  135307                wowcream.ru   \n",
       "135308  135308                 www.ubu.ru   \n",
       "\n",
       "                                                    title  label  text_length   \n",
       "0       [экс, министр, экономика, молдова, глава, мидэ...      0        140.0  \\\n",
       "1       [песня, стать, известный, многий, телезритель,...      0         74.0   \n",
       "2       [банши, сезон, серия, бремя, красота, смотреть...      0         52.0   \n",
       "3                                      [бесить, картинка]      0         21.0   \n",
       "4       [новомосковск, сыграть, следж, хоккеист, алекс...      0         83.0   \n",
       "...                                                   ...    ...          ...   \n",
       "135304  [пора, тюльпан, турецкий, сериал, русский, язы...      0         82.0   \n",
       "135305  [остросюжетный, сериал, шеф, игра, повышение, ...      0         56.0   \n",
       "135306  [plymouth, special, deluxe, hot, rod, automati...      0        135.0   \n",
       "135307  [купить, skin, сыворотка, питательный, power, ...      0         94.0   \n",
       "135308  [технический, спирт, канистра, флакон, купить,...      0         57.0   \n",
       "\n",
       "       url_domain              site_name  domain_unique_not  site_length   \n",
       "0              md                     kp                 -1            2  \\\n",
       "1              by                     kp                  0            2   \n",
       "2              tv             fanserials                  0           10   \n",
       "3              ru               colorbox                  0            8   \n",
       "4              ru             tula-sport                  0           10   \n",
       "...           ...                    ...                ...          ...   \n",
       "135304         ru                   mail                  0            4   \n",
       "135305         ru                    ntv                  0            3   \n",
       "135306        com  topclassiccarsforsale                  0           21   \n",
       "135307         ru               wowcream                  0            8   \n",
       "135308         ru                    ubu                  0            3   \n",
       "\n",
       "        url_length  \n",
       "0                7  \n",
       "1                9  \n",
       "2               13  \n",
       "3               15  \n",
       "4               13  \n",
       "...            ...  \n",
       "135304           7  \n",
       "135305          10  \n",
       "135306          25  \n",
       "135307          11  \n",
       "135308          10  \n",
       "\n",
       "[134078 rows x 10 columns]"
      ]
     },
     "execution_count": 25,
     "metadata": {},
     "output_type": "execute_result"
    }
   ],
   "source": [
    "content_dataset"
   ]
  },
  {
   "cell_type": "markdown",
   "metadata": {},
   "source": [
    "### Теперь поcчитаем для каждого объекта датасета количество частей речи"
   ]
  },
  {
   "cell_type": "code",
   "execution_count": null,
   "metadata": {},
   "outputs": [],
   "source": [
    "def count_lexemes(x):\n",
    "    dict_lexemes = {}\n",
    "    for word in x:\n",
    "        result =  lemmatizer.parse(word)\n",
    "        lexeme = result[0].tag.POS\n",
    "        if lexeme not in list(dict_lexemes.keys()):\n",
    "            dict_lexemes[lexeme] = 1\n",
    "        else:\n",
    "            dict_lexemes[lexeme] += 1\n",
    "        \n",
    "    return dict_lexemes\n",
    "\n",
    "content_dataset['lexemes'] = content_dataset[['title']].applymap(count_lexemes)"
   ]
  },
  {
   "cell_type": "code",
   "execution_count": 156,
   "metadata": {},
   "outputs": [],
   "source": [
    "dicts = content_dataset.lexemes.values\n",
    "indexes = content_dataset.lexemes.index\n",
    "\n",
    "sub_dataset = pd.DataFrame()\n",
    "for i in indexes:\n",
    "    sub_dataset = sub_dataset._append(dicts[i], ignore_index = True)"
   ]
  },
  {
   "cell_type": "code",
   "execution_count": 185,
   "metadata": {},
   "outputs": [
    {
     "data": {
      "text/html": [
       "<div>\n",
       "<style scoped>\n",
       "    .dataframe tbody tr th:only-of-type {\n",
       "        vertical-align: middle;\n",
       "    }\n",
       "\n",
       "    .dataframe tbody tr th {\n",
       "        vertical-align: top;\n",
       "    }\n",
       "\n",
       "    .dataframe thead th {\n",
       "        text-align: right;\n",
       "    }\n",
       "</style>\n",
       "<table border=\"1\" class=\"dataframe\">\n",
       "  <thead>\n",
       "    <tr style=\"text-align: right;\">\n",
       "      <th></th>\n",
       "      <th>NOUN</th>\n",
       "      <th>INFN</th>\n",
       "      <th>ADJF</th>\n",
       "      <th>ADVB</th>\n",
       "    </tr>\n",
       "  </thead>\n",
       "  <tbody>\n",
       "    <tr>\n",
       "      <th>0</th>\n",
       "      <td>12.0</td>\n",
       "      <td>2.0</td>\n",
       "      <td>1.0</td>\n",
       "      <td>0.0</td>\n",
       "    </tr>\n",
       "    <tr>\n",
       "      <th>1</th>\n",
       "      <td>4.0</td>\n",
       "      <td>1.0</td>\n",
       "      <td>2.0</td>\n",
       "      <td>0.0</td>\n",
       "    </tr>\n",
       "    <tr>\n",
       "      <th>2</th>\n",
       "      <td>5.0</td>\n",
       "      <td>1.0</td>\n",
       "      <td>0.0</td>\n",
       "      <td>1.0</td>\n",
       "    </tr>\n",
       "    <tr>\n",
       "      <th>3</th>\n",
       "      <td>1.0</td>\n",
       "      <td>1.0</td>\n",
       "      <td>0.0</td>\n",
       "      <td>0.0</td>\n",
       "    </tr>\n",
       "    <tr>\n",
       "      <th>4</th>\n",
       "      <td>6.0</td>\n",
       "      <td>1.0</td>\n",
       "      <td>1.0</td>\n",
       "      <td>0.0</td>\n",
       "    </tr>\n",
       "    <tr>\n",
       "      <th>5</th>\n",
       "      <td>9.0</td>\n",
       "      <td>0.0</td>\n",
       "      <td>2.0</td>\n",
       "      <td>0.0</td>\n",
       "    </tr>\n",
       "    <tr>\n",
       "      <th>6</th>\n",
       "      <td>8.0</td>\n",
       "      <td>1.0</td>\n",
       "      <td>0.0</td>\n",
       "      <td>0.0</td>\n",
       "    </tr>\n",
       "    <tr>\n",
       "      <th>7</th>\n",
       "      <td>5.0</td>\n",
       "      <td>0.0</td>\n",
       "      <td>3.0</td>\n",
       "      <td>0.0</td>\n",
       "    </tr>\n",
       "    <tr>\n",
       "      <th>8</th>\n",
       "      <td>0.0</td>\n",
       "      <td>0.0</td>\n",
       "      <td>0.0</td>\n",
       "      <td>0.0</td>\n",
       "    </tr>\n",
       "    <tr>\n",
       "      <th>9</th>\n",
       "      <td>7.0</td>\n",
       "      <td>0.0</td>\n",
       "      <td>0.0</td>\n",
       "      <td>0.0</td>\n",
       "    </tr>\n",
       "  </tbody>\n",
       "</table>\n",
       "</div>"
      ],
      "text/plain": [
       "   NOUN  INFN  ADJF  ADVB\n",
       "0  12.0   2.0   1.0   0.0\n",
       "1   4.0   1.0   2.0   0.0\n",
       "2   5.0   1.0   0.0   1.0\n",
       "3   1.0   1.0   0.0   0.0\n",
       "4   6.0   1.0   1.0   0.0\n",
       "5   9.0   0.0   2.0   0.0\n",
       "6   8.0   1.0   0.0   0.0\n",
       "7   5.0   0.0   3.0   0.0\n",
       "8   0.0   0.0   0.0   0.0\n",
       "9   7.0   0.0   0.0   0.0"
      ]
     },
     "execution_count": 185,
     "metadata": {},
     "output_type": "execute_result"
    }
   ],
   "source": [
    "sub_dataset.head(10)"
   ]
  },
  {
   "cell_type": "markdown",
   "metadata": {},
   "source": [
    "### Мне стало интересно поработать с частями речи и я решил посмотреть рапределения по частям речи для title'ов"
   ]
  },
  {
   "cell_type": "code",
   "execution_count": 186,
   "metadata": {},
   "outputs": [
    {
     "data": {
      "text/plain": [
       "NOUN    117368\n",
       "INFN     46827\n",
       "ADJF     64593\n",
       "ADVB     22899\n",
       "dtype: int64"
      ]
     },
     "execution_count": 186,
     "metadata": {},
     "output_type": "execute_result"
    }
   ],
   "source": [
    "sub_dataset = sub_dataset.fillna(0)\n",
    "indexes = sub_dataset.astype(bool).sum()\n",
    "indexes"
   ]
  },
  {
   "cell_type": "code",
   "execution_count": null,
   "metadata": {},
   "outputs": [],
   "source": [
    "indexes = pd.DataFrame(indexes).loc[:, 0] > 20000\n",
    "drop_columns = indexes[indexes == False].index\n",
    "sub_dataset = sub_dataset.drop(columns = drop_columns) \n",
    "sub_dataset = sub_dataset.drop(columns = [None])\n",
    "\n",
    "sub_dataset.head()"
   ]
  },
  {
   "cell_type": "code",
   "execution_count": 161,
   "metadata": {},
   "outputs": [],
   "source": [
    "content_dataset = pd.concat([content_dataset, sub_dataset], axis = 1)"
   ]
  },
  {
   "cell_type": "code",
   "execution_count": 164,
   "metadata": {},
   "outputs": [],
   "source": [
    "content_dataset = content_dataset.drop(columns = ['lexemes'])"
   ]
  },
  {
   "cell_type": "code",
   "execution_count": 55,
   "metadata": {},
   "outputs": [
    {
     "data": {
      "text/plain": [
       "Text(0.5, 1.0, 'Distribution for negatives')"
      ]
     },
     "execution_count": 55,
     "metadata": {},
     "output_type": "execute_result"
    },
    {
     "data": {
      "image/png": "[encoded data removed]",
      "text/plain": [
       "<Figure size 1500x500 with 3 Axes>"
      ]
     },
     "metadata": {},
     "output_type": "display_data"
    }
   ],
   "source": [
    "figure, axs = plt.subplots(1, 3, sharey=True, figsize = (15, 5))\n",
    "\n",
    "lens_positive_class = content_dataset.query('label == 1').NOUN.values\n",
    "lens_negative_class = content_dataset.query('label == 0').NOUN.values\n",
    "\n",
    "\n",
    "axs[0].hist(content_dataset['NOUN'], bins = 100)\n",
    "axs[0].set_title('Distribution for all *NOUNs*')\n",
    "\n",
    "axs[1].hist(lens_positive_class, bins = 100, color = 'red')\n",
    "axs[1].set_title('Distribution for positives')\n",
    "\n",
    "axs[2].hist(lens_negative_class, bins = 100, color = 'green')\n",
    "axs[2].set_title('Distribution for negatives')\n"
   ]
  },
  {
   "cell_type": "code",
   "execution_count": 56,
   "metadata": {},
   "outputs": [
    {
     "data": {
      "text/plain": [
       "Text(0.5, 1.0, 'Distribution for negatives')"
      ]
     },
     "execution_count": 56,
     "metadata": {},
     "output_type": "execute_result"
    },
    {
     "data": {
      "image/png": "[encoded data removed]",
      "text/plain": [
       "<Figure size 1500x500 with 3 Axes>"
      ]
     },
     "metadata": {},
     "output_type": "display_data"
    }
   ],
   "source": [
    "figure, axs = plt.subplots(1, 3, sharey=True, figsize = (15, 5))\n",
    "\n",
    "lens_positive_class = content_dataset.query('label == 1').INFN.values\n",
    "lens_negative_class = content_dataset.query('label == 0').INFN.values\n",
    "\n",
    "\n",
    "axs[0].hist(content_dataset['INFN'], bins = 50)\n",
    "axs[0].set_title('Distribution for all *INFINITIVs*')\n",
    "\n",
    "axs[1].hist(lens_positive_class, bins = 50, color = 'red')\n",
    "axs[1].set_title('Distribution for positives')\n",
    "\n",
    "axs[2].hist(lens_negative_class, bins = 50, color = 'green')\n",
    "axs[2].set_title('Distribution for negatives')\n"
   ]
  },
  {
   "cell_type": "code",
   "execution_count": 57,
   "metadata": {},
   "outputs": [
    {
     "data": {
      "text/plain": [
       "Text(0.5, 1.0, 'Distribution for negatives')"
      ]
     },
     "execution_count": 57,
     "metadata": {},
     "output_type": "execute_result"
    },
    {
     "data": {
      "image/png": "[encoded data removed]",
      "text/plain": [
       "<Figure size 1500x500 with 3 Axes>"
      ]
     },
     "metadata": {},
     "output_type": "display_data"
    }
   ],
   "source": [
    "figure, axs = plt.subplots(1, 3, sharey=True, figsize = (15, 5))\n",
    "\n",
    "lens_positive_class = content_dataset.query('label == 1').ADJF.values\n",
    "lens_negative_class = content_dataset.query('label == 0').ADJF.values\n",
    "\n",
    "\n",
    "axs[0].hist(content_dataset['ADJF'], bins = 50)\n",
    "axs[0].set_title('Distribution for all *ADJACTIVEs*')\n",
    "\n",
    "axs[1].hist(lens_positive_class, bins = 50, color = 'red')\n",
    "axs[1].set_title('Distribution for positives')\n",
    "\n",
    "axs[2].hist(lens_negative_class, bins = 50, color = 'green')\n",
    "axs[2].set_title('Distribution for negatives')\n"
   ]
  },
  {
   "cell_type": "code",
   "execution_count": 165,
   "metadata": {},
   "outputs": [],
   "source": [
    "content_dataset = content_dataset.drop(columns = ['ADVB'])"
   ]
  },
  {
   "cell_type": "code",
   "execution_count": 26,
   "metadata": {},
   "outputs": [
    {
     "data": {
      "text/html": [
       "<div>\n",
       "<style scoped>\n",
       "    .dataframe tbody tr th:only-of-type {\n",
       "        vertical-align: middle;\n",
       "    }\n",
       "\n",
       "    .dataframe tbody tr th {\n",
       "        vertical-align: top;\n",
       "    }\n",
       "\n",
       "    .dataframe thead th {\n",
       "        text-align: right;\n",
       "    }\n",
       "</style>\n",
       "<table border=\"1\" class=\"dataframe\">\n",
       "  <thead>\n",
       "    <tr style=\"text-align: right;\">\n",
       "      <th></th>\n",
       "      <th>ID</th>\n",
       "      <th>url</th>\n",
       "      <th>title</th>\n",
       "      <th>label</th>\n",
       "      <th>text_length</th>\n",
       "      <th>url_domain</th>\n",
       "      <th>site_name</th>\n",
       "      <th>domain_unique_not</th>\n",
       "      <th>site_length</th>\n",
       "      <th>url_length</th>\n",
       "    </tr>\n",
       "  </thead>\n",
       "  <tbody>\n",
       "    <tr>\n",
       "      <th>0</th>\n",
       "      <td>0</td>\n",
       "      <td>m.kp.md</td>\n",
       "      <td>[экс, министр, экономика, молдова, глава, мидэ...</td>\n",
       "      <td>0</td>\n",
       "      <td>140.0</td>\n",
       "      <td>md</td>\n",
       "      <td>kp</td>\n",
       "      <td>-1</td>\n",
       "      <td>2</td>\n",
       "      <td>7</td>\n",
       "    </tr>\n",
       "    <tr>\n",
       "      <th>1</th>\n",
       "      <td>1</td>\n",
       "      <td>www.kp.by</td>\n",
       "      <td>[песня, стать, известный, многий, телезритель,...</td>\n",
       "      <td>0</td>\n",
       "      <td>74.0</td>\n",
       "      <td>by</td>\n",
       "      <td>kp</td>\n",
       "      <td>0</td>\n",
       "      <td>2</td>\n",
       "      <td>9</td>\n",
       "    </tr>\n",
       "    <tr>\n",
       "      <th>2</th>\n",
       "      <td>2</td>\n",
       "      <td>fanserials.tv</td>\n",
       "      <td>[банши, сезон, серия, бремя, красота, смотреть...</td>\n",
       "      <td>0</td>\n",
       "      <td>52.0</td>\n",
       "      <td>tv</td>\n",
       "      <td>fanserials</td>\n",
       "      <td>0</td>\n",
       "      <td>10</td>\n",
       "      <td>13</td>\n",
       "    </tr>\n",
       "    <tr>\n",
       "      <th>3</th>\n",
       "      <td>3</td>\n",
       "      <td>colorbox.spb.ru</td>\n",
       "      <td>[бесить, картинка]</td>\n",
       "      <td>0</td>\n",
       "      <td>21.0</td>\n",
       "      <td>ru</td>\n",
       "      <td>colorbox</td>\n",
       "      <td>0</td>\n",
       "      <td>8</td>\n",
       "      <td>15</td>\n",
       "    </tr>\n",
       "    <tr>\n",
       "      <th>4</th>\n",
       "      <td>4</td>\n",
       "      <td>tula-sport.ru</td>\n",
       "      <td>[новомосковск, сыграть, следж, хоккеист, алекс...</td>\n",
       "      <td>0</td>\n",
       "      <td>83.0</td>\n",
       "      <td>ru</td>\n",
       "      <td>tula-sport</td>\n",
       "      <td>0</td>\n",
       "      <td>10</td>\n",
       "      <td>13</td>\n",
       "    </tr>\n",
       "  </tbody>\n",
       "</table>\n",
       "</div>"
      ],
      "text/plain": [
       "   ID              url                                              title   \n",
       "0   0          m.kp.md  [экс, министр, экономика, молдова, глава, мидэ...  \\\n",
       "1   1        www.kp.by  [песня, стать, известный, многий, телезритель,...   \n",
       "2   2    fanserials.tv  [банши, сезон, серия, бремя, красота, смотреть...   \n",
       "3   3  colorbox.spb.ru                                 [бесить, картинка]   \n",
       "4   4    tula-sport.ru  [новомосковск, сыграть, следж, хоккеист, алекс...   \n",
       "\n",
       "   label  text_length url_domain   site_name  domain_unique_not  site_length   \n",
       "0      0        140.0         md          kp                 -1            2  \\\n",
       "1      0         74.0         by          kp                  0            2   \n",
       "2      0         52.0         tv  fanserials                  0           10   \n",
       "3      0         21.0         ru    colorbox                  0            8   \n",
       "4      0         83.0         ru  tula-sport                  0           10   \n",
       "\n",
       "   url_length  \n",
       "0           7  \n",
       "1           9  \n",
       "2          13  \n",
       "3          15  \n",
       "4          13  "
      ]
     },
     "execution_count": 26,
     "metadata": {},
     "output_type": "execute_result"
    }
   ],
   "source": [
    "content_dataset.head()"
   ]
  },
  {
   "cell_type": "markdown",
   "metadata": {},
   "source": [
    "### Идея в том, чтобы проредить в положительных и отрицательных экземплярах ложные слова. То есть если класс 0, то есть не порно, то убрать оттуда все двусвязные формы и наоборот. Конечно, моя реализация в каком-то смысле не очень, но можно заморорочиться с целым словарем подобных слов или придумать иную эвристику"
   ]
  },
  {
   "cell_type": "code",
   "execution_count": 167,
   "metadata": {},
   "outputs": [],
   "source": [
    "false_words_negatives = ['спермия', 'сперматозоид', 'импотенция', 'импотент', 'рак', 'транссексуальный', 'транссексуал', 'пол', 'половой',\n",
    "                         'гей-пара', 'гей', 'лгбт', 'групповой', 'насилие', 'изнасилование', 'изнасиловать']\n",
    "\n",
    "false_words_positives = ['сюзана', 'анжела', 'снежана', 'отборный', 'видео', 'ублажать', 'горничный', 'вызов']\n",
    "\n",
    "def delete_false_words_negatives(x):\n",
    "    return [word for word in x if word not in false_words_negatives]\n",
    "\n",
    "def delete_false_words_positives(x):\n",
    "    return [word for word in x if word not in false_words_positives]\n"
   ]
  },
  {
   "cell_type": "code",
   "execution_count": 168,
   "metadata": {},
   "outputs": [],
   "source": [
    "condition = content_dataset['label'] == 0\n",
    "content_dataset.loc[condition, 'title'] = content_dataset[['title']].applymap(delete_false_words_negatives)\n",
    "condition = content_dataset['label'] == 1\n",
    "content_dataset.loc[condition, 'title'] = content_dataset[['title']].applymap(delete_false_words_positives)"
   ]
  },
  {
   "cell_type": "code",
   "execution_count": 27,
   "metadata": {},
   "outputs": [],
   "source": [
    "def len_zero(x):\n",
    "    return len(x) != 0\n",
    "\n",
    "content_dataset['length_zero'] = content_dataset[['title']].applymap(len_zero)"
   ]
  },
  {
   "cell_type": "code",
   "execution_count": 28,
   "metadata": {},
   "outputs": [],
   "source": [
    "content_dataset = content_dataset.loc[content_dataset['length_zero'] == True]"
   ]
  },
  {
   "cell_type": "code",
   "execution_count": 29,
   "metadata": {},
   "outputs": [],
   "source": [
    "def drop_short_words(x):\n",
    "    return [word for word in x if len(word) > 2]\n",
    "\n",
    "content_dataset['title'] = content_dataset[['title']].applymap(drop_short_words)"
   ]
  },
  {
   "cell_type": "code",
   "execution_count": 30,
   "metadata": {},
   "outputs": [],
   "source": [
    "content_dataset = content_dataset.drop(columns = ['length_zero'])"
   ]
  },
  {
   "cell_type": "code",
   "execution_count": 31,
   "metadata": {},
   "outputs": [],
   "source": [
    "def text_regenerator(x):\n",
    "    return ' '.join(x)\n",
    "\n",
    "content_dataset['title'] = content_dataset[['title']].applymap(text_regenerator)"
   ]
  },
  {
   "cell_type": "code",
   "execution_count": 32,
   "metadata": {},
   "outputs": [
    {
     "data": {
      "text/html": [
       "<div>\n",
       "<style scoped>\n",
       "    .dataframe tbody tr th:only-of-type {\n",
       "        vertical-align: middle;\n",
       "    }\n",
       "\n",
       "    .dataframe tbody tr th {\n",
       "        vertical-align: top;\n",
       "    }\n",
       "\n",
       "    .dataframe thead th {\n",
       "        text-align: right;\n",
       "    }\n",
       "</style>\n",
       "<table border=\"1\" class=\"dataframe\">\n",
       "  <thead>\n",
       "    <tr style=\"text-align: right;\">\n",
       "      <th></th>\n",
       "      <th>ID</th>\n",
       "      <th>url</th>\n",
       "      <th>title</th>\n",
       "      <th>label</th>\n",
       "      <th>text_length</th>\n",
       "      <th>url_domain</th>\n",
       "      <th>site_name</th>\n",
       "      <th>domain_unique_not</th>\n",
       "      <th>site_length</th>\n",
       "      <th>url_length</th>\n",
       "    </tr>\n",
       "  </thead>\n",
       "  <tbody>\n",
       "    <tr>\n",
       "      <th>0</th>\n",
       "      <td>0</td>\n",
       "      <td>m.kp.md</td>\n",
       "      <td>экс министр экономика молдова глава мидэи цель...</td>\n",
       "      <td>0</td>\n",
       "      <td>140.0</td>\n",
       "      <td>md</td>\n",
       "      <td>kp</td>\n",
       "      <td>-1</td>\n",
       "      <td>2</td>\n",
       "      <td>7</td>\n",
       "    </tr>\n",
       "    <tr>\n",
       "      <th>1</th>\n",
       "      <td>1</td>\n",
       "      <td>www.kp.by</td>\n",
       "      <td>песня стать известный многий телезритель благо...</td>\n",
       "      <td>0</td>\n",
       "      <td>74.0</td>\n",
       "      <td>by</td>\n",
       "      <td>kp</td>\n",
       "      <td>0</td>\n",
       "      <td>2</td>\n",
       "      <td>9</td>\n",
       "    </tr>\n",
       "    <tr>\n",
       "      <th>2</th>\n",
       "      <td>2</td>\n",
       "      <td>fanserials.tv</td>\n",
       "      <td>банши сезон серия бремя красота смотреть онлайн</td>\n",
       "      <td>0</td>\n",
       "      <td>52.0</td>\n",
       "      <td>tv</td>\n",
       "      <td>fanserials</td>\n",
       "      <td>0</td>\n",
       "      <td>10</td>\n",
       "      <td>13</td>\n",
       "    </tr>\n",
       "    <tr>\n",
       "      <th>3</th>\n",
       "      <td>3</td>\n",
       "      <td>colorbox.spb.ru</td>\n",
       "      <td>бесить картинка</td>\n",
       "      <td>0</td>\n",
       "      <td>21.0</td>\n",
       "      <td>ru</td>\n",
       "      <td>colorbox</td>\n",
       "      <td>0</td>\n",
       "      <td>8</td>\n",
       "      <td>15</td>\n",
       "    </tr>\n",
       "    <tr>\n",
       "      <th>4</th>\n",
       "      <td>4</td>\n",
       "      <td>tula-sport.ru</td>\n",
       "      <td>новомосковск сыграть следж хоккеист алексински...</td>\n",
       "      <td>0</td>\n",
       "      <td>83.0</td>\n",
       "      <td>ru</td>\n",
       "      <td>tula-sport</td>\n",
       "      <td>0</td>\n",
       "      <td>10</td>\n",
       "      <td>13</td>\n",
       "    </tr>\n",
       "  </tbody>\n",
       "</table>\n",
       "</div>"
      ],
      "text/plain": [
       "   ID              url                                              title   \n",
       "0   0          m.kp.md  экс министр экономика молдова глава мидэи цель...  \\\n",
       "1   1        www.kp.by  песня стать известный многий телезритель благо...   \n",
       "2   2    fanserials.tv    банши сезон серия бремя красота смотреть онлайн   \n",
       "3   3  colorbox.spb.ru                                    бесить картинка   \n",
       "4   4    tula-sport.ru  новомосковск сыграть следж хоккеист алексински...   \n",
       "\n",
       "   label  text_length url_domain   site_name  domain_unique_not  site_length   \n",
       "0      0        140.0         md          kp                 -1            2  \\\n",
       "1      0         74.0         by          kp                  0            2   \n",
       "2      0         52.0         tv  fanserials                  0           10   \n",
       "3      0         21.0         ru    colorbox                  0            8   \n",
       "4      0         83.0         ru  tula-sport                  0           10   \n",
       "\n",
       "   url_length  \n",
       "0           7  \n",
       "1           9  \n",
       "2          13  \n",
       "3          15  \n",
       "4          13  "
      ]
     },
     "execution_count": 32,
     "metadata": {},
     "output_type": "execute_result"
    }
   ],
   "source": [
    "content_dataset.head()"
   ]
  },
  {
   "cell_type": "code",
   "execution_count": null,
   "metadata": {},
   "outputs": [],
   "source": [
    "content_dataset.to_excel('dataset_spot.xlsx')"
   ]
  },
  {
   "cell_type": "markdown",
   "metadata": {},
   "source": [
    "### Датасет очень большой и несбалансированный. Идея в том, чтобы создать выборку из нешумовых сэмплов из классов 1 и 0. Это будет сделано с помощью фильтрации шумовых объектов. Затем полагается сделать шаффл данных и после идти векторизовать текста по TF-IDF методике.  Далее можно обучить логистичсекую регрессию или применить другой алгоритм"
   ]
  },
  {
   "cell_type": "code",
   "execution_count": 33,
   "metadata": {},
   "outputs": [],
   "source": [
    "def num_words_in_text(x):\n",
    "    array_words = x.split()\n",
    "    return len(array_words)\n",
    "\n",
    "content_dataset = content_dataset.query('title != 0')\n",
    "\n",
    "content_dataset['num_words'] = content_dataset[['title']].applymap(num_words_in_text)"
   ]
  },
  {
   "cell_type": "markdown",
   "metadata": {},
   "source": [
    "### Посмотрим на распределние по количествам слов"
   ]
  },
  {
   "cell_type": "code",
   "execution_count": 105,
   "metadata": {},
   "outputs": [
    {
     "data": {
      "text/plain": [
       "Text(0.5, 1.0, 'Distribution for negatives')"
      ]
     },
     "execution_count": 105,
     "metadata": {},
     "output_type": "execute_result"
    },
    {
     "data": {
      "image/png": "[encoded data removed]",
      "text/plain": [
       "<Figure size 1500x500 with 3 Axes>"
      ]
     },
     "metadata": {},
     "output_type": "display_data"
    }
   ],
   "source": [
    "figure, axs = plt.subplots(1, 3, sharey=True, figsize = (15, 5))\n",
    "\n",
    "lens_positive_class = content_dataset.query('label == 1').num_words.values\n",
    "lens_negative_class = content_dataset.query('label == 0').num_words.values\n",
    "\n",
    "\n",
    "axs[0].hist(content_dataset['num_words'], bins = 100)\n",
    "axs[0].set_title('Distribution for all *NOUNs*')\n",
    "\n",
    "axs[1].hist(lens_positive_class, bins = 100, color = 'red')\n",
    "axs[1].set_title('Distribution for positives')\n",
    "\n",
    "axs[2].hist(lens_negative_class, bins = 100, color = 'green')\n",
    "axs[2].set_title('Distribution for negatives')\n"
   ]
  },
  {
   "cell_type": "code",
   "execution_count": 47,
   "metadata": {},
   "outputs": [
    {
     "name": "stdout",
     "output_type": "stream",
     "text": [
      "3.0\n",
      "2.0\n",
      "19.0\n",
      "17.0\n"
     ]
    }
   ],
   "source": [
    "print(content_dataset.query('label == 1')['num_words'].quantile(0.05))\n",
    "print(content_dataset.query('label == 0')['num_words'].quantile(0.05))\n",
    "print(content_dataset.query('label == 1')['num_words'].quantile(0.99))\n",
    "print(content_dataset.query('label == 0')['num_words'].quantile(0.99))\n",
    "# print(len(content_dataset.query('label == 0 & text_length > 18 & text_length < 139')['text_length']))\n",
    "# print(len(content_dataset.query('label == 1 & text_length > 23 & text_length < 131')['text_length']))"
   ]
  },
  {
   "cell_type": "markdown",
   "metadata": {},
   "source": [
    "### Попробуем отсечь все нулевые меньше 2 и больше 20"
   ]
  },
  {
   "cell_type": "code",
   "execution_count": 34,
   "metadata": {},
   "outputs": [],
   "source": [
    "content_dataset = content_dataset.query('num_words > 2 & num_words <= 20')"
   ]
  },
  {
   "cell_type": "code",
   "execution_count": 35,
   "metadata": {},
   "outputs": [
    {
     "data": {
      "text/html": [
       "<div>\n",
       "<style scoped>\n",
       "    .dataframe tbody tr th:only-of-type {\n",
       "        vertical-align: middle;\n",
       "    }\n",
       "\n",
       "    .dataframe tbody tr th {\n",
       "        vertical-align: top;\n",
       "    }\n",
       "\n",
       "    .dataframe thead th {\n",
       "        text-align: right;\n",
       "    }\n",
       "</style>\n",
       "<table border=\"1\" class=\"dataframe\">\n",
       "  <thead>\n",
       "    <tr style=\"text-align: right;\">\n",
       "      <th></th>\n",
       "      <th>ID</th>\n",
       "      <th>url</th>\n",
       "      <th>title</th>\n",
       "      <th>label</th>\n",
       "      <th>text_length</th>\n",
       "      <th>url_domain</th>\n",
       "      <th>site_name</th>\n",
       "      <th>domain_unique_not</th>\n",
       "      <th>site_length</th>\n",
       "      <th>url_length</th>\n",
       "      <th>num_words</th>\n",
       "    </tr>\n",
       "  </thead>\n",
       "  <tbody>\n",
       "    <tr>\n",
       "      <th>0</th>\n",
       "      <td>0</td>\n",
       "      <td>m.kp.md</td>\n",
       "      <td>экс министр экономика молдова глава мидэи цель...</td>\n",
       "      <td>0</td>\n",
       "      <td>140.0</td>\n",
       "      <td>md</td>\n",
       "      <td>kp</td>\n",
       "      <td>-1</td>\n",
       "      <td>2</td>\n",
       "      <td>7</td>\n",
       "      <td>14</td>\n",
       "    </tr>\n",
       "    <tr>\n",
       "      <th>1</th>\n",
       "      <td>1</td>\n",
       "      <td>www.kp.by</td>\n",
       "      <td>песня стать известный многий телезритель благо...</td>\n",
       "      <td>0</td>\n",
       "      <td>74.0</td>\n",
       "      <td>by</td>\n",
       "      <td>kp</td>\n",
       "      <td>0</td>\n",
       "      <td>2</td>\n",
       "      <td>9</td>\n",
       "      <td>8</td>\n",
       "    </tr>\n",
       "    <tr>\n",
       "      <th>2</th>\n",
       "      <td>2</td>\n",
       "      <td>fanserials.tv</td>\n",
       "      <td>банши сезон серия бремя красота смотреть онлайн</td>\n",
       "      <td>0</td>\n",
       "      <td>52.0</td>\n",
       "      <td>tv</td>\n",
       "      <td>fanserials</td>\n",
       "      <td>0</td>\n",
       "      <td>10</td>\n",
       "      <td>13</td>\n",
       "      <td>7</td>\n",
       "    </tr>\n",
       "    <tr>\n",
       "      <th>4</th>\n",
       "      <td>4</td>\n",
       "      <td>tula-sport.ru</td>\n",
       "      <td>новомосковск сыграть следж хоккеист алексински...</td>\n",
       "      <td>0</td>\n",
       "      <td>83.0</td>\n",
       "      <td>ru</td>\n",
       "      <td>tula-sport</td>\n",
       "      <td>0</td>\n",
       "      <td>10</td>\n",
       "      <td>13</td>\n",
       "      <td>8</td>\n",
       "    </tr>\n",
       "    <tr>\n",
       "      <th>5</th>\n",
       "      <td>5</td>\n",
       "      <td>beregifiguru.ru</td>\n",
       "      <td>салат корейский морковь копчёный курица кукуру...</td>\n",
       "      <td>0</td>\n",
       "      <td>106.0</td>\n",
       "      <td>ru</td>\n",
       "      <td>beregifiguru</td>\n",
       "      <td>0</td>\n",
       "      <td>12</td>\n",
       "      <td>15</td>\n",
       "      <td>11</td>\n",
       "    </tr>\n",
       "  </tbody>\n",
       "</table>\n",
       "</div>"
      ],
      "text/plain": [
       "   ID              url                                              title   \n",
       "0   0          m.kp.md  экс министр экономика молдова глава мидэи цель...  \\\n",
       "1   1        www.kp.by  песня стать известный многий телезритель благо...   \n",
       "2   2    fanserials.tv    банши сезон серия бремя красота смотреть онлайн   \n",
       "4   4    tula-sport.ru  новомосковск сыграть следж хоккеист алексински...   \n",
       "5   5  beregifiguru.ru  салат корейский морковь копчёный курица кукуру...   \n",
       "\n",
       "   label  text_length url_domain     site_name  domain_unique_not   \n",
       "0      0        140.0         md            kp                 -1  \\\n",
       "1      0         74.0         by            kp                  0   \n",
       "2      0         52.0         tv    fanserials                  0   \n",
       "4      0         83.0         ru    tula-sport                  0   \n",
       "5      0        106.0         ru  beregifiguru                  0   \n",
       "\n",
       "   site_length  url_length  num_words  \n",
       "0            2           7         14  \n",
       "1            2           9          8  \n",
       "2           10          13          7  \n",
       "4           10          13          8  \n",
       "5           12          15         11  "
      ]
     },
     "execution_count": 35,
     "metadata": {},
     "output_type": "execute_result"
    }
   ],
   "source": [
    "content_dataset.head()"
   ]
  },
  {
   "cell_type": "markdown",
   "metadata": {},
   "source": [
    "### Попробуем отфильтровать по количеству сущесвтительных"
   ]
  },
  {
   "cell_type": "code",
   "execution_count": 51,
   "metadata": {},
   "outputs": [],
   "source": [
    "a = content_dataset"
   ]
  },
  {
   "cell_type": "code",
   "execution_count": 205,
   "metadata": {},
   "outputs": [],
   "source": [
    "content_dataset.to_excel('dataset_spot.xlsx')"
   ]
  },
  {
   "cell_type": "code",
   "execution_count": 148,
   "metadata": {},
   "outputs": [],
   "source": [
    "content_dataset = pd.read_excel('dataset_spot.xlsx')"
   ]
  },
  {
   "cell_type": "code",
   "execution_count": 36,
   "metadata": {},
   "outputs": [
    {
     "data": {
      "text/plain": [
       "124195"
      ]
     },
     "execution_count": 36,
     "metadata": {},
     "output_type": "execute_result"
    }
   ],
   "source": [
    "len(content_dataset)"
   ]
  },
  {
   "cell_type": "code",
   "execution_count": 37,
   "metadata": {},
   "outputs": [],
   "source": [
    "Y_target = content_dataset.select_dtypes(include=np.number)['label']\n",
    "X_features = content_dataset.select_dtypes(include=np.number).drop(columns = ['ID', 'label'])"
   ]
  },
  {
   "cell_type": "code",
   "execution_count": 34,
   "metadata": {},
   "outputs": [
    {
     "data": {
      "text/html": [
       "<div>\n",
       "<style scoped>\n",
       "    .dataframe tbody tr th:only-of-type {\n",
       "        vertical-align: middle;\n",
       "    }\n",
       "\n",
       "    .dataframe tbody tr th {\n",
       "        vertical-align: top;\n",
       "    }\n",
       "\n",
       "    .dataframe thead th {\n",
       "        text-align: right;\n",
       "    }\n",
       "</style>\n",
       "<table border=\"1\" class=\"dataframe\">\n",
       "  <thead>\n",
       "    <tr style=\"text-align: right;\">\n",
       "      <th></th>\n",
       "      <th>text_length</th>\n",
       "      <th>site_length</th>\n",
       "      <th>url_length</th>\n",
       "      <th>num_words</th>\n",
       "    </tr>\n",
       "  </thead>\n",
       "  <tbody>\n",
       "    <tr>\n",
       "      <th>0</th>\n",
       "      <td>140.0</td>\n",
       "      <td>2</td>\n",
       "      <td>7</td>\n",
       "      <td>14</td>\n",
       "    </tr>\n",
       "    <tr>\n",
       "      <th>1</th>\n",
       "      <td>74.0</td>\n",
       "      <td>2</td>\n",
       "      <td>9</td>\n",
       "      <td>8</td>\n",
       "    </tr>\n",
       "    <tr>\n",
       "      <th>2</th>\n",
       "      <td>52.0</td>\n",
       "      <td>10</td>\n",
       "      <td>13</td>\n",
       "      <td>7</td>\n",
       "    </tr>\n",
       "    <tr>\n",
       "      <th>4</th>\n",
       "      <td>83.0</td>\n",
       "      <td>10</td>\n",
       "      <td>13</td>\n",
       "      <td>8</td>\n",
       "    </tr>\n",
       "    <tr>\n",
       "      <th>5</th>\n",
       "      <td>106.0</td>\n",
       "      <td>12</td>\n",
       "      <td>15</td>\n",
       "      <td>11</td>\n",
       "    </tr>\n",
       "    <tr>\n",
       "      <th>...</th>\n",
       "      <td>...</td>\n",
       "      <td>...</td>\n",
       "      <td>...</td>\n",
       "      <td>...</td>\n",
       "    </tr>\n",
       "    <tr>\n",
       "      <th>135304</th>\n",
       "      <td>82.0</td>\n",
       "      <td>4</td>\n",
       "      <td>7</td>\n",
       "      <td>9</td>\n",
       "    </tr>\n",
       "    <tr>\n",
       "      <th>135305</th>\n",
       "      <td>56.0</td>\n",
       "      <td>3</td>\n",
       "      <td>10</td>\n",
       "      <td>6</td>\n",
       "    </tr>\n",
       "    <tr>\n",
       "      <th>135306</th>\n",
       "      <td>135.0</td>\n",
       "      <td>21</td>\n",
       "      <td>25</td>\n",
       "      <td>15</td>\n",
       "    </tr>\n",
       "    <tr>\n",
       "      <th>135307</th>\n",
       "      <td>94.0</td>\n",
       "      <td>8</td>\n",
       "      <td>11</td>\n",
       "      <td>9</td>\n",
       "    </tr>\n",
       "    <tr>\n",
       "      <th>135308</th>\n",
       "      <td>57.0</td>\n",
       "      <td>3</td>\n",
       "      <td>10</td>\n",
       "      <td>6</td>\n",
       "    </tr>\n",
       "  </tbody>\n",
       "</table>\n",
       "<p>124195 rows × 4 columns</p>\n",
       "</div>"
      ],
      "text/plain": [
       "        text_length  site_length  url_length  num_words\n",
       "0             140.0            2           7         14\n",
       "1              74.0            2           9          8\n",
       "2              52.0           10          13          7\n",
       "4              83.0           10          13          8\n",
       "5             106.0           12          15         11\n",
       "...             ...          ...         ...        ...\n",
       "135304         82.0            4           7          9\n",
       "135305         56.0            3          10          6\n",
       "135306        135.0           21          25         15\n",
       "135307         94.0            8          11          9\n",
       "135308         57.0            3          10          6\n",
       "\n",
       "[124195 rows x 4 columns]"
      ]
     },
     "execution_count": 34,
     "metadata": {},
     "output_type": "execute_result"
    }
   ],
   "source": [
    "\n",
    "X_features"
   ]
  },
  {
   "cell_type": "code",
   "execution_count": 38,
   "metadata": {},
   "outputs": [
    {
     "data": {
      "text/html": [
       "<style>#sk-container-id-1 {color: black;background-color: white;}#sk-container-id-1 pre{padding: 0;}#sk-container-id-1 div.sk-toggleable {background-color: white;}#sk-container-id-1 label.sk-toggleable__label {cursor: pointer;display: block;width: 100%;margin-bottom: 0;padding: 0.3em;box-sizing: border-box;text-align: center;}#sk-container-id-1 label.sk-toggleable__label-arrow:before {content: \"▸\";float: left;margin-right: 0.25em;color: #696969;}#sk-container-id-1 label.sk-toggleable__label-arrow:hover:before {color: black;}#sk-container-id-1 div.sk-estimator:hover label.sk-toggleable__label-arrow:before {color: black;}#sk-container-id-1 div.sk-toggleable__content {max-height: 0;max-width: 0;overflow: hidden;text-align: left;background-color: #f0f8ff;}#sk-container-id-1 div.sk-toggleable__content pre {margin: 0.2em;color: black;border-radius: 0.25em;background-color: #f0f8ff;}#sk-container-id-1 input.sk-toggleable__control:checked~div.sk-toggleable__content {max-height: 200px;max-width: 100%;overflow: auto;}#sk-container-id-1 input.sk-toggleable__control:checked~label.sk-toggleable__label-arrow:before {content: \"▾\";}#sk-container-id-1 div.sk-estimator input.sk-toggleable__control:checked~label.sk-toggleable__label {background-color: #d4ebff;}#sk-container-id-1 div.sk-label input.sk-toggleable__control:checked~label.sk-toggleable__label {background-color: #d4ebff;}#sk-container-id-1 input.sk-hidden--visually {border: 0;clip: rect(1px 1px 1px 1px);clip: rect(1px, 1px, 1px, 1px);height: 1px;margin: -1px;overflow: hidden;padding: 0;position: absolute;width: 1px;}#sk-container-id-1 div.sk-estimator {font-family: monospace;background-color: #f0f8ff;border: 1px dotted black;border-radius: 0.25em;box-sizing: border-box;margin-bottom: 0.5em;}#sk-container-id-1 div.sk-estimator:hover {background-color: #d4ebff;}#sk-container-id-1 div.sk-parallel-item::after {content: \"\";width: 100%;border-bottom: 1px solid gray;flex-grow: 1;}#sk-container-id-1 div.sk-label:hover label.sk-toggleable__label {background-color: #d4ebff;}#sk-container-id-1 div.sk-serial::before {content: \"\";position: absolute;border-left: 1px solid gray;box-sizing: border-box;top: 0;bottom: 0;left: 50%;z-index: 0;}#sk-container-id-1 div.sk-serial {display: flex;flex-direction: column;align-items: center;background-color: white;padding-right: 0.2em;padding-left: 0.2em;position: relative;}#sk-container-id-1 div.sk-item {position: relative;z-index: 1;}#sk-container-id-1 div.sk-parallel {display: flex;align-items: stretch;justify-content: center;background-color: white;position: relative;}#sk-container-id-1 div.sk-item::before, #sk-container-id-1 div.sk-parallel-item::before {content: \"\";position: absolute;border-left: 1px solid gray;box-sizing: border-box;top: 0;bottom: 0;left: 50%;z-index: -1;}#sk-container-id-1 div.sk-parallel-item {display: flex;flex-direction: column;z-index: 1;position: relative;background-color: white;}#sk-container-id-1 div.sk-parallel-item:first-child::after {align-self: flex-end;width: 50%;}#sk-container-id-1 div.sk-parallel-item:last-child::after {align-self: flex-start;width: 50%;}#sk-container-id-1 div.sk-parallel-item:only-child::after {width: 0;}#sk-container-id-1 div.sk-dashed-wrapped {border: 1px dashed gray;margin: 0 0.4em 0.5em 0.4em;box-sizing: border-box;padding-bottom: 0.4em;background-color: white;}#sk-container-id-1 div.sk-label label {font-family: monospace;font-weight: bold;display: inline-block;line-height: 1.2em;}#sk-container-id-1 div.sk-label-container {text-align: center;}#sk-container-id-1 div.sk-container {/* jupyter's `normalize.less` sets `[hidden] { display: none; }` but bootstrap.min.css set `[hidden] { display: none !important; }` so we also need the `!important` here to be able to override the default hidden behavior on the sphinx rendered scikit-learn.org. See: https://github.com/scikit-learn/scikit-learn/issues/21755 */display: inline-block !important;position: relative;}#sk-container-id-1 div.sk-text-repr-fallback {display: none;}</style><div id=\"sk-container-id-1\" class=\"sk-top-container\"><div class=\"sk-text-repr-fallback\"><pre>GaussianNB()</pre><b>In a Jupyter environment, please rerun this cell to show the HTML representation or trust the notebook. <br />On GitHub, the HTML representation is unable to render, please try loading this page with nbviewer.org.</b></div><div class=\"sk-container\" hidden><div class=\"sk-item\"><div class=\"sk-estimator sk-toggleable\"><input class=\"sk-toggleable__control sk-hidden--visually\" id=\"sk-estimator-id-1\" type=\"checkbox\" checked><label for=\"sk-estimator-id-1\" class=\"sk-toggleable__label sk-toggleable__label-arrow\">GaussianNB</label><div class=\"sk-toggleable__content\"><pre>GaussianNB()</pre></div></div></div></div></div>"
      ],
      "text/plain": [
       "GaussianNB()"
      ]
     },
     "execution_count": 38,
     "metadata": {},
     "output_type": "execute_result"
    }
   ],
   "source": [
    "naive_bayes = GaussianNB()\n",
    "naive_bayes.fit(X_features, Y_target)"
   ]
  },
  {
   "cell_type": "code",
   "execution_count": 39,
   "metadata": {},
   "outputs": [
    {
     "data": {
      "text/plain": [
       "(124195, 11)"
      ]
     },
     "execution_count": 39,
     "metadata": {},
     "output_type": "execute_result"
    }
   ],
   "source": [
    "content_dataset.shape"
   ]
  },
  {
   "cell_type": "code",
   "execution_count": 40,
   "metadata": {},
   "outputs": [],
   "source": [
    "content_dataset['probas'] = naive_bayes.predict_proba(X_features).max(axis = 1)"
   ]
  },
  {
   "cell_type": "markdown",
   "metadata": {},
   "source": [
    "### Появилось желание посмотреть распределение вероятностей по Байесу"
   ]
  },
  {
   "cell_type": "code",
   "execution_count": 41,
   "metadata": {},
   "outputs": [
    {
     "name": "stdout",
     "output_type": "stream",
     "text": [
      "0.7573557285993477\n",
      "0.7855219985105371\n",
      "0.9999974264950129\n",
      "0.9997491984648381\n"
     ]
    }
   ],
   "source": [
    "print(content_dataset.query('label == 1')['probas'].quantile(0.01))\n",
    "print(content_dataset.query('label == 0')['probas'].quantile(0.01))\n",
    "print(content_dataset.query('label == 1')['probas'].quantile(0.99))\n",
    "print(content_dataset.query('label == 0')['probas'].quantile(0.99))"
   ]
  },
  {
   "cell_type": "code",
   "execution_count": 42,
   "metadata": {},
   "outputs": [],
   "source": [
    "content_dataset = content_dataset.query('probas >= 0.51 & probas <= 0.99')"
   ]
  },
  {
   "cell_type": "code",
   "execution_count": 212,
   "metadata": {},
   "outputs": [
    {
     "data": {
      "text/plain": [
       "Text(0.5, 1.0, 'Distribution for negatives')"
      ]
     },
     "execution_count": 212,
     "metadata": {},
     "output_type": "execute_result"
    },
    {
     "data": {
      "image/png": "[encoded data removed]",
      "text/plain": [
       "<Figure size 1500x500 with 3 Axes>"
      ]
     },
     "metadata": {},
     "output_type": "display_data"
    }
   ],
   "source": [
    "figure, axs = plt.subplots(1, 3, sharey=True, figsize = (15, 5))\n",
    "\n",
    "lens_positive_class = content_dataset.query('label == 1').probas.values\n",
    "lens_negative_class = content_dataset.query('label == 0').probas.values\n",
    "\n",
    "\n",
    "axs[0].hist(content_dataset['probas'], bins = 100)\n",
    "axs[0].set_title('Distribution for all *Probs*')\n",
    "\n",
    "axs[1].hist(lens_positive_class, bins = 100, color = 'red')\n",
    "axs[1].set_title('Distribution for positives')\n",
    "\n",
    "axs[2].hist(lens_negative_class, bins = 100, color = 'green')\n",
    "axs[2].set_title('Distribution for negatives')\n"
   ]
  },
  {
   "cell_type": "code",
   "execution_count": 131,
   "metadata": {},
   "outputs": [
    {
     "data": {
      "text/plain": [
       "Text(0.5, 1.0, 'Distribution for negatives')"
      ]
     },
     "execution_count": 131,
     "metadata": {},
     "output_type": "execute_result"
    },
    {
     "data": {
      "image/png": "[encoded data removed]",
      "text/plain": [
       "<Figure size 1500x500 with 3 Axes>"
      ]
     },
     "metadata": {},
     "output_type": "display_data"
    }
   ],
   "source": [
    "figure, axs = plt.subplots(1, 3, sharey=True, figsize = (15, 5))\n",
    "\n",
    "lens_positive_class = content_dataset.query('label == 1').num_words.values\n",
    "lens_negative_class = content_dataset.query('label == 0').num_words.values\n",
    "\n",
    "\n",
    "axs[0].hist(content_dataset['num_words'], bins = 100)\n",
    "axs[0].set_title('Distribution for all *num_words*')\n",
    "\n",
    "axs[1].hist(lens_positive_class, bins = 100, color = 'red')\n",
    "axs[1].set_title('Distribution for positives')\n",
    "\n",
    "axs[2].hist(lens_negative_class, bins = 100, color = 'green')\n",
    "axs[2].set_title('Distribution for negatives')\n"
   ]
  },
  {
   "cell_type": "code",
   "execution_count": 43,
   "metadata": {},
   "outputs": [
    {
     "data": {
      "text/plain": [
       "20"
      ]
     },
     "execution_count": 43,
     "metadata": {},
     "output_type": "execute_result"
    }
   ],
   "source": [
    "content_dataset.num_words.max()"
   ]
  },
  {
   "cell_type": "code",
   "execution_count": 44,
   "metadata": {},
   "outputs": [],
   "source": [
    "lemmatizer = pymorphy2.MorphAnalyzer()\n",
    "\n",
    "common = ['video', 'download', 'видео', 'скачать', 'free', 'бесплатно', 'link', 'ссылка', 'смотреть', 'watch', 'online', 'онлайн', \n",
    "          'искать', 'search', 'страница', 'page', 'фото', 'image', 'photo', 'рак', 'film', 'movie', 'фильм', 'девушка', 'женщина', 'жена', 'мужчина']\n",
    "def words_remover(x):\n",
    "    return \" \".join([word for word in x.split() if word not in common][:15])\n",
    "\n",
    "def lemmatize(token):\n",
    "    if lemmatizer.word_is_known(token):\n",
    "        if token not in lemmatizer_cache:\n",
    "            lemmatizer_cache[token] = lemmatizer.parse(token)[0].normal_form\n",
    "        return lemmatizer_cache[token]\n",
    "    return token"
   ]
  },
  {
   "cell_type": "code",
   "execution_count": 45,
   "metadata": {},
   "outputs": [],
   "source": [
    "content_dataset['title'] = content_dataset[['title']].applymap(words_remover)"
   ]
  },
  {
   "cell_type": "code",
   "execution_count": null,
   "metadata": {},
   "outputs": [],
   "source": [
    "def apply_translator(x):\n",
    "    return \" \".join([translator(word) for word in x.split()])\n",
    "\n",
    "content_dataset['title']  = content_dataset[['title']].applymap(apply_translator)"
   ]
  },
  {
   "cell_type": "code",
   "execution_count": 46,
   "metadata": {},
   "outputs": [
    {
     "data": {
      "text/html": [
       "<div>\n",
       "<style scoped>\n",
       "    .dataframe tbody tr th:only-of-type {\n",
       "        vertical-align: middle;\n",
       "    }\n",
       "\n",
       "    .dataframe tbody tr th {\n",
       "        vertical-align: top;\n",
       "    }\n",
       "\n",
       "    .dataframe thead th {\n",
       "        text-align: right;\n",
       "    }\n",
       "</style>\n",
       "<table border=\"1\" class=\"dataframe\">\n",
       "  <thead>\n",
       "    <tr style=\"text-align: right;\">\n",
       "      <th></th>\n",
       "      <th>ID</th>\n",
       "      <th>url</th>\n",
       "      <th>title</th>\n",
       "      <th>label</th>\n",
       "      <th>text_length</th>\n",
       "      <th>url_domain</th>\n",
       "      <th>site_name</th>\n",
       "      <th>domain_unique_not</th>\n",
       "      <th>site_length</th>\n",
       "      <th>url_length</th>\n",
       "      <th>num_words</th>\n",
       "      <th>probas</th>\n",
       "    </tr>\n",
       "  </thead>\n",
       "  <tbody>\n",
       "    <tr>\n",
       "      <th>1</th>\n",
       "      <td>1</td>\n",
       "      <td>www.kp.by</td>\n",
       "      <td>песня стать известный многий телезритель благо...</td>\n",
       "      <td>0</td>\n",
       "      <td>74.0</td>\n",
       "      <td>by</td>\n",
       "      <td>kp</td>\n",
       "      <td>0</td>\n",
       "      <td>2</td>\n",
       "      <td>9</td>\n",
       "      <td>8</td>\n",
       "      <td>0.940733</td>\n",
       "    </tr>\n",
       "    <tr>\n",
       "      <th>2</th>\n",
       "      <td>2</td>\n",
       "      <td>fanserials.tv</td>\n",
       "      <td>банши сезон серия бремя красота</td>\n",
       "      <td>0</td>\n",
       "      <td>52.0</td>\n",
       "      <td>tv</td>\n",
       "      <td>fanserials</td>\n",
       "      <td>0</td>\n",
       "      <td>10</td>\n",
       "      <td>13</td>\n",
       "      <td>7</td>\n",
       "      <td>0.872143</td>\n",
       "    </tr>\n",
       "    <tr>\n",
       "      <th>4</th>\n",
       "      <td>4</td>\n",
       "      <td>tula-sport.ru</td>\n",
       "      <td>новомосковск сыграть следж хоккеист алексински...</td>\n",
       "      <td>0</td>\n",
       "      <td>83.0</td>\n",
       "      <td>ru</td>\n",
       "      <td>tula-sport</td>\n",
       "      <td>0</td>\n",
       "      <td>10</td>\n",
       "      <td>13</td>\n",
       "      <td>8</td>\n",
       "      <td>0.885844</td>\n",
       "    </tr>\n",
       "    <tr>\n",
       "      <th>5</th>\n",
       "      <td>5</td>\n",
       "      <td>beregifiguru.ru</td>\n",
       "      <td>салат корейский морковь копчёный курица кукуру...</td>\n",
       "      <td>0</td>\n",
       "      <td>106.0</td>\n",
       "      <td>ru</td>\n",
       "      <td>beregifiguru</td>\n",
       "      <td>0</td>\n",
       "      <td>12</td>\n",
       "      <td>15</td>\n",
       "      <td>11</td>\n",
       "      <td>0.851875</td>\n",
       "    </tr>\n",
       "    <tr>\n",
       "      <th>6</th>\n",
       "      <td>6</td>\n",
       "      <td>ekb.vseinstrumenti.ru</td>\n",
       "      <td>угловой пневмогайковерт fubag rwc екатеринбург...</td>\n",
       "      <td>0</td>\n",
       "      <td>122.0</td>\n",
       "      <td>ru</td>\n",
       "      <td>vseinstrumenti</td>\n",
       "      <td>0</td>\n",
       "      <td>14</td>\n",
       "      <td>21</td>\n",
       "      <td>11</td>\n",
       "      <td>0.898739</td>\n",
       "    </tr>\n",
       "  </tbody>\n",
       "</table>\n",
       "</div>"
      ],
      "text/plain": [
       "   ID                    url   \n",
       "1   1              www.kp.by  \\\n",
       "2   2          fanserials.tv   \n",
       "4   4          tula-sport.ru   \n",
       "5   5        beregifiguru.ru   \n",
       "6   6  ekb.vseinstrumenti.ru   \n",
       "\n",
       "                                               title  label  text_length   \n",
       "1  песня стать известный многий телезритель благо...      0         74.0  \\\n",
       "2                    банши сезон серия бремя красота      0         52.0   \n",
       "4  новомосковск сыграть следж хоккеист алексински...      0         83.0   \n",
       "5  салат корейский морковь копчёный курица кукуру...      0        106.0   \n",
       "6  угловой пневмогайковерт fubag rwc екатеринбург...      0        122.0   \n",
       "\n",
       "  url_domain       site_name  domain_unique_not  site_length  url_length   \n",
       "1         by              kp                  0            2           9  \\\n",
       "2         tv      fanserials                  0           10          13   \n",
       "4         ru      tula-sport                  0           10          13   \n",
       "5         ru    beregifiguru                  0           12          15   \n",
       "6         ru  vseinstrumenti                  0           14          21   \n",
       "\n",
       "   num_words    probas  \n",
       "1          8  0.940733  \n",
       "2          7  0.872143  \n",
       "4          8  0.885844  \n",
       "5         11  0.851875  \n",
       "6         11  0.898739  "
      ]
     },
     "execution_count": 46,
     "metadata": {},
     "output_type": "execute_result"
    }
   ],
   "source": [
    "content_dataset.head()"
   ]
  },
  {
   "cell_type": "code",
   "execution_count": null,
   "metadata": {},
   "outputs": [],
   "source": [
    "test_dataset['title'] = test_dataset[['title']].applymap(words_remover)"
   ]
  },
  {
   "cell_type": "code",
   "execution_count": null,
   "metadata": {},
   "outputs": [],
   "source": [
    "test_dataset.head()"
   ]
  },
  {
   "cell_type": "code",
   "execution_count": 47,
   "metadata": {},
   "outputs": [],
   "source": [
    "content_dataset['title'] = content_dataset[['title']].applymap(words_remover)"
   ]
  },
  {
   "cell_type": "code",
   "execution_count": 48,
   "metadata": {},
   "outputs": [
    {
     "data": {
      "text/html": [
       "<div>\n",
       "<style scoped>\n",
       "    .dataframe tbody tr th:only-of-type {\n",
       "        vertical-align: middle;\n",
       "    }\n",
       "\n",
       "    .dataframe tbody tr th {\n",
       "        vertical-align: top;\n",
       "    }\n",
       "\n",
       "    .dataframe thead th {\n",
       "        text-align: right;\n",
       "    }\n",
       "</style>\n",
       "<table border=\"1\" class=\"dataframe\">\n",
       "  <thead>\n",
       "    <tr style=\"text-align: right;\">\n",
       "      <th></th>\n",
       "      <th>ID</th>\n",
       "      <th>url</th>\n",
       "      <th>title</th>\n",
       "      <th>label</th>\n",
       "      <th>text_length</th>\n",
       "      <th>url_domain</th>\n",
       "      <th>site_name</th>\n",
       "      <th>domain_unique_not</th>\n",
       "      <th>site_length</th>\n",
       "      <th>url_length</th>\n",
       "      <th>num_words</th>\n",
       "      <th>probas</th>\n",
       "    </tr>\n",
       "  </thead>\n",
       "  <tbody>\n",
       "    <tr>\n",
       "      <th>8</th>\n",
       "      <td>8</td>\n",
       "      <td>xlecx.com</td>\n",
       "      <td>league legends porn comics</td>\n",
       "      <td>1</td>\n",
       "      <td>52.0</td>\n",
       "      <td>com</td>\n",
       "      <td>xlecx</td>\n",
       "      <td>0</td>\n",
       "      <td>5</td>\n",
       "      <td>9</td>\n",
       "      <td>7</td>\n",
       "      <td>0.934054</td>\n",
       "    </tr>\n",
       "    <tr>\n",
       "      <th>12</th>\n",
       "      <td>12</td>\n",
       "      <td>pornmult.info</td>\n",
       "      <td>кримпай мать сын порно мультик порно комикс хе...</td>\n",
       "      <td>1</td>\n",
       "      <td>98.0</td>\n",
       "      <td>info</td>\n",
       "      <td>info</td>\n",
       "      <td>0</td>\n",
       "      <td>4</td>\n",
       "      <td>13</td>\n",
       "      <td>12</td>\n",
       "      <td>0.902352</td>\n",
       "    </tr>\n",
       "    <tr>\n",
       "      <th>19</th>\n",
       "      <td>19</td>\n",
       "      <td>24eropixel.net</td>\n",
       "      <td>мужик поставить блондинка отодрать тугой очко ...</td>\n",
       "      <td>1</td>\n",
       "      <td>86.0</td>\n",
       "      <td>net</td>\n",
       "      <td>24eropixel</td>\n",
       "      <td>0</td>\n",
       "      <td>10</td>\n",
       "      <td>14</td>\n",
       "      <td>11</td>\n",
       "      <td>0.859020</td>\n",
       "    </tr>\n",
       "    <tr>\n",
       "      <th>21</th>\n",
       "      <td>21</td>\n",
       "      <td>gdespaces.com</td>\n",
       "      <td>порно spaces spcs</td>\n",
       "      <td>1</td>\n",
       "      <td>52.0</td>\n",
       "      <td>com</td>\n",
       "      <td>gdespaces</td>\n",
       "      <td>0</td>\n",
       "      <td>9</td>\n",
       "      <td>13</td>\n",
       "      <td>5</td>\n",
       "      <td>0.887335</td>\n",
       "    </tr>\n",
       "    <tr>\n",
       "      <th>41</th>\n",
       "      <td>41</td>\n",
       "      <td>hdxclub.com</td>\n",
       "      <td>лесбийский секс кунилингусом стройный студентк...</td>\n",
       "      <td>1</td>\n",
       "      <td>110.0</td>\n",
       "      <td>com</td>\n",
       "      <td>hdxclub</td>\n",
       "      <td>0</td>\n",
       "      <td>7</td>\n",
       "      <td>11</td>\n",
       "      <td>11</td>\n",
       "      <td>0.921170</td>\n",
       "    </tr>\n",
       "    <tr>\n",
       "      <th>...</th>\n",
       "      <td>...</td>\n",
       "      <td>...</td>\n",
       "      <td>...</td>\n",
       "      <td>...</td>\n",
       "      <td>...</td>\n",
       "      <td>...</td>\n",
       "      <td>...</td>\n",
       "      <td>...</td>\n",
       "      <td>...</td>\n",
       "      <td>...</td>\n",
       "      <td>...</td>\n",
       "      <td>...</td>\n",
       "    </tr>\n",
       "    <tr>\n",
       "      <th>135221</th>\n",
       "      <td>135221</td>\n",
       "      <td>nola-london.com</td>\n",
       "      <td>pinoy biggest collection pinoy quality clips n...</td>\n",
       "      <td>1</td>\n",
       "      <td>65.0</td>\n",
       "      <td>com</td>\n",
       "      <td>nola-london</td>\n",
       "      <td>0</td>\n",
       "      <td>11</td>\n",
       "      <td>15</td>\n",
       "      <td>8</td>\n",
       "      <td>0.856929</td>\n",
       "    </tr>\n",
       "    <tr>\n",
       "      <th>135239</th>\n",
       "      <td>135239</td>\n",
       "      <td>pornotwix.com</td>\n",
       "      <td>two titted blondes enjoy big cock negra</td>\n",
       "      <td>1</td>\n",
       "      <td>39.0</td>\n",
       "      <td>com</td>\n",
       "      <td>pornotwix</td>\n",
       "      <td>0</td>\n",
       "      <td>9</td>\n",
       "      <td>13</td>\n",
       "      <td>7</td>\n",
       "      <td>0.879364</td>\n",
       "    </tr>\n",
       "    <tr>\n",
       "      <th>135253</th>\n",
       "      <td>135253</td>\n",
       "      <td>sexlib.org</td>\n",
       "      <td>всё рассказ первый знакомство секс эротический...</td>\n",
       "      <td>1</td>\n",
       "      <td>78.0</td>\n",
       "      <td>org</td>\n",
       "      <td>sexlib</td>\n",
       "      <td>0</td>\n",
       "      <td>6</td>\n",
       "      <td>10</td>\n",
       "      <td>8</td>\n",
       "      <td>0.928766</td>\n",
       "    </tr>\n",
       "    <tr>\n",
       "      <th>135256</th>\n",
       "      <td>135256</td>\n",
       "      <td>pakistanporn.info</td>\n",
       "      <td>food wild indian tube pakistanporn info</td>\n",
       "      <td>1</td>\n",
       "      <td>42.0</td>\n",
       "      <td>info</td>\n",
       "      <td>info</td>\n",
       "      <td>0</td>\n",
       "      <td>4</td>\n",
       "      <td>17</td>\n",
       "      <td>6</td>\n",
       "      <td>0.914557</td>\n",
       "    </tr>\n",
       "    <tr>\n",
       "      <th>135287</th>\n",
       "      <td>135287</td>\n",
       "      <td>sexlib.org</td>\n",
       "      <td>гарри поттер секс волшебный мир часть эротичес...</td>\n",
       "      <td>1</td>\n",
       "      <td>83.0</td>\n",
       "      <td>org</td>\n",
       "      <td>sexlib</td>\n",
       "      <td>0</td>\n",
       "      <td>6</td>\n",
       "      <td>10</td>\n",
       "      <td>9</td>\n",
       "      <td>0.927014</td>\n",
       "    </tr>\n",
       "  </tbody>\n",
       "</table>\n",
       "<p>15105 rows × 12 columns</p>\n",
       "</div>"
      ],
      "text/plain": [
       "            ID                url   \n",
       "8            8          xlecx.com  \\\n",
       "12          12      pornmult.info   \n",
       "19          19     24eropixel.net   \n",
       "21          21      gdespaces.com   \n",
       "41          41        hdxclub.com   \n",
       "...        ...                ...   \n",
       "135221  135221    nola-london.com   \n",
       "135239  135239      pornotwix.com   \n",
       "135253  135253         sexlib.org   \n",
       "135256  135256  pakistanporn.info   \n",
       "135287  135287         sexlib.org   \n",
       "\n",
       "                                                    title  label  text_length   \n",
       "8                              league legends porn comics      1         52.0  \\\n",
       "12      кримпай мать сын порно мультик порно комикс хе...      1         98.0   \n",
       "19      мужик поставить блондинка отодрать тугой очко ...      1         86.0   \n",
       "21                                      порно spaces spcs      1         52.0   \n",
       "41      лесбийский секс кунилингусом стройный студентк...      1        110.0   \n",
       "...                                                   ...    ...          ...   \n",
       "135221  pinoy biggest collection pinoy quality clips n...      1         65.0   \n",
       "135239            two titted blondes enjoy big cock negra      1         39.0   \n",
       "135253  всё рассказ первый знакомство секс эротический...      1         78.0   \n",
       "135256            food wild indian tube pakistanporn info      1         42.0   \n",
       "135287  гарри поттер секс волшебный мир часть эротичес...      1         83.0   \n",
       "\n",
       "       url_domain    site_name  domain_unique_not  site_length  url_length   \n",
       "8             com        xlecx                  0            5           9  \\\n",
       "12           info         info                  0            4          13   \n",
       "19            net   24eropixel                  0           10          14   \n",
       "21            com    gdespaces                  0            9          13   \n",
       "41            com      hdxclub                  0            7          11   \n",
       "...           ...          ...                ...          ...         ...   \n",
       "135221        com  nola-london                  0           11          15   \n",
       "135239        com    pornotwix                  0            9          13   \n",
       "135253        org       sexlib                  0            6          10   \n",
       "135256       info         info                  0            4          17   \n",
       "135287        org       sexlib                  0            6          10   \n",
       "\n",
       "        num_words    probas  \n",
       "8               7  0.934054  \n",
       "12             12  0.902352  \n",
       "19             11  0.859020  \n",
       "21              5  0.887335  \n",
       "41             11  0.921170  \n",
       "...           ...       ...  \n",
       "135221          8  0.856929  \n",
       "135239          7  0.879364  \n",
       "135253          8  0.928766  \n",
       "135256          6  0.914557  \n",
       "135287          9  0.927014  \n",
       "\n",
       "[15105 rows x 12 columns]"
      ]
     },
     "execution_count": 48,
     "metadata": {},
     "output_type": "execute_result"
    }
   ],
   "source": [
    "content_dataset.query('label == 1')"
   ]
  },
  {
   "cell_type": "markdown",
   "metadata": {},
   "source": [
    "### Можно также посмотреть на парметра числа ссылок внутри текстов. При 18+ текстах очень много ссылок на ресурсы"
   ]
  },
  {
   "cell_type": "code",
   "execution_count": 123,
   "metadata": {},
   "outputs": [],
   "source": [
    "links = '(https?://\\S+|www\\.\\S+)'\n",
    "def number_links(x):\n",
    "    return len(re.findall(links, x))\n",
    "\n",
    "content_dataset['number_links'] = content_dataset[['title']].applymap(number_links)"
   ]
  },
  {
   "cell_type": "code",
   "execution_count": 49,
   "metadata": {},
   "outputs": [
    {
     "data": {
      "text/plain": [
       "(119834, 12)"
      ]
     },
     "execution_count": 49,
     "metadata": {},
     "output_type": "execute_result"
    }
   ],
   "source": [
    "content_dataset.shape"
   ]
  },
  {
   "cell_type": "markdown",
   "metadata": {},
   "source": [
    "### Таких экземпляров ноль, выходит -> фича мусорная"
   ]
  },
  {
   "cell_type": "code",
   "execution_count": 136,
   "metadata": {},
   "outputs": [
    {
     "data": {
      "text/plain": [
       "Text(0.5, 1.0, 'Distribution for negatives')"
      ]
     },
     "execution_count": 136,
     "metadata": {},
     "output_type": "execute_result"
    },
    {
     "data": {
      "image/png": "[encoded data removed]",
      "text/plain": [
       "<Figure size 1500x500 with 3 Axes>"
      ]
     },
     "metadata": {},
     "output_type": "display_data"
    }
   ],
   "source": [
    "figure, axs = plt.subplots(1, 3, sharey=True, figsize = (15, 5))\n",
    "\n",
    "lens_positive_class = content_dataset.query('label == 1').site_length.values\n",
    "lens_negative_class = content_dataset.query('label == 0').site_length.values\n",
    "\n",
    "\n",
    "axs[0].hist(content_dataset['site_length'], bins = 100)\n",
    "axs[0].set_title('Distribution for all')\n",
    "\n",
    "axs[1].hist(lens_positive_class, bins = 100, color = 'red')\n",
    "axs[1].set_title('Distribution for positives')\n",
    "\n",
    "axs[2].hist(lens_negative_class, bins = 100, color = 'green')\n",
    "axs[2].set_title('Distribution for negatives')\n"
   ]
  },
  {
   "cell_type": "code",
   "execution_count": 254,
   "metadata": {},
   "outputs": [
    {
     "name": "stdout",
     "output_type": "stream",
     "text": [
      "4.0\n",
      "2.0\n",
      "19.0\n",
      "17.0\n"
     ]
    }
   ],
   "source": [
    "print(content_dataset.query('label == 1')['site_length'].quantile(0.01))\n",
    "print(content_dataset.query('label == 0')['site_length'].quantile(0.01))\n",
    "print(content_dataset.query('label == 1')['site_length'].quantile(0.99))\n",
    "print(content_dataset.query('label == 0')['site_length'].quantile(0.99))"
   ]
  },
  {
   "cell_type": "code",
   "execution_count": 50,
   "metadata": {},
   "outputs": [],
   "source": [
    "content_dataset = content_dataset.query('site_length >=2 & site_length <= 18')"
   ]
  },
  {
   "cell_type": "code",
   "execution_count": 57,
   "metadata": {},
   "outputs": [
    {
     "data": {
      "text/plain": [
       "1         [pesnia, stat', izvestnyi, mnogii, telezritel'...\n",
       "2                  [banshi, sezon, seriia, bremia, krasota]\n",
       "4         [novomoskovsk, sygrat', sledzh, khokkeist, ale...\n",
       "5         [salat, koreiskii, morkov', kopchionyi, kurits...\n",
       "6         [uglovoi, pnevmogaikovert, fubag, rwc, ekateri...\n",
       "                                ...                        \n",
       "135303                    [toyota, yaris, yaris, sell, buy]\n",
       "135304    [pora, tiul'pan, turetskii, serial, russkii, i...\n",
       "135305    [ostrosiuzhetnyi, serial, shef, igra, povyshen...\n",
       "135307    [kupit', skin, syvorotka, pitatel'nyi, power, ...\n",
       "135308    [tekhnicheskii, spirt, kanistra, flakon, kupit...\n",
       "Name: title, Length: 119101, dtype: object"
      ]
     },
     "execution_count": 57,
     "metadata": {},
     "output_type": "execute_result"
    }
   ],
   "source": [
    "content_dataset['title']"
   ]
  },
  {
   "cell_type": "code",
   "execution_count": 68,
   "metadata": {},
   "outputs": [],
   "source": [
    "def text_regenerator(x):\n",
    "    return ' '.join(x)\n",
    "content_dataset['title'] = content_dataset[['title']].applymap(text_regenerator)"
   ]
  },
  {
   "cell_type": "code",
   "execution_count": 53,
   "metadata": {},
   "outputs": [],
   "source": [
    "content_dataset['title'] = content_dataset[['title']].applymap(unidecoder)"
   ]
  },
  {
   "cell_type": "code",
   "execution_count": 60,
   "metadata": {},
   "outputs": [],
   "source": [
    "from gensim.models import Word2Vec\n",
    "\n",
    "def splitter(x):\n",
    "    return x.split()\n",
    "\n",
    "content_dataset['title'] = content_dataset[['title']].applymap(splitter)\n",
    "sentences = content_dataset['title']\n",
    "\n",
    "# Пример предобработки текста и подготовки данных\n",
    "\n",
    "# Загрузка предобученной модели Word2Vec или создание и обучение собственной модели\n",
    "w2v_model = Word2Vec(sentences, vector_size=300, window=5, min_count=1, workers=4, sg=0)  # Пример создания и обучения модели"
   ]
  },
  {
   "cell_type": "code",
   "execution_count": 61,
   "metadata": {},
   "outputs": [
    {
     "data": {
      "text/plain": [
       "[('khudenkii', 0.978549063205719),\n",
       " ('minut', 0.9756140112876892),\n",
       " ('trakhnut', 0.9747576117515564),\n",
       " ('molodoi', 0.9739779233932495),\n",
       " ('zrelyi', 0.9732882380485535),\n",
       " ('sosat', 0.9713557362556458),\n",
       " ('pisia', 0.9692949652671814),\n",
       " ('trakhatsia', 0.9690665602684021),\n",
       " ('lesbi', 0.9689028263092041),\n",
       " ('razvesti', 0.9673916101455688)]"
      ]
     },
     "execution_count": 61,
     "metadata": {},
     "output_type": "execute_result"
    }
   ],
   "source": [
    "w2v_model.wv.most_similar(positive='seks')"
   ]
  },
  {
   "cell_type": "code",
   "execution_count": 59,
   "metadata": {},
   "outputs": [],
   "source": [
    "import numpy as np\n",
    "import tensorflow as tf\n",
    "from sklearn.model_selection import train_test_split\n",
    "from gensim.models import Word2Vec\n",
    "from nltk.tokenize import word_tokenize\n",
    "\n",
    "# Обучение Word2Vec модели\n",
    "\n",
    "# Преобразование текста в векторы Word2Vec\n",
    "def text_to_vector(text):\n",
    "    vector = []\n",
    "    for word in text:\n",
    "        if word in w2v_model.wv:\n",
    "            vector.append(w2v_model.wv[word])\n",
    "    return vector\n",
    "X_vectors = [text_to_vector(text) for text in sentences]"
   ]
  },
  {
   "cell_type": "code",
   "execution_count": 59,
   "metadata": {},
   "outputs": [],
   "source": [
    "def drop_tire(x):\n",
    "    return x.replace('-', '')\n",
    "def drop_apostrophe(x):\n",
    "    return x.replace(\"'\", '')\n",
    "\n",
    "content_dataset['title'] = content_dataset[['title']].applymap(drop_tire)\n",
    "content_dataset['title'] = content_dataset[['title']].applymap(drop_apostrophe)"
   ]
  },
  {
   "cell_type": "code",
   "execution_count": 163,
   "metadata": {},
   "outputs": [],
   "source": [
    "X_train, X_test, Y_train, Y_test = train_test_split(content_dataset['title'].astype(str), content_dataset['label'], test_size = 0.2, random_state = 42)\n",
    "w2v = Word2Vec([sentence.lower().split() for sentence in X_train.values], vector_size = 300, window = 5)\n",
    "\n",
    "max_len = 15\n",
    "tokenizer = tf.keras.preprocessing.text.Tokenizer(num_words = 25000)\n",
    "tokenizer.fit_on_texts(X_train)"
   ]
  },
  {
   "cell_type": "code",
   "execution_count": 106,
   "metadata": {},
   "outputs": [],
   "source": [
    "sentences = content_dataset[['title']].applymap(text_regenerator)['title']"
   ]
  },
  {
   "cell_type": "code",
   "execution_count": 167,
   "metadata": {},
   "outputs": [],
   "source": [
    "X_train_sequences = tokenizer.texts_to_sequences(X_train.astype(str))\n",
    "X_test_sequences = tokenizer.texts_to_sequences(X_test.astype(str))"
   ]
  },
  {
   "cell_type": "code",
   "execution_count": 168,
   "metadata": {},
   "outputs": [],
   "source": [
    "X_train = tf.keras.utils.pad_sequences(X_train_sequences, maxlen = 15, padding = 'post', truncating = 'post')\n",
    "X_test = tf.keras.utils.pad_sequences(X_test_sequences, maxlen = 15, padding = 'post', truncating = 'post')"
   ]
  },
  {
   "cell_type": "code",
   "execution_count": 169,
   "metadata": {},
   "outputs": [],
   "source": [
    "embedding_matrix = np.zeros((len(word_index) + 1, 300))\n",
    "for word, i in word_index.items():\n",
    "    try:\n",
    "        embedding_matrix[i] = w2v.wv[i]\n",
    "    except:\n",
    "        embedding_matrix[i] = np.zeros(300)"
   ]
  },
  {
   "cell_type": "code",
   "execution_count": 171,
   "metadata": {},
   "outputs": [
    {
     "data": {
      "text/plain": [
       "(91534, 300)"
      ]
     },
     "execution_count": 171,
     "metadata": {},
     "output_type": "execute_result"
    }
   ],
   "source": [
    "embedding_matrix.shape"
   ]
  },
  {
   "cell_type": "code",
   "execution_count": 183,
   "metadata": {},
   "outputs": [
    {
     "name": "stdout",
     "output_type": "stream",
     "text": [
      "Epoch 1/10\n",
      "1191/1191 [==============================] - 655s 538ms/step - loss: 0.0624 - accuracy: 0.9809 - val_loss: 0.0375 - val_accuracy: 0.9886\n",
      "Epoch 2/10\n",
      "1191/1191 [==============================] - 636s 534ms/step - loss: 0.0181 - accuracy: 0.9946 - val_loss: 0.0311 - val_accuracy: 0.9908\n",
      "Epoch 3/10\n",
      "1191/1191 [==============================] - 591s 496ms/step - loss: 0.0096 - accuracy: 0.9974 - val_loss: 0.0440 - val_accuracy: 0.9894\n",
      "Epoch 4/10\n",
      "1191/1191 [==============================] - 630s 529ms/step - loss: 0.0072 - accuracy: 0.9980 - val_loss: 0.0657 - val_accuracy: 0.9893\n",
      "Epoch 5/10\n",
      "1191/1191 [==============================] - 645s 541ms/step - loss: 0.0055 - accuracy: 0.9985 - val_loss: 0.0493 - val_accuracy: 0.9895\n",
      "Epoch 6/10\n",
      "1191/1191 [==============================] - 670s 562ms/step - loss: 0.0052 - accuracy: 0.9985 - val_loss: 0.0658 - val_accuracy: 0.9871\n",
      "Epoch 7/10\n",
      "1191/1191 [==============================] - 697s 586ms/step - loss: 0.0043 - accuracy: 0.9987 - val_loss: 0.0560 - val_accuracy: 0.9891\n",
      "Epoch 8/10\n",
      "1191/1191 [==============================] - 686s 576ms/step - loss: 0.0036 - accuracy: 0.9990 - val_loss: 0.0700 - val_accuracy: 0.9870\n",
      "Epoch 9/10\n",
      "1191/1191 [==============================] - 672s 565ms/step - loss: 0.0031 - accuracy: 0.9991 - val_loss: 0.0744 - val_accuracy: 0.9887\n",
      "Epoch 10/10\n",
      "1191/1191 [==============================] - 687s 577ms/step - loss: 0.0027 - accuracy: 0.9994 - val_loss: 0.0599 - val_accuracy: 0.9872\n",
      "745/745 [==============================] - 8s 11ms/step - loss: 0.0619 - accuracy: 0.9858\n",
      "Test Accuracy: 0.9858108162879944\n",
      "745/745 [==============================] - 7s 8ms/step\n",
      "0.9431741761936786\n",
      "              precision    recall  f1-score   support\n",
      "\n",
      "           0       0.99      0.99      0.99     20892\n",
      "           1       0.93      0.96      0.94      2929\n",
      "\n",
      "    accuracy                           0.99     23821\n",
      "   macro avg       0.96      0.97      0.97     23821\n",
      "weighted avg       0.99      0.99      0.99     23821\n",
      "\n"
     ]
    }
   ],
   "source": [
    "model = tf.keras.Sequential([\n",
    "    tf.keras.layers.Embedding(91534, 300, input_length = 15, weights = [embedding_matrix], trainable = True),\n",
    "    tf.keras.layers.LSTM(128),\n",
    "    tf.keras.layers.Dense(128, activation = 'relu'),\n",
    "    tf.keras.layers.Dense(1, activation = 'sigmoid')])\n",
    "model.compile(optimizer = 'adam', metrics = ['accuracy'], loss = 'binary_crossentropy')\n",
    "model.fit(X_train, Y_train, epochs=10, batch_size=64, validation_split=0.2)\n",
    "\n",
    "# Оценка производительности модели\n",
    "loss, accuracy = model.evaluate(X_test, Y_test)\n",
    "print(\"Test Accuracy:\", accuracy)\n",
    "y_pred = (model.predict(X_test) > 0.5).astype('int32')\n",
    "f1 = f1_score(y_true = Y_test, y_pred = y_pred)\n",
    "print(f1)\n",
    "print(classification_report(y_true = Y_test, y_pred = y_pred))"
   ]
  },
  {
   "cell_type": "code",
   "execution_count": 184,
   "metadata": {},
   "outputs": [
    {
     "name": "stdout",
     "output_type": "stream",
     "text": [
      "              precision    recall  f1-score   support\n",
      "\n",
      "           0       0.99      0.99      0.99     20892\n",
      "           1       0.93      0.96      0.94      2929\n",
      "\n",
      "    accuracy                           0.99     23821\n",
      "   macro avg       0.96      0.97      0.97     23821\n",
      "weighted avg       0.99      0.99      0.99     23821\n",
      "\n"
     ]
    }
   ],
   "source": [
    "print(classification_report(y_true = Y_test, y_pred = y_pred))"
   ]
  },
  {
   "cell_type": "code",
   "execution_count": null,
   "metadata": {},
   "outputs": [
    {
     "name": "stdout",
     "output_type": "stream",
     "text": [
      "              precision    recall  f1-score   support\n",
      "\n",
      "           0       0.99      0.99      0.99     20892\n",
      "           1       0.96      0.95      0.96      2929\n",
      "\n",
      "    accuracy                           0.99     23821\n",
      "   macro avg       0.98      0.97      0.98     23821\n",
      "weighted avg       0.99      0.99      0.99     23821\n",
      "\n"
     ]
    }
   ],
   "source": [
    "print(classification_report(y_true = Y_test, y_pred = y_pred))"
   ]
  },
  {
   "cell_type": "code",
   "execution_count": null,
   "metadata": {},
   "outputs": [],
   "source": [
    "model.save('my_model.h5')"
   ]
  },
  {
   "cell_type": "code",
   "execution_count": null,
   "metadata": {},
   "outputs": [],
   "source": [
    "model.save_weights('my_weights')"
   ]
  },
  {
   "cell_type": "code",
   "execution_count": null,
   "metadata": {},
   "outputs": [
    {
     "data": {
      "text/plain": [
       "[('sosat', 0.9627934694290161),\n",
       " ('trakhat', 0.9603622555732727),\n",
       " ('zrelyi', 0.9564337730407715),\n",
       " ('briunetka', 0.9532970190048218),\n",
       " ('trakhatsia', 0.9510602355003357),\n",
       " ('blondinka', 0.9481925368309021),\n",
       " ('dama', 0.9454161524772644),\n",
       " ('gei', 0.9442983865737915),\n",
       " ('seksualnyi', 0.9437835812568665),\n",
       " ('molodoi', 0.9437599182128906)]"
      ]
     },
     "execution_count": 73,
     "metadata": {},
     "output_type": "execute_result"
    }
   ],
   "source": [
    "w2v.wv.most_similar(\"seks\")"
   ]
  },
  {
   "cell_type": "code",
   "execution_count": null,
   "metadata": {},
   "outputs": [],
   "source": [
    "w2v_weights = w2v_model.wv.vectors\n",
    "vocab_size, embedding_size = w2v_weights.shape"
   ]
  },
  {
   "cell_type": "code",
   "execution_count": null,
   "metadata": {},
   "outputs": [],
   "source": [
    "X_vectors_padded = tf.keras.preprocessing.sequence.pad_sequences(X_vectors, padding = 'post',\n",
    "                                                                dtype = 'float32')"
   ]
  },
  {
   "cell_type": "code",
   "execution_count": null,
   "metadata": {},
   "outputs": [],
   "source": [
    "y = content_dataset['label'] \n",
    "\n",
    "# Разделение на обучающий и тестовый наборы\n",
    "X_train, X_test, y_train, y_test = train_test_split(X_vectors_padded, y, test_size=0.2, random_state=42)"
   ]
  },
  {
   "cell_type": "code",
   "execution_count": null,
   "metadata": {},
   "outputs": [
    {
     "data": {
      "text/plain": [
       "(123346, 4500)"
      ]
     },
     "execution_count": 86,
     "metadata": {},
     "output_type": "execute_result"
    }
   ],
   "source": [
    "X_vectors_padded.reshape(X_vectors_padded.shape[0], -1).shape"
   ]
  },
  {
   "cell_type": "code",
   "execution_count": null,
   "metadata": {},
   "outputs": [],
   "source": [
    "import numpy as np\n",
    "import tensorflow as tf\n",
    "from sklearn.model_selection import train_test_split\n",
    "from gensim.models import Word2Vec\n",
    "from nltk.tokenize import word_tokenize\n",
    "\n",
    "# Обучение Word2Vec модели\n",
    "\n",
    "# Преобразование текста в векторы Word2Vec\n",
    "# def text_to_vector(text):\n",
    "#     vector = []\n",
    "#     for word in text:\n",
    "#         if word in w2v_model.wv:\n",
    "#             vector.append(w2v_model.wv[word])\n",
    "#     return np.mean(vector, axis = 0) if vector else np.zeros(shape=(200,))\n",
    "\n",
    "# X_vectors = [text_to_vector(text) for text in sentences]\n",
    "\n",
    "# Преобразование входных данных в формат TensorFlow\n",
    "# X_vectors_padded = tf.keras.preprocessing.sequence.pad_sequences(X_vectors, padding='post', dtype='float32')\n",
    "# y = content_dataset['label'] \n",
    "\n",
    "# Разделение на обучающий и тестовый наборы\n",
    "X_train, X_test, y_train, y_test = train_test_split(X_vectors_padded, y, test_size=0.2, random_state=42)\n",
    "\n",
    "num_classes = 1\n",
    "\n",
    "# Построение модели нейронной сети\n",
    "model = tf.keras.Sequential([\n",
    "    tf.keras.layers.Embedding(input_dim = vocab_size, output_dim = 300, input_length = sequence_length,\n",
    "                              mask_zero = True, trainable = False),\n",
    "    tf.keras.layers.Bidirectional(tf.keras.layers.LSTM(128)),\n",
    "    tf.keras.layers.Dense(64, activation='relu'),\n",
    "    tf.keras.layers.Dense(num_classes, activation='sigmoid')\n",
    "])\n",
    "\n",
    "# Компиляция модели\n",
    "model.compile(loss='binary_crossentropy', optimizer='adam', metrics=['accuracy'])\n",
    "\n",
    "# Обучение модели\n",
    "model.fit(X_train, y_train, epochs=10, batch_size=32, validation_split=0.1)\n",
    "\n",
    "# Оценка производительности модели\n",
    "loss, accuracy = model.evaluate(X_test, y_test)\n",
    "print(\"Test Accuracy:\", accuracy)\n",
    "y_pred = np.argmax(model.predict(X_test), axis = -1)\n",
    "f1 = f1_score(y_true = y_test, y_pred = y_pred)\n",
    "print(f1)\n",
    "print(classification_report(y_true = y_test, y_pred = y_pred))"
   ]
  },
  {
   "cell_type": "code",
   "execution_count": null,
   "metadata": {},
   "outputs": [
    {
     "name": "stdout",
     "output_type": "stream",
     "text": [
      "771/771 [==============================] - 8s 10ms/step\n",
      "771/771 [==============================] - 7s 8ms/step\n"
     ]
    },
    {
     "data": {
      "text/plain": [
       "array([], dtype=int64)"
      ]
     },
     "execution_count": 84,
     "metadata": {},
     "output_type": "execute_result"
    }
   ],
   "source": [
    "np.argmax(model.predict(X_test), axis = -1)[np.argmax(model.predict(X_test), axis = -1) == 1]"
   ]
  },
  {
   "cell_type": "code",
   "execution_count": null,
   "metadata": {},
   "outputs": [
    {
     "name": "stdout",
     "output_type": "stream",
     "text": [
      "              precision    recall  f1-score   support\n",
      "\n",
      "           0       0.87      1.00      0.93     21562\n",
      "           1       0.00      0.00      0.00      3108\n",
      "\n",
      "    accuracy                           0.87     24670\n",
      "   macro avg       0.44      0.50      0.47     24670\n",
      "weighted avg       0.76      0.87      0.82     24670\n",
      "\n"
     ]
    }
   ],
   "source": [
    "print(classification_report(y_true = y_test, y_pred = y_pred))"
   ]
  },
  {
   "cell_type": "code",
   "execution_count": null,
   "metadata": {},
   "outputs": [
    {
     "name": "stdout",
     "output_type": "stream",
     "text": [
      "771/771 [==============================] - 9s 12ms/step\n"
     ]
    }
   ],
   "source": [
    "result = model.predict(X_test) > 0.5"
   ]
  },
  {
   "cell_type": "code",
   "execution_count": null,
   "metadata": {},
   "outputs": [
    {
     "name": "stdout",
     "output_type": "stream",
     "text": [
      "763/763 [==============================] - 8s 11ms/step\n"
     ]
    }
   ],
   "source": [
    "y_pred = np.argmax(model.predict(X_test), axis = -1)"
   ]
  },
  {
   "cell_type": "code",
   "execution_count": null,
   "metadata": {},
   "outputs": [
    {
     "data": {
      "text/plain": [
       "0         [экс, министр, экономика, молдова, глава, мидэ...\n",
       "1         [песня, стать, известный, многий, телезритель,...\n",
       "2                     [банши, сезон, серия, бремя, красота]\n",
       "4         [новомосковск, сыграть, следж, хоккеист, алекс...\n",
       "5         [салат, корейский, морковь, копчёный, курица, ...\n",
       "                                ...                        \n",
       "135303                    [toyota, yaris, yaris, sell, buy]\n",
       "135304    [пора, тюльпан, турецкий, сериал, русский, язы...\n",
       "135305    [остросюжетный, сериал, шеф, игра, повышение, ...\n",
       "135307    [купить, skin, сыворотка, питательный, power, ...\n",
       "135308    [технический, спирт, канистра, флакон, купить,...\n",
       "Name: title, Length: 122036, dtype: object"
      ]
     },
     "execution_count": 365,
     "metadata": {},
     "output_type": "execute_result"
    }
   ],
   "source": [
    "sentences"
   ]
  },
  {
   "cell_type": "code",
   "execution_count": null,
   "metadata": {},
   "outputs": [],
   "source": [
    "X = np.array([np.mean([w2v_model.wv[word] for word in sentence if word in w2v_model.wv] or [np.zeros(150)], axis=0) for sentence in sentences])"
   ]
  },
  {
   "cell_type": "code",
   "execution_count": null,
   "metadata": {},
   "outputs": [
    {
     "data": {
      "text/plain": [
       "(122036, 150)"
      ]
     },
     "execution_count": 177,
     "metadata": {},
     "output_type": "execute_result"
    }
   ],
   "source": [
    "X.shape"
   ]
  },
  {
   "cell_type": "code",
   "execution_count": null,
   "metadata": {},
   "outputs": [],
   "source": [
    "content_dataset['title']  = content_dataset[['title']].applymap(text_regenerator)"
   ]
  },
  {
   "cell_type": "code",
   "execution_count": null,
   "metadata": {},
   "outputs": [],
   "source": [
    "content_dataset.query('label == 1')"
   ]
  },
  {
   "cell_type": "code",
   "execution_count": null,
   "metadata": {},
   "outputs": [],
   "source": [
    "test_dataset.head()"
   ]
  },
  {
   "cell_type": "code",
   "execution_count": null,
   "metadata": {},
   "outputs": [],
   "source": [
    "def drop_apostrophe(x):\n",
    "    return x.replace(\"'\", \"\")\n",
    "content_dataset['title'] = content_dataset[['title']].applymap(drop_apostrophe)\n",
    "def drop_dots(x):\n",
    "    return x.replace('.', \"\")\n",
    "content_dataset['url'] = content_dataset[['url']].applymap(drop_dots)\n",
    "def drop_tire(x):\n",
    "    return x.replace('-', \"\")\n",
    "content_dataset['url'] = content_dataset[['url']].applymap(drop_tire)\n",
    "content_dataset['title'] = content_dataset[['title']].applymap(drop_tire)\n",
    "content_dataset['site_name'] = content_dataset[['site_name']].applymap(drop_tire)\n"
   ]
  },
  {
   "cell_type": "code",
   "execution_count": null,
   "metadata": {},
   "outputs": [],
   "source": [
    "test_dataset['title'] = test_dataset[['title']].applymap(drop_apostrophe)\n",
    "test_dataset['title'] = test_dataset[['title']].applymap(drop_tire)\n",
    "test_dataset['url'] = test_dataset[['url']].applymap(drop_dots)\n",
    "test_dataset['url'] = test_dataset[['url']].applymap(drop_tire)\n",
    "test_dataset['site_name'] = test_dataset[['site_name']].applymap(drop_dots)"
   ]
  },
  {
   "cell_type": "code",
   "execution_count": null,
   "metadata": {},
   "outputs": [],
   "source": [
    "test_dataset.head()"
   ]
  },
  {
   "cell_type": "code",
   "execution_count": null,
   "metadata": {},
   "outputs": [
    {
     "data": {
      "text/plain": [
       "(122036, 11)"
      ]
     },
     "execution_count": 312,
     "metadata": {},
     "output_type": "execute_result"
    }
   ],
   "source": [
    "content_dataset.shape"
   ]
  },
  {
   "cell_type": "code",
   "execution_count": null,
   "metadata": {},
   "outputs": [],
   "source": [
    "positive_classes = content_dataset.query('label == 1')\n",
    "negative_classes = content_dataset.query('label == 0')"
   ]
  },
  {
   "cell_type": "code",
   "execution_count": null,
   "metadata": {},
   "outputs": [],
   "source": [
    "positive_classes_shuffle, positive_class_test = train_test_split(positive_classes, test_size = 0.2, random_state = SEED)"
   ]
  },
  {
   "cell_type": "code",
   "execution_count": null,
   "metadata": {},
   "outputs": [
    {
     "data": {
      "text/plain": [
       "((12426, 11), (3107, 11))"
      ]
     },
     "execution_count": 183,
     "metadata": {},
     "output_type": "execute_result"
    }
   ],
   "source": [
    "positive_classes_shuffle.shape, positive_class_test.shape"
   ]
  },
  {
   "cell_type": "code",
   "execution_count": null,
   "metadata": {},
   "outputs": [],
   "source": [
    "negative_classes_shuffle, negative_class_test = train_test_split(negative_classes, test_size = 0.5, random_state = SEED)"
   ]
  },
  {
   "cell_type": "code",
   "execution_count": null,
   "metadata": {},
   "outputs": [
    {
     "data": {
      "text/plain": [
       "((53251, 11), (53252, 11))"
      ]
     },
     "execution_count": 185,
     "metadata": {},
     "output_type": "execute_result"
    }
   ],
   "source": [
    "negative_classes_shuffle.shape, negative_class_test.shape"
   ]
  },
  {
   "cell_type": "code",
   "execution_count": null,
   "metadata": {},
   "outputs": [],
   "source": [
    "learning_content_dataset = pd.concat([positive_classes_shuffle, negative_classes_shuffle], axis = 0).sample(frac = 1)\n",
    "test_content_dataset = pd.concat([positive_class_test, negative_class_test], axis = 0).sample(frac = 1)"
   ]
  },
  {
   "cell_type": "code",
   "execution_count": null,
   "metadata": {},
   "outputs": [
    {
     "data": {
      "text/plain": [
       "(65677, 11)"
      ]
     },
     "execution_count": 254,
     "metadata": {},
     "output_type": "execute_result"
    }
   ],
   "source": [
    "learning_content_dataset.shape"
   ]
  },
  {
   "cell_type": "code",
   "execution_count": null,
   "metadata": {},
   "outputs": [
    {
     "data": {
      "text/plain": [
       "Text(0.5, 1.0, 'Distribution for negatives')"
      ]
     },
     "execution_count": 174,
     "metadata": {},
     "output_type": "execute_result"
    },
    {
     "data": {
      "image/png": "[encoded data removed]",
      "text/plain": [
       "<Figure size 1500x500 with 3 Axes>"
      ]
     },
     "metadata": {},
     "output_type": "display_data"
    }
   ],
   "source": [
    "figure, axs = plt.subplots(1, 3, sharey=True, figsize = (15, 5))\n",
    "\n",
    "lens_positive_class = learning_content_dataset.query('label == 1').text_length.values\n",
    "lens_negative_class = learning_content_dataset.query('label == 0').text_length.values\n",
    "\n",
    "\n",
    "axs[0].hist(learning_content_dataset['text_length'], bins = 100)\n",
    "axs[0].set_title('Distribution for all')\n",
    "\n",
    "axs[1].hist(lens_positive_class, bins = 100, color = 'red')\n",
    "axs[1].set_title('Distribution for positives')\n",
    "\n",
    "axs[2].hist(lens_negative_class, bins = 100, color = 'green')\n",
    "axs[2].set_title('Distribution for negatives')\n"
   ]
  },
  {
   "cell_type": "code",
   "execution_count": null,
   "metadata": {},
   "outputs": [
    {
     "name": "stdout",
     "output_type": "stream",
     "text": [
      "20.0\n",
      "22.0\n",
      "150.0\n",
      "159.0\n"
     ]
    }
   ],
   "source": [
    "print(learning_content_dataset.query('label == 1')['text_length'].quantile(0.01))\n",
    "print(learning_content_dataset.query('label == 0')['text_length'].quantile(0.01))\n",
    "print(learning_content_dataset.query('label == 1')['text_length'].quantile(0.99))\n",
    "print(learning_content_dataset.query('label == 0')['text_length'].quantile(0.99))"
   ]
  },
  {
   "cell_type": "code",
   "execution_count": null,
   "metadata": {},
   "outputs": [
    {
     "data": {
      "text/plain": [
       "Text(0.5, 1.0, 'Distribution for negatives')"
      ]
     },
     "execution_count": 101,
     "metadata": {},
     "output_type": "execute_result"
    },
    {
     "data": {
      "image/png": "[encoded data removed]",
      "text/plain": [
       "<Figure size 1500x500 with 3 Axes>"
      ]
     },
     "metadata": {},
     "output_type": "display_data"
    }
   ],
   "source": [
    "figure, axs = plt.subplots(1, 3, sharey=True, figsize = (15, 5))\n",
    "\n",
    "lens_positive_class = learning_content_dataset.query('label == 1').text_length.values\n",
    "lens_negative_class = learning_content_dataset.query('label == 0').text_length.values\n",
    "\n",
    "\n",
    "axs[0].hist(learning_content_dataset['text_length'], bins = 150)\n",
    "axs[0].set_title('Distribution for all')\n",
    "\n",
    "axs[1].hist(lens_positive_class, bins = 150, color = 'red')\n",
    "axs[1].set_title('Distribution for positives')\n",
    "\n",
    "axs[2].hist(lens_negative_class, bins = 150, color = 'green')\n",
    "axs[2].set_title('Distribution for negatives')\n"
   ]
  },
  {
   "cell_type": "code",
   "execution_count": null,
   "metadata": {},
   "outputs": [],
   "source": [
    "learning_content_dataset.dropna(inplace=True)"
   ]
  },
  {
   "cell_type": "code",
   "execution_count": null,
   "metadata": {},
   "outputs": [
    {
     "data": {
      "text/plain": [
       "(65677, 11)"
      ]
     },
     "execution_count": 188,
     "metadata": {},
     "output_type": "execute_result"
    }
   ],
   "source": [
    "learning_content_dataset.shape"
   ]
  },
  {
   "cell_type": "code",
   "execution_count": null,
   "metadata": {},
   "outputs": [
    {
     "name": "stdout",
     "output_type": "stream",
     "text": [
      "<class 'pandas.core.frame.DataFrame'>\n",
      "Index: 65501 entries, 83382 to 8860\n",
      "Data columns (total 11 columns):\n",
      " #   Column       Non-Null Count  Dtype  \n",
      "---  ------       --------------  -----  \n",
      " 0   ID           65501 non-null  int64  \n",
      " 1   url          65501 non-null  object \n",
      " 2   title        65501 non-null  object \n",
      " 3   label        65501 non-null  int64  \n",
      " 4   text_length  65501 non-null  float64\n",
      " 5   url_domain   65501 non-null  object \n",
      " 6   site_name    65501 non-null  object \n",
      " 7   site_length  65501 non-null  int64  \n",
      " 8   url_length   65501 non-null  int64  \n",
      " 9   num_words    65501 non-null  int64  \n",
      " 10  probas       65501 non-null  float64\n",
      "dtypes: float64(2), int64(5), object(4)\n",
      "memory usage: 6.0+ MB\n"
     ]
    }
   ],
   "source": [
    "learning_content_dataset.info()"
   ]
  },
  {
   "cell_type": "markdown",
   "metadata": {},
   "source": [
    "### SGDClassifier"
   ]
  },
  {
   "cell_type": "code",
   "execution_count": null,
   "metadata": {},
   "outputs": [],
   "source": [
    "stopword_set = set(nltk.corpus.stopwords.words('russian'))\n",
    "stopword_set_english = set(nltk.corpus.stopwords.words('english'))\n",
    "stopword_set = stopword_set.union({'это', 'который', 'весь', 'наш', 'свой', 'ещё', 'её', 'ваш', 'также', 'итак'})\n",
    "stopword_set = list(stopword_set.union(stopword_set_english))\n",
    "\n",
    "count_model = Pipeline([\n",
    "    (\n",
    "        'vectorizer',\n",
    "        CountVectorizer(\n",
    "            lowercase=True, ngram_range=(1, 1), token_pattern=TOKEN_PATTERN,\n",
    "            stop_words=stopword_set, min_df=3, max_df=0.8, analyzer = 'word'\n",
    "        )\n",
    "    ),\n",
    "    ('clf', SGDClassifier(random_state=SEED, loss='log', class_weight='balanced'))\n",
    "])"
   ]
  },
  {
   "cell_type": "code",
   "execution_count": null,
   "metadata": {},
   "outputs": [],
   "source": [
    "def joiner(x):\n",
    "    return x.replace(\" \", \"\")\n",
    "\n",
    "learning_content_dataset['site_name'] = learning_content_dataset[['site_name']].applymap(joiner)\n",
    "test_content_dataset['site_name'] = test_content_dataset[['site_name']].applymap(joiner)"
   ]
  },
  {
   "cell_type": "code",
   "execution_count": null,
   "metadata": {},
   "outputs": [],
   "source": [
    "learning_content_dataset['title'] = learning_content_dataset[['title']].applymap(text_regenerator)"
   ]
  },
  {
   "cell_type": "code",
   "execution_count": null,
   "metadata": {},
   "outputs": [],
   "source": [
    "def splitter(x):\n",
    "    return x.split()\n",
    "\n",
    "# learning_content_dataset['title'] = learning_content_dataset[['title']].applymap(splitter)\n",
    "\n",
    "# Пример предобработки текста и подготовки данных\n",
    "sentences = learning_content_dataset['title']\n",
    "\n",
    "# # Загрузка предобученной модели Word2Vec или создание и обучение собственной модели\n",
    "w2v_model_new = Word2Vec(sentences, vector_size=150, window=4, min_count=1, sg = 1, seed = 42, epochs = 10)  # Пример создания и обучения модели"
   ]
  },
  {
   "cell_type": "code",
   "execution_count": null,
   "metadata": {},
   "outputs": [
    {
     "data": {
      "text/html": [
       "<div>\n",
       "<style scoped>\n",
       "    .dataframe tbody tr th:only-of-type {\n",
       "        vertical-align: middle;\n",
       "    }\n",
       "\n",
       "    .dataframe tbody tr th {\n",
       "        vertical-align: top;\n",
       "    }\n",
       "\n",
       "    .dataframe thead th {\n",
       "        text-align: right;\n",
       "    }\n",
       "</style>\n",
       "<table border=\"1\" class=\"dataframe\">\n",
       "  <thead>\n",
       "    <tr style=\"text-align: right;\">\n",
       "      <th></th>\n",
       "      <th>ID</th>\n",
       "      <th>url</th>\n",
       "      <th>title</th>\n",
       "      <th>label</th>\n",
       "      <th>text_length</th>\n",
       "      <th>url_domain</th>\n",
       "      <th>site_name</th>\n",
       "      <th>site_length</th>\n",
       "      <th>url_length</th>\n",
       "      <th>num_words</th>\n",
       "      <th>probas</th>\n",
       "    </tr>\n",
       "  </thead>\n",
       "  <tbody>\n",
       "    <tr>\n",
       "      <th>53488</th>\n",
       "      <td>53488</td>\n",
       "      <td>mfunerru</td>\n",
       "      <td>[one, best, australian, drama, war, movies, be...</td>\n",
       "      <td>0</td>\n",
       "      <td>112.0</td>\n",
       "      <td>ru</td>\n",
       "      <td>funer</td>\n",
       "      <td>5</td>\n",
       "      <td>10</td>\n",
       "      <td>17</td>\n",
       "      <td>0.799929</td>\n",
       "    </tr>\n",
       "    <tr>\n",
       "      <th>13034</th>\n",
       "      <td>13034</td>\n",
       "      <td>bonedru</td>\n",
       "      <td>[пил, марината, пържене, направить, пърженото,...</td>\n",
       "      <td>0</td>\n",
       "      <td>64.0</td>\n",
       "      <td>ru</td>\n",
       "      <td>boned</td>\n",
       "      <td>5</td>\n",
       "      <td>8</td>\n",
       "      <td>7</td>\n",
       "      <td>0.923470</td>\n",
       "    </tr>\n",
       "    <tr>\n",
       "      <th>78799</th>\n",
       "      <td>78799</td>\n",
       "      <td>chinapornmoviecom</td>\n",
       "      <td>[русский, china, porn]</td>\n",
       "      <td>1</td>\n",
       "      <td>20.0</td>\n",
       "      <td>com</td>\n",
       "      <td>chinapornmovie</td>\n",
       "      <td>14</td>\n",
       "      <td>18</td>\n",
       "      <td>3</td>\n",
       "      <td>0.750531</td>\n",
       "    </tr>\n",
       "    <tr>\n",
       "      <th>2690</th>\n",
       "      <td>2690</td>\n",
       "      <td>classesru</td>\n",
       "      <td>[copak, nevн, copak, nevн, перевод, чешско, ру...</td>\n",
       "      <td>0</td>\n",
       "      <td>66.0</td>\n",
       "      <td>ru</td>\n",
       "      <td>classes</td>\n",
       "      <td>7</td>\n",
       "      <td>10</td>\n",
       "      <td>8</td>\n",
       "      <td>0.887439</td>\n",
       "    </tr>\n",
       "    <tr>\n",
       "      <th>71078</th>\n",
       "      <td>71078</td>\n",
       "      <td>xnj1ahflxnp1ai</td>\n",
       "      <td>[исследовательский, работа, выжить, домашний, ...</td>\n",
       "      <td>0</td>\n",
       "      <td>65.0</td>\n",
       "      <td>xn--p1ai</td>\n",
       "      <td>xnp1ai</td>\n",
       "      <td>8</td>\n",
       "      <td>19</td>\n",
       "      <td>6</td>\n",
       "      <td>0.887333</td>\n",
       "    </tr>\n",
       "    <tr>\n",
       "      <th>...</th>\n",
       "      <td>...</td>\n",
       "      <td>...</td>\n",
       "      <td>...</td>\n",
       "      <td>...</td>\n",
       "      <td>...</td>\n",
       "      <td>...</td>\n",
       "      <td>...</td>\n",
       "      <td>...</td>\n",
       "      <td>...</td>\n",
       "      <td>...</td>\n",
       "      <td>...</td>\n",
       "    </tr>\n",
       "    <tr>\n",
       "      <th>76663</th>\n",
       "      <td>76663</td>\n",
       "      <td>wwwbolshoyvoprosru</td>\n",
       "      <td>[лёгкий, атлетика, доха, канал, показать]</td>\n",
       "      <td>0</td>\n",
       "      <td>75.0</td>\n",
       "      <td>ru</td>\n",
       "      <td>bolshoyvopros</td>\n",
       "      <td>13</td>\n",
       "      <td>20</td>\n",
       "      <td>7</td>\n",
       "      <td>0.838063</td>\n",
       "    </tr>\n",
       "    <tr>\n",
       "      <th>82973</th>\n",
       "      <td>82973</td>\n",
       "      <td>tesallru</td>\n",
       "      <td>[усадьба, мамонт, скриншот, tesall]</td>\n",
       "      <td>0</td>\n",
       "      <td>38.0</td>\n",
       "      <td>ru</td>\n",
       "      <td>tesall</td>\n",
       "      <td>6</td>\n",
       "      <td>9</td>\n",
       "      <td>4</td>\n",
       "      <td>0.903529</td>\n",
       "    </tr>\n",
       "    <tr>\n",
       "      <th>72272</th>\n",
       "      <td>72272</td>\n",
       "      <td>bolshoychlencom</td>\n",
       "      <td>[трахать, мамка, попка, душа, охуительное, пор...</td>\n",
       "      <td>1</td>\n",
       "      <td>75.0</td>\n",
       "      <td>com</td>\n",
       "      <td>bolshoychlen</td>\n",
       "      <td>13</td>\n",
       "      <td>17</td>\n",
       "      <td>9</td>\n",
       "      <td>0.772291</td>\n",
       "    </tr>\n",
       "    <tr>\n",
       "      <th>116988</th>\n",
       "      <td>116988</td>\n",
       "      <td>wwwdatarunru</td>\n",
       "      <td>[ключ, бисс, спутниковый, канал]</td>\n",
       "      <td>0</td>\n",
       "      <td>37.0</td>\n",
       "      <td>ru</td>\n",
       "      <td>datarun</td>\n",
       "      <td>7</td>\n",
       "      <td>14</td>\n",
       "      <td>4</td>\n",
       "      <td>0.856521</td>\n",
       "    </tr>\n",
       "    <tr>\n",
       "      <th>9242</th>\n",
       "      <td>9242</td>\n",
       "      <td>mailru</td>\n",
       "      <td>[лейла, пахомов, тыс, результат, поиск, mail]</td>\n",
       "      <td>0</td>\n",
       "      <td>52.0</td>\n",
       "      <td>ru</td>\n",
       "      <td>mail</td>\n",
       "      <td>4</td>\n",
       "      <td>7</td>\n",
       "      <td>6</td>\n",
       "      <td>0.935827</td>\n",
       "    </tr>\n",
       "  </tbody>\n",
       "</table>\n",
       "<p>65677 rows × 11 columns</p>\n",
       "</div>"
      ],
      "text/plain": [
       "            ID                 url   \n",
       "53488    53488            mfunerru  \\\n",
       "13034    13034             bonedru   \n",
       "78799    78799   chinapornmoviecom   \n",
       "2690      2690           classesru   \n",
       "71078    71078      xnj1ahflxnp1ai   \n",
       "...        ...                 ...   \n",
       "76663    76663  wwwbolshoyvoprosru   \n",
       "82973    82973            tesallru   \n",
       "72272    72272     bolshoychlencom   \n",
       "116988  116988        wwwdatarunru   \n",
       "9242      9242              mailru   \n",
       "\n",
       "                                                    title  label  text_length   \n",
       "53488   [one, best, australian, drama, war, movies, be...      0        112.0  \\\n",
       "13034   [пил, марината, пържене, направить, пърженото,...      0         64.0   \n",
       "78799                              [русский, china, porn]      1         20.0   \n",
       "2690    [copak, nevн, copak, nevн, перевод, чешско, ру...      0         66.0   \n",
       "71078   [исследовательский, работа, выжить, домашний, ...      0         65.0   \n",
       "...                                                   ...    ...          ...   \n",
       "76663           [лёгкий, атлетика, доха, канал, показать]      0         75.0   \n",
       "82973                 [усадьба, мамонт, скриншот, tesall]      0         38.0   \n",
       "72272   [трахать, мамка, попка, душа, охуительное, пор...      1         75.0   \n",
       "116988                   [ключ, бисс, спутниковый, канал]      0         37.0   \n",
       "9242        [лейла, пахомов, тыс, результат, поиск, mail]      0         52.0   \n",
       "\n",
       "       url_domain       site_name  site_length  url_length  num_words   \n",
       "53488          ru           funer            5          10         17  \\\n",
       "13034          ru           boned            5           8          7   \n",
       "78799         com  chinapornmovie           14          18          3   \n",
       "2690           ru         classes            7          10          8   \n",
       "71078    xn--p1ai          xnp1ai            8          19          6   \n",
       "...           ...             ...          ...         ...        ...   \n",
       "76663          ru   bolshoyvopros           13          20          7   \n",
       "82973          ru          tesall            6           9          4   \n",
       "72272         com    bolshoychlen           13          17          9   \n",
       "116988         ru         datarun            7          14          4   \n",
       "9242           ru            mail            4           7          6   \n",
       "\n",
       "          probas  \n",
       "53488   0.799929  \n",
       "13034   0.923470  \n",
       "78799   0.750531  \n",
       "2690    0.887439  \n",
       "71078   0.887333  \n",
       "...          ...  \n",
       "76663   0.838063  \n",
       "82973   0.903529  \n",
       "72272   0.772291  \n",
       "116988  0.856521  \n",
       "9242    0.935827  \n",
       "\n",
       "[65677 rows x 11 columns]"
      ]
     },
     "execution_count": 322,
     "metadata": {},
     "output_type": "execute_result"
    }
   ],
   "source": [
    "learning_content_dataset"
   ]
  },
  {
   "cell_type": "code",
   "execution_count": null,
   "metadata": {},
   "outputs": [],
   "source": [
    "learning_content_dataset['title'] = learning_content_dataset[['title']].applymap(splitter)"
   ]
  },
  {
   "cell_type": "code",
   "execution_count": null,
   "metadata": {},
   "outputs": [
    {
     "data": {
      "text/plain": [
       "(65677,)"
      ]
     },
     "execution_count": 318,
     "metadata": {},
     "output_type": "execute_result"
    }
   ],
   "source": [
    "learning_content_dataset['title'].shape"
   ]
  },
  {
   "cell_type": "code",
   "execution_count": null,
   "metadata": {},
   "outputs": [],
   "source": [
    "w2v_model.build_vocab(sentences)"
   ]
  },
  {
   "cell_type": "code",
   "execution_count": null,
   "metadata": {},
   "outputs": [
    {
     "data": {
      "text/plain": [
       "(13766538, 14187810)"
      ]
     },
     "execution_count": 321,
     "metadata": {},
     "output_type": "execute_result"
    }
   ],
   "source": [
    "w2v_model.train(learning_content_dataset['title'], total_examples=w2v_model.corpus_count, epochs=30, report_delay=1)"
   ]
  },
  {
   "cell_type": "code",
   "execution_count": null,
   "metadata": {},
   "outputs": [
    {
     "data": {
      "text/plain": [
       "[('scorpion', 0.8046091794967651),\n",
       " ('tbapu', 0.803338348865509),\n",
       " ('sobr', 0.7997097373008728),\n",
       " ('allow', 0.7919834852218628),\n",
       " ('legs', 0.7895491123199463),\n",
       " ('trish', 0.7781224250793457),\n",
       " ('ichikami', 0.7776212692260742),\n",
       " ('тусовщицы', 0.776582658290863),\n",
       " ('gone', 0.7756456136703491),\n",
       " ('optshop', 0.7741476893424988)]"
      ]
     },
     "execution_count": 330,
     "metadata": {},
     "output_type": "execute_result"
    }
   ],
   "source": [
    "w2v_model.wv.most_similar(positive=[\"секс\"])"
   ]
  },
  {
   "cell_type": "code",
   "execution_count": null,
   "metadata": {},
   "outputs": [],
   "source": [
    "w2v_model.wv[0]"
   ]
  },
  {
   "cell_type": "code",
   "execution_count": null,
   "metadata": {},
   "outputs": [
    {
     "data": {
      "text/plain": [
       "0         [экс, министр, экономика, молдова, глава, мидэ...\n",
       "1         [песня, стать, известный, многий, телезритель,...\n",
       "2                     [банши, сезон, серия, бремя, красота]\n",
       "4         [новомосковск, сыграть, следж, хоккеист, алекс...\n",
       "5         [салат, корейский, морковь, копчёный, курица, ...\n",
       "                                ...                        \n",
       "135303                    [toyota, yaris, yaris, sell, buy]\n",
       "135304    [пора, тюльпан, турецкий, сериал, русский, язы...\n",
       "135305    [остросюжетный, сериал, шеф, игра, повышение, ...\n",
       "135307    [купить, skin, сыворотка, питательный, power, ...\n",
       "135308    [технический, спирт, канистра, флакон, купить,...\n",
       "Name: title, Length: 122036, dtype: object"
      ]
     },
     "execution_count": 311,
     "metadata": {},
     "output_type": "execute_result"
    }
   ],
   "source": [
    "sentences"
   ]
  },
  {
   "cell_type": "code",
   "execution_count": null,
   "metadata": {},
   "outputs": [
    {
     "data": {
      "text/plain": [
       "(300,)"
      ]
     },
     "execution_count": 157,
     "metadata": {},
     "output_type": "execute_result"
    }
   ],
   "source": [
    "w2v_model.wv[0].shape"
   ]
  },
  {
   "cell_type": "code",
   "execution_count": null,
   "metadata": {},
   "outputs": [],
   "source": [
    "X_train = np.array([np.mean([w2v_model.wv[word] for word in sentence if word in w2v_model.wv] or [np.zeros(500)], axis=0) for sentence in sentences])\n",
    "\n",
    "Y_train = learning_content_dataset['label']\n"
   ]
  },
  {
   "cell_type": "code",
   "execution_count": null,
   "metadata": {},
   "outputs": [
    {
     "data": {
      "text/plain": [
       "(64007, 500)"
      ]
     },
     "execution_count": 185,
     "metadata": {},
     "output_type": "execute_result"
    }
   ],
   "source": [
    "X_train.shape"
   ]
  },
  {
   "cell_type": "code",
   "execution_count": null,
   "metadata": {},
   "outputs": [
    {
     "data": {
      "text/plain": [
       "(64007,)"
      ]
     },
     "execution_count": 186,
     "metadata": {},
     "output_type": "execute_result"
    }
   ],
   "source": [
    "Y_train.shape"
   ]
  },
  {
   "cell_type": "code",
   "execution_count": null,
   "metadata": {},
   "outputs": [
    {
     "data": {
      "text/html": [
       "<div>\n",
       "<style scoped>\n",
       "    .dataframe tbody tr th:only-of-type {\n",
       "        vertical-align: middle;\n",
       "    }\n",
       "\n",
       "    .dataframe tbody tr th {\n",
       "        vertical-align: top;\n",
       "    }\n",
       "\n",
       "    .dataframe thead th {\n",
       "        text-align: right;\n",
       "    }\n",
       "</style>\n",
       "<table border=\"1\" class=\"dataframe\">\n",
       "  <thead>\n",
       "    <tr style=\"text-align: right;\">\n",
       "      <th></th>\n",
       "      <th>ID</th>\n",
       "      <th>url</th>\n",
       "      <th>title</th>\n",
       "      <th>label</th>\n",
       "      <th>text_length</th>\n",
       "      <th>url_domain</th>\n",
       "      <th>site_name</th>\n",
       "      <th>site_length</th>\n",
       "      <th>url_length</th>\n",
       "      <th>num_words</th>\n",
       "      <th>probas</th>\n",
       "    </tr>\n",
       "  </thead>\n",
       "  <tbody>\n",
       "    <tr>\n",
       "      <th>53488</th>\n",
       "      <td>53488</td>\n",
       "      <td>mfunerru</td>\n",
       "      <td>[one, best, australian, drama, war, movies, be...</td>\n",
       "      <td>0</td>\n",
       "      <td>112.0</td>\n",
       "      <td>ru</td>\n",
       "      <td>funer</td>\n",
       "      <td>5</td>\n",
       "      <td>10</td>\n",
       "      <td>17</td>\n",
       "      <td>0.799929</td>\n",
       "    </tr>\n",
       "    <tr>\n",
       "      <th>13034</th>\n",
       "      <td>13034</td>\n",
       "      <td>bonedru</td>\n",
       "      <td>[пил, марината, пържене, направить, пърженото,...</td>\n",
       "      <td>0</td>\n",
       "      <td>64.0</td>\n",
       "      <td>ru</td>\n",
       "      <td>boned</td>\n",
       "      <td>5</td>\n",
       "      <td>8</td>\n",
       "      <td>7</td>\n",
       "      <td>0.923470</td>\n",
       "    </tr>\n",
       "    <tr>\n",
       "      <th>78799</th>\n",
       "      <td>78799</td>\n",
       "      <td>chinapornmoviecom</td>\n",
       "      <td>[русский, china, porn]</td>\n",
       "      <td>1</td>\n",
       "      <td>20.0</td>\n",
       "      <td>com</td>\n",
       "      <td>chinapornmovie</td>\n",
       "      <td>14</td>\n",
       "      <td>18</td>\n",
       "      <td>3</td>\n",
       "      <td>0.750531</td>\n",
       "    </tr>\n",
       "    <tr>\n",
       "      <th>2690</th>\n",
       "      <td>2690</td>\n",
       "      <td>classesru</td>\n",
       "      <td>[copak, nevн, copak, nevн, перевод, чешско, ру...</td>\n",
       "      <td>0</td>\n",
       "      <td>66.0</td>\n",
       "      <td>ru</td>\n",
       "      <td>classes</td>\n",
       "      <td>7</td>\n",
       "      <td>10</td>\n",
       "      <td>8</td>\n",
       "      <td>0.887439</td>\n",
       "    </tr>\n",
       "    <tr>\n",
       "      <th>71078</th>\n",
       "      <td>71078</td>\n",
       "      <td>xnj1ahflxnp1ai</td>\n",
       "      <td>[исследовательский, работа, выжить, домашний, ...</td>\n",
       "      <td>0</td>\n",
       "      <td>65.0</td>\n",
       "      <td>xn--p1ai</td>\n",
       "      <td>xnp1ai</td>\n",
       "      <td>8</td>\n",
       "      <td>19</td>\n",
       "      <td>6</td>\n",
       "      <td>0.887333</td>\n",
       "    </tr>\n",
       "  </tbody>\n",
       "</table>\n",
       "</div>"
      ],
      "text/plain": [
       "          ID                url   \n",
       "53488  53488           mfunerru  \\\n",
       "13034  13034            bonedru   \n",
       "78799  78799  chinapornmoviecom   \n",
       "2690    2690          classesru   \n",
       "71078  71078     xnj1ahflxnp1ai   \n",
       "\n",
       "                                                   title  label  text_length   \n",
       "53488  [one, best, australian, drama, war, movies, be...      0        112.0  \\\n",
       "13034  [пил, марината, пържене, направить, пърженото,...      0         64.0   \n",
       "78799                             [русский, china, porn]      1         20.0   \n",
       "2690   [copak, nevн, copak, nevн, перевод, чешско, ру...      0         66.0   \n",
       "71078  [исследовательский, работа, выжить, домашний, ...      0         65.0   \n",
       "\n",
       "      url_domain       site_name  site_length  url_length  num_words    probas  \n",
       "53488         ru           funer            5          10         17  0.799929  \n",
       "13034         ru           boned            5           8          7  0.923470  \n",
       "78799        com  chinapornmovie           14          18          3  0.750531  \n",
       "2690          ru         classes            7          10          8  0.887439  \n",
       "71078   xn--p1ai          xnp1ai            8          19          6  0.887333  "
      ]
     },
     "execution_count": 259,
     "metadata": {},
     "output_type": "execute_result"
    }
   ],
   "source": [
    "learning_content_dataset.head()"
   ]
  },
  {
   "cell_type": "code",
   "execution_count": null,
   "metadata": {},
   "outputs": [
    {
     "data": {
      "text/plain": [
       "(64007,)"
      ]
     },
     "execution_count": 104,
     "metadata": {},
     "output_type": "execute_result"
    }
   ],
   "source": [
    "X_train.shape"
   ]
  },
  {
   "cell_type": "code",
   "execution_count": null,
   "metadata": {},
   "outputs": [
    {
     "data": {
      "text/plain": [
       "(64007,)"
      ]
     },
     "execution_count": 106,
     "metadata": {},
     "output_type": "execute_result"
    }
   ],
   "source": [
    "Y_train.shape"
   ]
  },
  {
   "cell_type": "code",
   "execution_count": null,
   "metadata": {},
   "outputs": [],
   "source": [
    "count_model.fit(X_train, Y_train)"
   ]
  },
  {
   "cell_type": "code",
   "execution_count": null,
   "metadata": {},
   "outputs": [
    {
     "data": {
      "text/html": [
       "<style>#sk-container-id-39 {color: black;background-color: white;}#sk-container-id-39 pre{padding: 0;}#sk-container-id-39 div.sk-toggleable {background-color: white;}#sk-container-id-39 label.sk-toggleable__label {cursor: pointer;display: block;width: 100%;margin-bottom: 0;padding: 0.3em;box-sizing: border-box;text-align: center;}#sk-container-id-39 label.sk-toggleable__label-arrow:before {content: \"▸\";float: left;margin-right: 0.25em;color: #696969;}#sk-container-id-39 label.sk-toggleable__label-arrow:hover:before {color: black;}#sk-container-id-39 div.sk-estimator:hover label.sk-toggleable__label-arrow:before {color: black;}#sk-container-id-39 div.sk-toggleable__content {max-height: 0;max-width: 0;overflow: hidden;text-align: left;background-color: #f0f8ff;}#sk-container-id-39 div.sk-toggleable__content pre {margin: 0.2em;color: black;border-radius: 0.25em;background-color: #f0f8ff;}#sk-container-id-39 input.sk-toggleable__control:checked~div.sk-toggleable__content {max-height: 200px;max-width: 100%;overflow: auto;}#sk-container-id-39 input.sk-toggleable__control:checked~label.sk-toggleable__label-arrow:before {content: \"▾\";}#sk-container-id-39 div.sk-estimator input.sk-toggleable__control:checked~label.sk-toggleable__label {background-color: #d4ebff;}#sk-container-id-39 div.sk-label input.sk-toggleable__control:checked~label.sk-toggleable__label {background-color: #d4ebff;}#sk-container-id-39 input.sk-hidden--visually {border: 0;clip: rect(1px 1px 1px 1px);clip: rect(1px, 1px, 1px, 1px);height: 1px;margin: -1px;overflow: hidden;padding: 0;position: absolute;width: 1px;}#sk-container-id-39 div.sk-estimator {font-family: monospace;background-color: #f0f8ff;border: 1px dotted black;border-radius: 0.25em;box-sizing: border-box;margin-bottom: 0.5em;}#sk-container-id-39 div.sk-estimator:hover {background-color: #d4ebff;}#sk-container-id-39 div.sk-parallel-item::after {content: \"\";width: 100%;border-bottom: 1px solid gray;flex-grow: 1;}#sk-container-id-39 div.sk-label:hover label.sk-toggleable__label {background-color: #d4ebff;}#sk-container-id-39 div.sk-serial::before {content: \"\";position: absolute;border-left: 1px solid gray;box-sizing: border-box;top: 0;bottom: 0;left: 50%;z-index: 0;}#sk-container-id-39 div.sk-serial {display: flex;flex-direction: column;align-items: center;background-color: white;padding-right: 0.2em;padding-left: 0.2em;position: relative;}#sk-container-id-39 div.sk-item {position: relative;z-index: 1;}#sk-container-id-39 div.sk-parallel {display: flex;align-items: stretch;justify-content: center;background-color: white;position: relative;}#sk-container-id-39 div.sk-item::before, #sk-container-id-39 div.sk-parallel-item::before {content: \"\";position: absolute;border-left: 1px solid gray;box-sizing: border-box;top: 0;bottom: 0;left: 50%;z-index: -1;}#sk-container-id-39 div.sk-parallel-item {display: flex;flex-direction: column;z-index: 1;position: relative;background-color: white;}#sk-container-id-39 div.sk-parallel-item:first-child::after {align-self: flex-end;width: 50%;}#sk-container-id-39 div.sk-parallel-item:last-child::after {align-self: flex-start;width: 50%;}#sk-container-id-39 div.sk-parallel-item:only-child::after {width: 0;}#sk-container-id-39 div.sk-dashed-wrapped {border: 1px dashed gray;margin: 0 0.4em 0.5em 0.4em;box-sizing: border-box;padding-bottom: 0.4em;background-color: white;}#sk-container-id-39 div.sk-label label {font-family: monospace;font-weight: bold;display: inline-block;line-height: 1.2em;}#sk-container-id-39 div.sk-label-container {text-align: center;}#sk-container-id-39 div.sk-container {/* jupyter's `normalize.less` sets `[hidden] { display: none; }` but bootstrap.min.css set `[hidden] { display: none !important; }` so we also need the `!important` here to be able to override the default hidden behavior on the sphinx rendered scikit-learn.org. See: https://github.com/scikit-learn/scikit-learn/issues/21755 */display: inline-block !important;position: relative;}#sk-container-id-39 div.sk-text-repr-fallback {display: none;}</style><div id=\"sk-container-id-39\" class=\"sk-top-container\"><div class=\"sk-text-repr-fallback\"><pre>CountVectorizer(max_df=0.8, min_df=3,\n",
       "                stop_words=[&#x27;ours&#x27;, &quot;it&#x27;s&quot;, &#x27;для&#x27;, &#x27;they&#x27;, &#x27;mustn&#x27;, &#x27;меня&#x27;,\n",
       "                            &#x27;both&#x27;, &#x27;so&#x27;, &#x27;нет&#x27;, &#x27;они&#x27;, &#x27;yourself&#x27;, &#x27;надо&#x27;,\n",
       "                            &#x27;ll&#x27;, &#x27;has&#x27;, &#x27;aren&#x27;, &#x27;там&#x27;, &#x27;даже&#x27;, &#x27;here&#x27;, &#x27;ma&#x27;,\n",
       "                            &#x27;этого&#x27;, &#x27;did&#x27;, &#x27;will&#x27;, &#x27;да&#x27;, &#x27;having&#x27;, &#x27;when&#x27;,\n",
       "                            &#x27;am&#x27;, &#x27;всего&#x27;, &#x27;hers&#x27;, &quot;shan&#x27;t&quot;, &#x27;наш&#x27;, ...],\n",
       "                token_pattern=&#x27;[а-яёa-z]+&#x27;)</pre><b>In a Jupyter environment, please rerun this cell to show the HTML representation or trust the notebook. <br />On GitHub, the HTML representation is unable to render, please try loading this page with nbviewer.org.</b></div><div class=\"sk-container\" hidden><div class=\"sk-item\"><div class=\"sk-estimator sk-toggleable\"><input class=\"sk-toggleable__control sk-hidden--visually\" id=\"sk-estimator-id-65\" type=\"checkbox\" checked><label for=\"sk-estimator-id-65\" class=\"sk-toggleable__label sk-toggleable__label-arrow\">CountVectorizer</label><div class=\"sk-toggleable__content\"><pre>CountVectorizer(max_df=0.8, min_df=3,\n",
       "                stop_words=[&#x27;ours&#x27;, &quot;it&#x27;s&quot;, &#x27;для&#x27;, &#x27;they&#x27;, &#x27;mustn&#x27;, &#x27;меня&#x27;,\n",
       "                            &#x27;both&#x27;, &#x27;so&#x27;, &#x27;нет&#x27;, &#x27;они&#x27;, &#x27;yourself&#x27;, &#x27;надо&#x27;,\n",
       "                            &#x27;ll&#x27;, &#x27;has&#x27;, &#x27;aren&#x27;, &#x27;там&#x27;, &#x27;даже&#x27;, &#x27;here&#x27;, &#x27;ma&#x27;,\n",
       "                            &#x27;этого&#x27;, &#x27;did&#x27;, &#x27;will&#x27;, &#x27;да&#x27;, &#x27;having&#x27;, &#x27;when&#x27;,\n",
       "                            &#x27;am&#x27;, &#x27;всего&#x27;, &#x27;hers&#x27;, &quot;shan&#x27;t&quot;, &#x27;наш&#x27;, ...],\n",
       "                token_pattern=&#x27;[а-яёa-z]+&#x27;)</pre></div></div></div></div></div>"
      ],
      "text/plain": [
       "CountVectorizer(max_df=0.8, min_df=3,\n",
       "                stop_words=['ours', \"it's\", 'для', 'they', 'mustn', 'меня',\n",
       "                            'both', 'so', 'нет', 'они', 'yourself', 'надо',\n",
       "                            'll', 'has', 'aren', 'там', 'даже', 'here', 'ma',\n",
       "                            'этого', 'did', 'will', 'да', 'having', 'when',\n",
       "                            'am', 'всего', 'hers', \"shan't\", 'наш', ...],\n",
       "                token_pattern='[а-яёa-z]+')"
      ]
     },
     "execution_count": 888,
     "metadata": {},
     "output_type": "execute_result"
    }
   ],
   "source": [
    "vectorizer = count_model.steps[0][1]\n",
    "vectorizer"
   ]
  },
  {
   "cell_type": "code",
   "execution_count": null,
   "metadata": {},
   "outputs": [
    {
     "data": {
      "text/plain": [
       "19629"
      ]
     },
     "execution_count": 889,
     "metadata": {},
     "output_type": "execute_result"
    }
   ],
   "source": [
    "features = np.array(vectorizer.get_feature_names_out())\n",
    "\n",
    "len(features)"
   ]
  },
  {
   "cell_type": "code",
   "execution_count": null,
   "metadata": {},
   "outputs": [],
   "source": [
    "count_features = vectorizer.transform(X_train[[100]]).toarray()[0]"
   ]
  },
  {
   "cell_type": "code",
   "execution_count": null,
   "metadata": {},
   "outputs": [
    {
     "data": {
      "text/html": [
       "<div>\n",
       "<style scoped>\n",
       "    .dataframe tbody tr th:only-of-type {\n",
       "        vertical-align: middle;\n",
       "    }\n",
       "\n",
       "    .dataframe tbody tr th {\n",
       "        vertical-align: top;\n",
       "    }\n",
       "\n",
       "    .dataframe thead th {\n",
       "        text-align: right;\n",
       "    }\n",
       "</style>\n",
       "<table border=\"1\" class=\"dataframe\">\n",
       "  <thead>\n",
       "    <tr style=\"text-align: right;\">\n",
       "      <th></th>\n",
       "      <th>token</th>\n",
       "      <th>count</th>\n",
       "    </tr>\n",
       "  </thead>\n",
       "  <tbody>\n",
       "    <tr>\n",
       "      <th>0</th>\n",
       "      <td>волос</td>\n",
       "      <td>1</td>\n",
       "    </tr>\n",
       "    <tr>\n",
       "      <th>1</th>\n",
       "      <td>рассрочка</td>\n",
       "      <td>1</td>\n",
       "    </tr>\n",
       "  </tbody>\n",
       "</table>\n",
       "</div>"
      ],
      "text/plain": [
       "       token  count\n",
       "0      волос      1\n",
       "1  рассрочка      1"
      ]
     },
     "execution_count": 891,
     "metadata": {},
     "output_type": "execute_result"
    }
   ],
   "source": [
    "pd.DataFrame({\n",
    "    'token': features[count_features > 0], \n",
    "    'count':count_features[count_features > 0]\n",
    "})"
   ]
  },
  {
   "cell_type": "code",
   "execution_count": null,
   "metadata": {},
   "outputs": [
    {
     "data": {
      "text/plain": [
       "0.9678648418308519"
      ]
     },
     "execution_count": 892,
     "metadata": {},
     "output_type": "execute_result"
    }
   ],
   "source": [
    "f1_score(Y_train, count_model.predict(X_train))"
   ]
  },
  {
   "cell_type": "code",
   "execution_count": null,
   "metadata": {},
   "outputs": [],
   "source": [
    "from nltk.tokenize import word_tokenize\n",
    "\n",
    "# def splitter(x):\n",
    "#     return x.split()\n",
    "\n",
    "test_content_dataset['title'] = test_content_dataset[['title']].applymap(unidecoder)\n",
    "\n",
    "# Загрузка предобученной модели Word2Vec или создание и обучение собственной модели\n",
    "w2v_model_new = Word2Vec(sentences, vector_size=100, window=5, min_count=1)  # Пример создания и обучения модели"
   ]
  },
  {
   "cell_type": "code",
   "execution_count": null,
   "metadata": {},
   "outputs": [
    {
     "data": {
      "text/plain": [
       "(4260296, 4383765)"
      ]
     },
     "execution_count": 296,
     "metadata": {},
     "output_type": "execute_result"
    }
   ],
   "source": [
    "w2v_model_new.train(sentences, total_examples=w2v_model.corpus_count, epochs=w2v_model.epochs)"
   ]
  },
  {
   "cell_type": "code",
   "execution_count": null,
   "metadata": {},
   "outputs": [
    {
     "data": {
      "text/plain": [
       "[('гранный', 0.7320994138717651),\n",
       " ('каснодаре', 0.7291962504386902),\n",
       " ('виннер', 0.7265864014625549),\n",
       " ('адизес', 0.7125579714775085),\n",
       " ('слухопротезирование', 0.7007696628570557),\n",
       " ('станко', 0.700066328048706),\n",
       " ('батуринской', 0.6998882293701172),\n",
       " ('developpe', 0.6915228366851807),\n",
       " ('калачевский', 0.6874291896820068),\n",
       " ('сикрет', 0.676895797252655)]"
      ]
     },
     "execution_count": 316,
     "metadata": {},
     "output_type": "execute_result"
    }
   ],
   "source": [
    "w2v_model_new.wv.most_similar(negative=[\"porno\"])"
   ]
  },
  {
   "cell_type": "code",
   "execution_count": null,
   "metadata": {},
   "outputs": [
    {
     "data": {
      "text/plain": [
       "0         [экс, министр, экономика, молдова, глава, мидэ...\n",
       "1         [песня, стать, известный, многий, телезритель,...\n",
       "2                     [банши, сезон, серия, бремя, красота]\n",
       "4         [новомосковск, сыграть, следж, хоккеист, алекс...\n",
       "5         [салат, корейский, морковь, копчёный, курица, ...\n",
       "                                ...                        \n",
       "135303                    [toyota, yaris, yaris, sell, buy]\n",
       "135304    [пора, тюльпан, турецкий, сериал, русский, язы...\n",
       "135305    [остросюжетный, сериал, шеф, игра, повышение, ...\n",
       "135307    [купить, skin, сыворотка, питательный, power, ...\n",
       "135308    [технический, спирт, канистра, флакон, купить,...\n",
       "Name: title, Length: 122036, dtype: object"
      ]
     },
     "execution_count": 299,
     "metadata": {},
     "output_type": "execute_result"
    }
   ],
   "source": [
    "sentences"
   ]
  },
  {
   "cell_type": "code",
   "execution_count": null,
   "metadata": {},
   "outputs": [
    {
     "data": {
      "text/plain": [
       "0         [экс, министр, экономика, молдова, глава, мидэ...\n",
       "1         [песня, стать, известный, многий, телезритель,...\n",
       "2                     [банши, сезон, серия, бремя, красота]\n",
       "4         [новомосковск, сыграть, следж, хоккеист, алекс...\n",
       "5         [салат, корейский, морковь, копчёный, курица, ...\n",
       "                                ...                        \n",
       "135303                    [toyota, yaris, yaris, sell, buy]\n",
       "135304    [пора, тюльпан, турецкий, сериал, русский, язы...\n",
       "135305    [остросюжетный, сериал, шеф, игра, повышение, ...\n",
       "135307    [купить, skin, сыворотка, питательный, power, ...\n",
       "135308    [технический, спирт, канистра, флакон, купить,...\n",
       "Name: title, Length: 122036, dtype: object"
      ]
     },
     "execution_count": 285,
     "metadata": {},
     "output_type": "execute_result"
    }
   ],
   "source": [
    "tok"
   ]
  },
  {
   "cell_type": "code",
   "execution_count": null,
   "metadata": {},
   "outputs": [
    {
     "data": {
      "text/plain": [
       "[('каснодаре', 0.622505247592926),\n",
       " ('барабашова', 0.6128966212272644),\n",
       " ('екатеринбу', 0.6023606657981873),\n",
       " ('самозанятым', 0.5902367234230042),\n",
       " ('хэтти', 0.588477373123169),\n",
       " ('molle', 0.5859414935112),\n",
       " ('квалитет', 0.5685275197029114),\n",
       " ('трибукета', 0.5650768280029297),\n",
       " ('gagagames', 0.5633739233016968),\n",
       " ('дибуновская', 0.5604695081710815)]"
      ]
     },
     "execution_count": 288,
     "metadata": {},
     "output_type": "execute_result"
    }
   ],
   "source": [
    "w2v_model.wv.most_similar(negative=[\"ебля\"])"
   ]
  },
  {
   "cell_type": "code",
   "execution_count": null,
   "metadata": {},
   "outputs": [],
   "source": [
    "X_vector = np.array([np.mean([w2v_model.wv[word] for word in sentence if word in w2v_model.wv] or [np.zeros(500)], axis=0) for sentence in sentences])\n",
    "\n",
    "Y = content_dataset['label'].values"
   ]
  },
  {
   "cell_type": "code",
   "execution_count": null,
   "metadata": {},
   "outputs": [
    {
     "data": {
      "text/plain": [
       "(65677, 500)"
      ]
     },
     "execution_count": 266,
     "metadata": {},
     "output_type": "execute_result"
    }
   ],
   "source": [
    "X_vector.shape"
   ]
  },
  {
   "cell_type": "code",
   "execution_count": null,
   "metadata": {},
   "outputs": [],
   "source": [
    "X_train, X_test, Y_train, Y_test = train_test_split(X_vector, Y, test_size = 0.2, random_state = 42)"
   ]
  },
  {
   "cell_type": "code",
   "execution_count": null,
   "metadata": {},
   "outputs": [
    {
     "data": {
      "text/plain": [
       "((23821, 700), (23821,))"
      ]
     },
     "execution_count": 249,
     "metadata": {},
     "output_type": "execute_result"
    }
   ],
   "source": [
    "X_test.shape, Y_test.shape"
   ]
  },
  {
   "cell_type": "code",
   "execution_count": null,
   "metadata": {},
   "outputs": [
    {
     "data": {
      "text/plain": [
       "0.9424536010271973"
      ]
     },
     "execution_count": 895,
     "metadata": {},
     "output_type": "execute_result"
    }
   ],
   "source": [
    "f1_score(Y_test, count_model.predict(X_test))"
   ]
  },
  {
   "cell_type": "code",
   "execution_count": null,
   "metadata": {},
   "outputs": [],
   "source": [
    "log_reg = LogisticRegression(class_weight='balanced')"
   ]
  },
  {
   "cell_type": "code",
   "execution_count": null,
   "metadata": {},
   "outputs": [
    {
     "data": {
      "text/html": [
       "<style>#sk-container-id-9 {color: black;background-color: white;}#sk-container-id-9 pre{padding: 0;}#sk-container-id-9 div.sk-toggleable {background-color: white;}#sk-container-id-9 label.sk-toggleable__label {cursor: pointer;display: block;width: 100%;margin-bottom: 0;padding: 0.3em;box-sizing: border-box;text-align: center;}#sk-container-id-9 label.sk-toggleable__label-arrow:before {content: \"▸\";float: left;margin-right: 0.25em;color: #696969;}#sk-container-id-9 label.sk-toggleable__label-arrow:hover:before {color: black;}#sk-container-id-9 div.sk-estimator:hover label.sk-toggleable__label-arrow:before {color: black;}#sk-container-id-9 div.sk-toggleable__content {max-height: 0;max-width: 0;overflow: hidden;text-align: left;background-color: #f0f8ff;}#sk-container-id-9 div.sk-toggleable__content pre {margin: 0.2em;color: black;border-radius: 0.25em;background-color: #f0f8ff;}#sk-container-id-9 input.sk-toggleable__control:checked~div.sk-toggleable__content {max-height: 200px;max-width: 100%;overflow: auto;}#sk-container-id-9 input.sk-toggleable__control:checked~label.sk-toggleable__label-arrow:before {content: \"▾\";}#sk-container-id-9 div.sk-estimator input.sk-toggleable__control:checked~label.sk-toggleable__label {background-color: #d4ebff;}#sk-container-id-9 div.sk-label input.sk-toggleable__control:checked~label.sk-toggleable__label {background-color: #d4ebff;}#sk-container-id-9 input.sk-hidden--visually {border: 0;clip: rect(1px 1px 1px 1px);clip: rect(1px, 1px, 1px, 1px);height: 1px;margin: -1px;overflow: hidden;padding: 0;position: absolute;width: 1px;}#sk-container-id-9 div.sk-estimator {font-family: monospace;background-color: #f0f8ff;border: 1px dotted black;border-radius: 0.25em;box-sizing: border-box;margin-bottom: 0.5em;}#sk-container-id-9 div.sk-estimator:hover {background-color: #d4ebff;}#sk-container-id-9 div.sk-parallel-item::after {content: \"\";width: 100%;border-bottom: 1px solid gray;flex-grow: 1;}#sk-container-id-9 div.sk-label:hover label.sk-toggleable__label {background-color: #d4ebff;}#sk-container-id-9 div.sk-serial::before {content: \"\";position: absolute;border-left: 1px solid gray;box-sizing: border-box;top: 0;bottom: 0;left: 50%;z-index: 0;}#sk-container-id-9 div.sk-serial {display: flex;flex-direction: column;align-items: center;background-color: white;padding-right: 0.2em;padding-left: 0.2em;position: relative;}#sk-container-id-9 div.sk-item {position: relative;z-index: 1;}#sk-container-id-9 div.sk-parallel {display: flex;align-items: stretch;justify-content: center;background-color: white;position: relative;}#sk-container-id-9 div.sk-item::before, #sk-container-id-9 div.sk-parallel-item::before {content: \"\";position: absolute;border-left: 1px solid gray;box-sizing: border-box;top: 0;bottom: 0;left: 50%;z-index: -1;}#sk-container-id-9 div.sk-parallel-item {display: flex;flex-direction: column;z-index: 1;position: relative;background-color: white;}#sk-container-id-9 div.sk-parallel-item:first-child::after {align-self: flex-end;width: 50%;}#sk-container-id-9 div.sk-parallel-item:last-child::after {align-self: flex-start;width: 50%;}#sk-container-id-9 div.sk-parallel-item:only-child::after {width: 0;}#sk-container-id-9 div.sk-dashed-wrapped {border: 1px dashed gray;margin: 0 0.4em 0.5em 0.4em;box-sizing: border-box;padding-bottom: 0.4em;background-color: white;}#sk-container-id-9 div.sk-label label {font-family: monospace;font-weight: bold;display: inline-block;line-height: 1.2em;}#sk-container-id-9 div.sk-label-container {text-align: center;}#sk-container-id-9 div.sk-container {/* jupyter's `normalize.less` sets `[hidden] { display: none; }` but bootstrap.min.css set `[hidden] { display: none !important; }` so we also need the `!important` here to be able to override the default hidden behavior on the sphinx rendered scikit-learn.org. See: https://github.com/scikit-learn/scikit-learn/issues/21755 */display: inline-block !important;position: relative;}#sk-container-id-9 div.sk-text-repr-fallback {display: none;}</style><div id=\"sk-container-id-9\" class=\"sk-top-container\"><div class=\"sk-text-repr-fallback\"><pre>LogisticRegression(class_weight=&#x27;balanced&#x27;)</pre><b>In a Jupyter environment, please rerun this cell to show the HTML representation or trust the notebook. <br />On GitHub, the HTML representation is unable to render, please try loading this page with nbviewer.org.</b></div><div class=\"sk-container\" hidden><div class=\"sk-item\"><div class=\"sk-estimator sk-toggleable\"><input class=\"sk-toggleable__control sk-hidden--visually\" id=\"sk-estimator-id-9\" type=\"checkbox\" checked><label for=\"sk-estimator-id-9\" class=\"sk-toggleable__label sk-toggleable__label-arrow\">LogisticRegression</label><div class=\"sk-toggleable__content\"><pre>LogisticRegression(class_weight=&#x27;balanced&#x27;)</pre></div></div></div></div></div>"
      ],
      "text/plain": [
       "LogisticRegression(class_weight='balanced')"
      ]
     },
     "execution_count": 255,
     "metadata": {},
     "output_type": "execute_result"
    }
   ],
   "source": [
    "log_reg.fit(X_train, Y_train)"
   ]
  },
  {
   "cell_type": "code",
   "execution_count": null,
   "metadata": {},
   "outputs": [
    {
     "data": {
      "text/plain": [
       "0.8965544122232616"
      ]
     },
     "execution_count": 256,
     "metadata": {},
     "output_type": "execute_result"
    }
   ],
   "source": [
    "f1_score(Y_train, log_reg.predict(X_train))"
   ]
  },
  {
   "cell_type": "code",
   "execution_count": null,
   "metadata": {},
   "outputs": [
    {
     "data": {
      "text/plain": [
       "0.8914447770600283"
      ]
     },
     "execution_count": 257,
     "metadata": {},
     "output_type": "execute_result"
    }
   ],
   "source": [
    "f1_score(Y_test, log_reg.predict(X_test))"
   ]
  },
  {
   "cell_type": "code",
   "execution_count": null,
   "metadata": {},
   "outputs": [
    {
     "data": {
      "text/html": [
       "<style>#sk-container-id-6 {color: black;background-color: white;}#sk-container-id-6 pre{padding: 0;}#sk-container-id-6 div.sk-toggleable {background-color: white;}#sk-container-id-6 label.sk-toggleable__label {cursor: pointer;display: block;width: 100%;margin-bottom: 0;padding: 0.3em;box-sizing: border-box;text-align: center;}#sk-container-id-6 label.sk-toggleable__label-arrow:before {content: \"▸\";float: left;margin-right: 0.25em;color: #696969;}#sk-container-id-6 label.sk-toggleable__label-arrow:hover:before {color: black;}#sk-container-id-6 div.sk-estimator:hover label.sk-toggleable__label-arrow:before {color: black;}#sk-container-id-6 div.sk-toggleable__content {max-height: 0;max-width: 0;overflow: hidden;text-align: left;background-color: #f0f8ff;}#sk-container-id-6 div.sk-toggleable__content pre {margin: 0.2em;color: black;border-radius: 0.25em;background-color: #f0f8ff;}#sk-container-id-6 input.sk-toggleable__control:checked~div.sk-toggleable__content {max-height: 200px;max-width: 100%;overflow: auto;}#sk-container-id-6 input.sk-toggleable__control:checked~label.sk-toggleable__label-arrow:before {content: \"▾\";}#sk-container-id-6 div.sk-estimator input.sk-toggleable__control:checked~label.sk-toggleable__label {background-color: #d4ebff;}#sk-container-id-6 div.sk-label input.sk-toggleable__control:checked~label.sk-toggleable__label {background-color: #d4ebff;}#sk-container-id-6 input.sk-hidden--visually {border: 0;clip: rect(1px 1px 1px 1px);clip: rect(1px, 1px, 1px, 1px);height: 1px;margin: -1px;overflow: hidden;padding: 0;position: absolute;width: 1px;}#sk-container-id-6 div.sk-estimator {font-family: monospace;background-color: #f0f8ff;border: 1px dotted black;border-radius: 0.25em;box-sizing: border-box;margin-bottom: 0.5em;}#sk-container-id-6 div.sk-estimator:hover {background-color: #d4ebff;}#sk-container-id-6 div.sk-parallel-item::after {content: \"\";width: 100%;border-bottom: 1px solid gray;flex-grow: 1;}#sk-container-id-6 div.sk-label:hover label.sk-toggleable__label {background-color: #d4ebff;}#sk-container-id-6 div.sk-serial::before {content: \"\";position: absolute;border-left: 1px solid gray;box-sizing: border-box;top: 0;bottom: 0;left: 50%;z-index: 0;}#sk-container-id-6 div.sk-serial {display: flex;flex-direction: column;align-items: center;background-color: white;padding-right: 0.2em;padding-left: 0.2em;position: relative;}#sk-container-id-6 div.sk-item {position: relative;z-index: 1;}#sk-container-id-6 div.sk-parallel {display: flex;align-items: stretch;justify-content: center;background-color: white;position: relative;}#sk-container-id-6 div.sk-item::before, #sk-container-id-6 div.sk-parallel-item::before {content: \"\";position: absolute;border-left: 1px solid gray;box-sizing: border-box;top: 0;bottom: 0;left: 50%;z-index: -1;}#sk-container-id-6 div.sk-parallel-item {display: flex;flex-direction: column;z-index: 1;position: relative;background-color: white;}#sk-container-id-6 div.sk-parallel-item:first-child::after {align-self: flex-end;width: 50%;}#sk-container-id-6 div.sk-parallel-item:last-child::after {align-self: flex-start;width: 50%;}#sk-container-id-6 div.sk-parallel-item:only-child::after {width: 0;}#sk-container-id-6 div.sk-dashed-wrapped {border: 1px dashed gray;margin: 0 0.4em 0.5em 0.4em;box-sizing: border-box;padding-bottom: 0.4em;background-color: white;}#sk-container-id-6 div.sk-label label {font-family: monospace;font-weight: bold;display: inline-block;line-height: 1.2em;}#sk-container-id-6 div.sk-label-container {text-align: center;}#sk-container-id-6 div.sk-container {/* jupyter's `normalize.less` sets `[hidden] { display: none; }` but bootstrap.min.css set `[hidden] { display: none !important; }` so we also need the `!important` here to be able to override the default hidden behavior on the sphinx rendered scikit-learn.org. See: https://github.com/scikit-learn/scikit-learn/issues/21755 */display: inline-block !important;position: relative;}#sk-container-id-6 div.sk-text-repr-fallback {display: none;}</style><div id=\"sk-container-id-6\" class=\"sk-top-container\"><div class=\"sk-text-repr-fallback\"><pre>LogisticRegression()</pre><b>In a Jupyter environment, please rerun this cell to show the HTML representation or trust the notebook. <br />On GitHub, the HTML representation is unable to render, please try loading this page with nbviewer.org.</b></div><div class=\"sk-container\" hidden><div class=\"sk-item\"><div class=\"sk-estimator sk-toggleable\"><input class=\"sk-toggleable__control sk-hidden--visually\" id=\"sk-estimator-id-6\" type=\"checkbox\" checked><label for=\"sk-estimator-id-6\" class=\"sk-toggleable__label sk-toggleable__label-arrow\">LogisticRegression</label><div class=\"sk-toggleable__content\"><pre>LogisticRegression()</pre></div></div></div></div></div>"
      ],
      "text/plain": [
       "LogisticRegression()"
      ]
     },
     "execution_count": 233,
     "metadata": {},
     "output_type": "execute_result"
    }
   ],
   "source": [
    "rf = ()\n",
    "rf.fit(X_train, Y_train)"
   ]
  },
  {
   "cell_type": "code",
   "execution_count": null,
   "metadata": {},
   "outputs": [
    {
     "data": {
      "text/plain": [
       "0.9119036269879099"
      ]
     },
     "execution_count": 234,
     "metadata": {},
     "output_type": "execute_result"
    }
   ],
   "source": [
    "f1_score(Y_train, rf.predict(X_train))"
   ]
  },
  {
   "cell_type": "code",
   "execution_count": null,
   "metadata": {},
   "outputs": [
    {
     "data": {
      "text/plain": [
       "0.9138629557865071"
      ]
     },
     "execution_count": 235,
     "metadata": {},
     "output_type": "execute_result"
    }
   ],
   "source": [
    "f1_score(y_true = Y_test, y_pred = rf.predict(X_test))"
   ]
  },
  {
   "cell_type": "markdown",
   "metadata": {},
   "source": [
    "### LogisticRegression "
   ]
  },
  {
   "cell_type": "code",
   "execution_count": null,
   "metadata": {},
   "outputs": [],
   "source": [
    "count_model_Random_Forest = Pipeline([\n",
    "    (\n",
    "        'vectorizer',\n",
    "        CountVectorizer(\n",
    "            lowercase=True, ngram_range=(1, 1), token_pattern=TOKEN_PATTERN,\n",
    "            stop_words=stopword_set, min_df=5, max_df=0.7\n",
    "        )\n",
    "    ),\n",
    "    ('log_reg_clf', LogisticRegression())\n",
    "])"
   ]
  },
  {
   "cell_type": "code",
   "execution_count": null,
   "metadata": {},
   "outputs": [
    {
     "data": {
      "text/html": [
       "<style>#sk-container-id-61 {color: black;background-color: white;}#sk-container-id-61 pre{padding: 0;}#sk-container-id-61 div.sk-toggleable {background-color: white;}#sk-container-id-61 label.sk-toggleable__label {cursor: pointer;display: block;width: 100%;margin-bottom: 0;padding: 0.3em;box-sizing: border-box;text-align: center;}#sk-container-id-61 label.sk-toggleable__label-arrow:before {content: \"▸\";float: left;margin-right: 0.25em;color: #696969;}#sk-container-id-61 label.sk-toggleable__label-arrow:hover:before {color: black;}#sk-container-id-61 div.sk-estimator:hover label.sk-toggleable__label-arrow:before {color: black;}#sk-container-id-61 div.sk-toggleable__content {max-height: 0;max-width: 0;overflow: hidden;text-align: left;background-color: #f0f8ff;}#sk-container-id-61 div.sk-toggleable__content pre {margin: 0.2em;color: black;border-radius: 0.25em;background-color: #f0f8ff;}#sk-container-id-61 input.sk-toggleable__control:checked~div.sk-toggleable__content {max-height: 200px;max-width: 100%;overflow: auto;}#sk-container-id-61 input.sk-toggleable__control:checked~label.sk-toggleable__label-arrow:before {content: \"▾\";}#sk-container-id-61 div.sk-estimator input.sk-toggleable__control:checked~label.sk-toggleable__label {background-color: #d4ebff;}#sk-container-id-61 div.sk-label input.sk-toggleable__control:checked~label.sk-toggleable__label {background-color: #d4ebff;}#sk-container-id-61 input.sk-hidden--visually {border: 0;clip: rect(1px 1px 1px 1px);clip: rect(1px, 1px, 1px, 1px);height: 1px;margin: -1px;overflow: hidden;padding: 0;position: absolute;width: 1px;}#sk-container-id-61 div.sk-estimator {font-family: monospace;background-color: #f0f8ff;border: 1px dotted black;border-radius: 0.25em;box-sizing: border-box;margin-bottom: 0.5em;}#sk-container-id-61 div.sk-estimator:hover {background-color: #d4ebff;}#sk-container-id-61 div.sk-parallel-item::after {content: \"\";width: 100%;border-bottom: 1px solid gray;flex-grow: 1;}#sk-container-id-61 div.sk-label:hover label.sk-toggleable__label {background-color: #d4ebff;}#sk-container-id-61 div.sk-serial::before {content: \"\";position: absolute;border-left: 1px solid gray;box-sizing: border-box;top: 0;bottom: 0;left: 50%;z-index: 0;}#sk-container-id-61 div.sk-serial {display: flex;flex-direction: column;align-items: center;background-color: white;padding-right: 0.2em;padding-left: 0.2em;position: relative;}#sk-container-id-61 div.sk-item {position: relative;z-index: 1;}#sk-container-id-61 div.sk-parallel {display: flex;align-items: stretch;justify-content: center;background-color: white;position: relative;}#sk-container-id-61 div.sk-item::before, #sk-container-id-61 div.sk-parallel-item::before {content: \"\";position: absolute;border-left: 1px solid gray;box-sizing: border-box;top: 0;bottom: 0;left: 50%;z-index: -1;}#sk-container-id-61 div.sk-parallel-item {display: flex;flex-direction: column;z-index: 1;position: relative;background-color: white;}#sk-container-id-61 div.sk-parallel-item:first-child::after {align-self: flex-end;width: 50%;}#sk-container-id-61 div.sk-parallel-item:last-child::after {align-self: flex-start;width: 50%;}#sk-container-id-61 div.sk-parallel-item:only-child::after {width: 0;}#sk-container-id-61 div.sk-dashed-wrapped {border: 1px dashed gray;margin: 0 0.4em 0.5em 0.4em;box-sizing: border-box;padding-bottom: 0.4em;background-color: white;}#sk-container-id-61 div.sk-label label {font-family: monospace;font-weight: bold;display: inline-block;line-height: 1.2em;}#sk-container-id-61 div.sk-label-container {text-align: center;}#sk-container-id-61 div.sk-container {/* jupyter's `normalize.less` sets `[hidden] { display: none; }` but bootstrap.min.css set `[hidden] { display: none !important; }` so we also need the `!important` here to be able to override the default hidden behavior on the sphinx rendered scikit-learn.org. See: https://github.com/scikit-learn/scikit-learn/issues/21755 */display: inline-block !important;position: relative;}#sk-container-id-61 div.sk-text-repr-fallback {display: none;}</style><div id=\"sk-container-id-61\" class=\"sk-top-container\"><div class=\"sk-text-repr-fallback\"><pre>Pipeline(steps=[(&#x27;vectorizer&#x27;,\n",
       "                 CountVectorizer(max_df=0.7, min_df=5,\n",
       "                                 stop_words=[&#x27;ours&#x27;, &quot;it&#x27;s&quot;, &#x27;для&#x27;, &#x27;they&#x27;,\n",
       "                                             &#x27;mustn&#x27;, &#x27;меня&#x27;, &#x27;both&#x27;, &#x27;so&#x27;,\n",
       "                                             &#x27;нет&#x27;, &#x27;они&#x27;, &#x27;yourself&#x27;, &#x27;надо&#x27;,\n",
       "                                             &#x27;ll&#x27;, &#x27;has&#x27;, &#x27;aren&#x27;, &#x27;там&#x27;, &#x27;даже&#x27;,\n",
       "                                             &#x27;here&#x27;, &#x27;ma&#x27;, &#x27;этого&#x27;, &#x27;did&#x27;,\n",
       "                                             &#x27;will&#x27;, &#x27;да&#x27;, &#x27;having&#x27;, &#x27;when&#x27;,\n",
       "                                             &#x27;am&#x27;, &#x27;всего&#x27;, &#x27;hers&#x27;, &quot;shan&#x27;t&quot;,\n",
       "                                             &#x27;наш&#x27;, ...],\n",
       "                                 token_pattern=&#x27;[а-яёa-z]+&#x27;)),\n",
       "                (&#x27;log_reg_clf&#x27;, LogisticRegression())])</pre><b>In a Jupyter environment, please rerun this cell to show the HTML representation or trust the notebook. <br />On GitHub, the HTML representation is unable to render, please try loading this page with nbviewer.org.</b></div><div class=\"sk-container\" hidden><div class=\"sk-item sk-dashed-wrapped\"><div class=\"sk-label-container\"><div class=\"sk-label sk-toggleable\"><input class=\"sk-toggleable__control sk-hidden--visually\" id=\"sk-estimator-id-129\" type=\"checkbox\" ><label for=\"sk-estimator-id-129\" class=\"sk-toggleable__label sk-toggleable__label-arrow\">Pipeline</label><div class=\"sk-toggleable__content\"><pre>Pipeline(steps=[(&#x27;vectorizer&#x27;,\n",
       "                 CountVectorizer(max_df=0.7, min_df=5,\n",
       "                                 stop_words=[&#x27;ours&#x27;, &quot;it&#x27;s&quot;, &#x27;для&#x27;, &#x27;they&#x27;,\n",
       "                                             &#x27;mustn&#x27;, &#x27;меня&#x27;, &#x27;both&#x27;, &#x27;so&#x27;,\n",
       "                                             &#x27;нет&#x27;, &#x27;они&#x27;, &#x27;yourself&#x27;, &#x27;надо&#x27;,\n",
       "                                             &#x27;ll&#x27;, &#x27;has&#x27;, &#x27;aren&#x27;, &#x27;там&#x27;, &#x27;даже&#x27;,\n",
       "                                             &#x27;here&#x27;, &#x27;ma&#x27;, &#x27;этого&#x27;, &#x27;did&#x27;,\n",
       "                                             &#x27;will&#x27;, &#x27;да&#x27;, &#x27;having&#x27;, &#x27;when&#x27;,\n",
       "                                             &#x27;am&#x27;, &#x27;всего&#x27;, &#x27;hers&#x27;, &quot;shan&#x27;t&quot;,\n",
       "                                             &#x27;наш&#x27;, ...],\n",
       "                                 token_pattern=&#x27;[а-яёa-z]+&#x27;)),\n",
       "                (&#x27;log_reg_clf&#x27;, LogisticRegression())])</pre></div></div></div><div class=\"sk-serial\"><div class=\"sk-item\"><div class=\"sk-estimator sk-toggleable\"><input class=\"sk-toggleable__control sk-hidden--visually\" id=\"sk-estimator-id-130\" type=\"checkbox\" ><label for=\"sk-estimator-id-130\" class=\"sk-toggleable__label sk-toggleable__label-arrow\">CountVectorizer</label><div class=\"sk-toggleable__content\"><pre>CountVectorizer(max_df=0.7, min_df=5,\n",
       "                stop_words=[&#x27;ours&#x27;, &quot;it&#x27;s&quot;, &#x27;для&#x27;, &#x27;they&#x27;, &#x27;mustn&#x27;, &#x27;меня&#x27;,\n",
       "                            &#x27;both&#x27;, &#x27;so&#x27;, &#x27;нет&#x27;, &#x27;они&#x27;, &#x27;yourself&#x27;, &#x27;надо&#x27;,\n",
       "                            &#x27;ll&#x27;, &#x27;has&#x27;, &#x27;aren&#x27;, &#x27;там&#x27;, &#x27;даже&#x27;, &#x27;here&#x27;, &#x27;ma&#x27;,\n",
       "                            &#x27;этого&#x27;, &#x27;did&#x27;, &#x27;will&#x27;, &#x27;да&#x27;, &#x27;having&#x27;, &#x27;when&#x27;,\n",
       "                            &#x27;am&#x27;, &#x27;всего&#x27;, &#x27;hers&#x27;, &quot;shan&#x27;t&quot;, &#x27;наш&#x27;, ...],\n",
       "                token_pattern=&#x27;[а-яёa-z]+&#x27;)</pre></div></div></div><div class=\"sk-item\"><div class=\"sk-estimator sk-toggleable\"><input class=\"sk-toggleable__control sk-hidden--visually\" id=\"sk-estimator-id-131\" type=\"checkbox\" ><label for=\"sk-estimator-id-131\" class=\"sk-toggleable__label sk-toggleable__label-arrow\">LogisticRegression</label><div class=\"sk-toggleable__content\"><pre>LogisticRegression()</pre></div></div></div></div></div></div></div>"
      ],
      "text/plain": [
       "Pipeline(steps=[('vectorizer',\n",
       "                 CountVectorizer(max_df=0.7, min_df=5,\n",
       "                                 stop_words=['ours', \"it's\", 'для', 'they',\n",
       "                                             'mustn', 'меня', 'both', 'so',\n",
       "                                             'нет', 'они', 'yourself', 'надо',\n",
       "                                             'll', 'has', 'aren', 'там', 'даже',\n",
       "                                             'here', 'ma', 'этого', 'did',\n",
       "                                             'will', 'да', 'having', 'when',\n",
       "                                             'am', 'всего', 'hers', \"shan't\",\n",
       "                                             'наш', ...],\n",
       "                                 token_pattern='[а-яёa-z]+')),\n",
       "                ('log_reg_clf', LogisticRegression())])"
      ]
     },
     "execution_count": 1005,
     "metadata": {},
     "output_type": "execute_result"
    }
   ],
   "source": [
    "count_model_Random_Forest.fit(X_train, Y_train)"
   ]
  },
  {
   "cell_type": "code",
   "execution_count": null,
   "metadata": {},
   "outputs": [
    {
     "data": {
      "text/plain": [
       "0.9737489745693191"
      ]
     },
     "execution_count": 1006,
     "metadata": {},
     "output_type": "execute_result"
    }
   ],
   "source": [
    "f1_score(Y_train, count_model_Random_Forest.predict(X_train))"
   ]
  },
  {
   "cell_type": "code",
   "execution_count": null,
   "metadata": {},
   "outputs": [
    {
     "data": {
      "text/plain": [
       "0.9502722323049002"
      ]
     },
     "execution_count": 1007,
     "metadata": {},
     "output_type": "execute_result"
    }
   ],
   "source": [
    "f1_score(Y_test, count_model_Random_Forest.predict(X_test))"
   ]
  },
  {
   "cell_type": "markdown",
   "metadata": {},
   "source": [
    "### KNearestNeighbors"
   ]
  },
  {
   "cell_type": "code",
   "execution_count": null,
   "metadata": {},
   "outputs": [],
   "source": [
    "count_model_knn = Pipeline([\n",
    "  \n",
    "    ('knn', KNeighborsClassifier(n_neighbors = 11))\n",
    "])"
   ]
  },
  {
   "cell_type": "code",
   "execution_count": null,
   "metadata": {},
   "outputs": [],
   "source": [
    "count_model_knn.fit(X_train, Y_train)"
   ]
  },
  {
   "cell_type": "code",
   "execution_count": null,
   "metadata": {},
   "outputs": [
    {
     "data": {
      "text/plain": [
       "0.8263501204677676"
      ]
     },
     "execution_count": 979,
     "metadata": {},
     "output_type": "execute_result"
    }
   ],
   "source": [
    "f1_score(Y_train, count_model_knn.predict(X_train))"
   ]
  },
  {
   "cell_type": "code",
   "execution_count": null,
   "metadata": {},
   "outputs": [
    {
     "data": {
      "text/plain": [
       "0.7897927534188638"
      ]
     },
     "execution_count": 978,
     "metadata": {},
     "output_type": "execute_result"
    }
   ],
   "source": [
    "f1_score(Y_test, count_model_knn.predict(X_test))"
   ]
  },
  {
   "cell_type": "code",
   "execution_count": null,
   "metadata": {},
   "outputs": [],
   "source": [
    "def drop_tire(x):\n",
    "    return x.replace('-', '')\n",
    "learning_content_dataset['title'] = learning_content_dataset[['title']].applymap(drop_tire)\n",
    "learning_content_dataset['site_name'] = learning_content_dataset[['site_name']].applymap(drop_tire)"
   ]
  },
  {
   "cell_type": "code",
   "execution_count": null,
   "metadata": {},
   "outputs": [],
   "source": [
    "learning_content_dataset = learning_content_dataset.iloc[:, [1, 2]]"
   ]
  },
  {
   "cell_type": "code",
   "execution_count": null,
   "metadata": {},
   "outputs": [],
   "source": [
    "test_dataset_ = test_dataset.iloc[:, [1, 2]]"
   ]
  },
  {
   "cell_type": "code",
   "execution_count": null,
   "metadata": {},
   "outputs": [
    {
     "data": {
      "text/html": [
       "<div>\n",
       "<style scoped>\n",
       "    .dataframe tbody tr th:only-of-type {\n",
       "        vertical-align: middle;\n",
       "    }\n",
       "\n",
       "    .dataframe tbody tr th {\n",
       "        vertical-align: top;\n",
       "    }\n",
       "\n",
       "    .dataframe thead th {\n",
       "        text-align: right;\n",
       "    }\n",
       "</style>\n",
       "<table border=\"1\" class=\"dataframe\">\n",
       "  <thead>\n",
       "    <tr style=\"text-align: right;\">\n",
       "      <th></th>\n",
       "      <th>url</th>\n",
       "      <th>title</th>\n",
       "    </tr>\n",
       "  </thead>\n",
       "  <tbody>\n",
       "    <tr>\n",
       "      <th>0</th>\n",
       "      <td>www.kommersant.ru</td>\n",
       "      <td>[]</td>\n",
       "    </tr>\n",
       "    <tr>\n",
       "      <th>1</th>\n",
       "      <td>urexpert.online</td>\n",
       "      <td>[]</td>\n",
       "    </tr>\n",
       "    <tr>\n",
       "      <th>2</th>\n",
       "      <td>imperimeha.ru</td>\n",
       "      <td>[]</td>\n",
       "    </tr>\n",
       "    <tr>\n",
       "      <th>3</th>\n",
       "      <td>national-porn.com</td>\n",
       "      <td>[]</td>\n",
       "    </tr>\n",
       "    <tr>\n",
       "      <th>4</th>\n",
       "      <td>2gis.ru</td>\n",
       "      <td>[]</td>\n",
       "    </tr>\n",
       "    <tr>\n",
       "      <th>5</th>\n",
       "      <td>ryazan.gorodrabot.ru</td>\n",
       "      <td>[]</td>\n",
       "    </tr>\n",
       "    <tr>\n",
       "      <th>6</th>\n",
       "      <td>m.fotosklad.ru</td>\n",
       "      <td>[]</td>\n",
       "    </tr>\n",
       "    <tr>\n",
       "      <th>7</th>\n",
       "      <td>sim-dealer.ru</td>\n",
       "      <td>[]</td>\n",
       "    </tr>\n",
       "    <tr>\n",
       "      <th>8</th>\n",
       "      <td>krasnoyarsk.hh.ru</td>\n",
       "      <td>[]</td>\n",
       "    </tr>\n",
       "    <tr>\n",
       "      <th>9</th>\n",
       "      <td>vsetop.org</td>\n",
       "      <td>[]</td>\n",
       "    </tr>\n",
       "    <tr>\n",
       "      <th>10</th>\n",
       "      <td>selgazeta.ru</td>\n",
       "      <td>[]</td>\n",
       "    </tr>\n",
       "    <tr>\n",
       "      <th>11</th>\n",
       "      <td>hotki.ru</td>\n",
       "      <td>[]</td>\n",
       "    </tr>\n",
       "    <tr>\n",
       "      <th>12</th>\n",
       "      <td>hah.life</td>\n",
       "      <td>[]</td>\n",
       "    </tr>\n",
       "    <tr>\n",
       "      <th>13</th>\n",
       "      <td>idaprikol.ru</td>\n",
       "      <td>[]</td>\n",
       "    </tr>\n",
       "    <tr>\n",
       "      <th>14</th>\n",
       "      <td>www.intelkot.ru</td>\n",
       "      <td>[]</td>\n",
       "    </tr>\n",
       "    <tr>\n",
       "      <th>15</th>\n",
       "      <td>kondicionerkin.ru</td>\n",
       "      <td>[]</td>\n",
       "    </tr>\n",
       "    <tr>\n",
       "      <th>16</th>\n",
       "      <td>www.yaplakal.com</td>\n",
       "      <td>[]</td>\n",
       "    </tr>\n",
       "    <tr>\n",
       "      <th>17</th>\n",
       "      <td>femdomcc.net</td>\n",
       "      <td>[]</td>\n",
       "    </tr>\n",
       "    <tr>\n",
       "      <th>18</th>\n",
       "      <td>www.zodchii.ws</td>\n",
       "      <td>[]</td>\n",
       "    </tr>\n",
       "    <tr>\n",
       "      <th>19</th>\n",
       "      <td>ussuriisk.drom.ru</td>\n",
       "      <td>[]</td>\n",
       "    </tr>\n",
       "    <tr>\n",
       "      <th>20</th>\n",
       "      <td>yvision.kz</td>\n",
       "      <td>[]</td>\n",
       "    </tr>\n",
       "    <tr>\n",
       "      <th>21</th>\n",
       "      <td>m.babyblog.ru</td>\n",
       "      <td>[]</td>\n",
       "    </tr>\n",
       "    <tr>\n",
       "      <th>22</th>\n",
       "      <td>kinogo24-filmi-2019.club</td>\n",
       "      <td>[]</td>\n",
       "    </tr>\n",
       "    <tr>\n",
       "      <th>23</th>\n",
       "      <td>artfile.me</td>\n",
       "      <td>[]</td>\n",
       "    </tr>\n",
       "    <tr>\n",
       "      <th>24</th>\n",
       "      <td>vladimir.electrocaminy.ru</td>\n",
       "      <td>[]</td>\n",
       "    </tr>\n",
       "    <tr>\n",
       "      <th>25</th>\n",
       "      <td>www.cyberforum.ru</td>\n",
       "      <td>[]</td>\n",
       "    </tr>\n",
       "    <tr>\n",
       "      <th>26</th>\n",
       "      <td>mobile.yoox.com</td>\n",
       "      <td>[]</td>\n",
       "    </tr>\n",
       "    <tr>\n",
       "      <th>27</th>\n",
       "      <td>igromagnit.net</td>\n",
       "      <td>[]</td>\n",
       "    </tr>\n",
       "    <tr>\n",
       "      <th>28</th>\n",
       "      <td>youla.ru</td>\n",
       "      <td>[]</td>\n",
       "    </tr>\n",
       "    <tr>\n",
       "      <th>29</th>\n",
       "      <td>infourok.ru</td>\n",
       "      <td>[]</td>\n",
       "    </tr>\n",
       "    <tr>\n",
       "      <th>30</th>\n",
       "      <td>ostrovok.ru</td>\n",
       "      <td>[]</td>\n",
       "    </tr>\n",
       "    <tr>\n",
       "      <th>31</th>\n",
       "      <td>www.bolshoyvopros.ru</td>\n",
       "      <td>[]</td>\n",
       "    </tr>\n",
       "    <tr>\n",
       "      <th>32</th>\n",
       "      <td>rus.drivemusic.cc</td>\n",
       "      <td>[]</td>\n",
       "    </tr>\n",
       "    <tr>\n",
       "      <th>33</th>\n",
       "      <td>www.mvideo.ru</td>\n",
       "      <td>[]</td>\n",
       "    </tr>\n",
       "    <tr>\n",
       "      <th>34</th>\n",
       "      <td>zaycev.net</td>\n",
       "      <td>[]</td>\n",
       "    </tr>\n",
       "    <tr>\n",
       "      <th>35</th>\n",
       "      <td>www.yaplakal.com</td>\n",
       "      <td>[]</td>\n",
       "    </tr>\n",
       "    <tr>\n",
       "      <th>36</th>\n",
       "      <td>webcache.googleusercontent.com</td>\n",
       "      <td>[]</td>\n",
       "    </tr>\n",
       "    <tr>\n",
       "      <th>37</th>\n",
       "      <td>yaroslavl.vseinstrumenti.ru</td>\n",
       "      <td>[]</td>\n",
       "    </tr>\n",
       "    <tr>\n",
       "      <th>38</th>\n",
       "      <td>24eropixel.net</td>\n",
       "      <td>[]</td>\n",
       "    </tr>\n",
       "    <tr>\n",
       "      <th>39</th>\n",
       "      <td>novgorod.rabota.ru</td>\n",
       "      <td>[]</td>\n",
       "    </tr>\n",
       "    <tr>\n",
       "      <th>40</th>\n",
       "      <td>perm.zarplata.ru</td>\n",
       "      <td>[]</td>\n",
       "    </tr>\n",
       "    <tr>\n",
       "      <th>41</th>\n",
       "      <td>replyua.net</td>\n",
       "      <td>[]</td>\n",
       "    </tr>\n",
       "    <tr>\n",
       "      <th>42</th>\n",
       "      <td>www.semenasad.ru</td>\n",
       "      <td>[]</td>\n",
       "    </tr>\n",
       "    <tr>\n",
       "      <th>43</th>\n",
       "      <td>inpodolsk.ru</td>\n",
       "      <td>[]</td>\n",
       "    </tr>\n",
       "    <tr>\n",
       "      <th>44</th>\n",
       "      <td>biqle.ru</td>\n",
       "      <td>[]</td>\n",
       "    </tr>\n",
       "    <tr>\n",
       "      <th>45</th>\n",
       "      <td>vimart.by</td>\n",
       "      <td>[]</td>\n",
       "    </tr>\n",
       "    <tr>\n",
       "      <th>46</th>\n",
       "      <td>www.chitai-gorod.ru</td>\n",
       "      <td>[]</td>\n",
       "    </tr>\n",
       "    <tr>\n",
       "      <th>47</th>\n",
       "      <td>mail.ru</td>\n",
       "      <td>[]</td>\n",
       "    </tr>\n",
       "    <tr>\n",
       "      <th>48</th>\n",
       "      <td>scalemodels.ru</td>\n",
       "      <td>[]</td>\n",
       "    </tr>\n",
       "    <tr>\n",
       "      <th>49</th>\n",
       "      <td>www.nomerogram.ru</td>\n",
       "      <td>[]</td>\n",
       "    </tr>\n",
       "  </tbody>\n",
       "</table>\n",
       "</div>"
      ],
      "text/plain": [
       "                               url title\n",
       "0                www.kommersant.ru    []\n",
       "1                  urexpert.online    []\n",
       "2                    imperimeha.ru    []\n",
       "3                national-porn.com    []\n",
       "4                          2gis.ru    []\n",
       "5             ryazan.gorodrabot.ru    []\n",
       "6                   m.fotosklad.ru    []\n",
       "7                    sim-dealer.ru    []\n",
       "8                krasnoyarsk.hh.ru    []\n",
       "9                       vsetop.org    []\n",
       "10                    selgazeta.ru    []\n",
       "11                        hotki.ru    []\n",
       "12                        hah.life    []\n",
       "13                    idaprikol.ru    []\n",
       "14                 www.intelkot.ru    []\n",
       "15               kondicionerkin.ru    []\n",
       "16                www.yaplakal.com    []\n",
       "17                    femdomcc.net    []\n",
       "18                  www.zodchii.ws    []\n",
       "19               ussuriisk.drom.ru    []\n",
       "20                      yvision.kz    []\n",
       "21                   m.babyblog.ru    []\n",
       "22        kinogo24-filmi-2019.club    []\n",
       "23                      artfile.me    []\n",
       "24       vladimir.electrocaminy.ru    []\n",
       "25               www.cyberforum.ru    []\n",
       "26                 mobile.yoox.com    []\n",
       "27                  igromagnit.net    []\n",
       "28                        youla.ru    []\n",
       "29                     infourok.ru    []\n",
       "30                     ostrovok.ru    []\n",
       "31            www.bolshoyvopros.ru    []\n",
       "32               rus.drivemusic.cc    []\n",
       "33                   www.mvideo.ru    []\n",
       "34                      zaycev.net    []\n",
       "35                www.yaplakal.com    []\n",
       "36  webcache.googleusercontent.com    []\n",
       "37     yaroslavl.vseinstrumenti.ru    []\n",
       "38                  24eropixel.net    []\n",
       "39              novgorod.rabota.ru    []\n",
       "40                perm.zarplata.ru    []\n",
       "41                     replyua.net    []\n",
       "42                www.semenasad.ru    []\n",
       "43                    inpodolsk.ru    []\n",
       "44                        biqle.ru    []\n",
       "45                       vimart.by    []\n",
       "46             www.chitai-gorod.ru    []\n",
       "47                         mail.ru    []\n",
       "48                  scalemodels.ru    []\n",
       "49               www.nomerogram.ru    []"
      ]
     },
     "execution_count": 98,
     "metadata": {},
     "output_type": "execute_result"
    }
   ],
   "source": [
    "test_dataset_.head(50)"
   ]
  },
  {
   "cell_type": "code",
   "execution_count": null,
   "metadata": {},
   "outputs": [
    {
     "data": {
      "text/html": [
       "<div>\n",
       "<style scoped>\n",
       "    .dataframe tbody tr th:only-of-type {\n",
       "        vertical-align: middle;\n",
       "    }\n",
       "\n",
       "    .dataframe tbody tr th {\n",
       "        vertical-align: top;\n",
       "    }\n",
       "\n",
       "    .dataframe thead th {\n",
       "        text-align: right;\n",
       "    }\n",
       "</style>\n",
       "<table border=\"1\" class=\"dataframe\">\n",
       "  <thead>\n",
       "    <tr style=\"text-align: right;\">\n",
       "      <th></th>\n",
       "      <th>index</th>\n",
       "      <th>url</th>\n",
       "      <th>title</th>\n",
       "    </tr>\n",
       "  </thead>\n",
       "  <tbody>\n",
       "    <tr>\n",
       "      <th>0</th>\n",
       "      <td>59353</td>\n",
       "      <td>wwwvideoclubru</td>\n",
       "      <td>videoklub besplatnyi sait znakomstvo videochat</td>\n",
       "    </tr>\n",
       "    <tr>\n",
       "      <th>1</th>\n",
       "      <td>53191</td>\n",
       "      <td>pogoda7ru</td>\n",
       "      <td>pogoda bagrationovsk den podrobno bagrationovs...</td>\n",
       "    </tr>\n",
       "    <tr>\n",
       "      <th>2</th>\n",
       "      <td>28921</td>\n",
       "      <td>mtoursaviamirru</td>\n",
       "      <td>tur maldivy noch vzroslyi kupit tur</td>\n",
       "    </tr>\n",
       "    <tr>\n",
       "      <th>3</th>\n",
       "      <td>40471</td>\n",
       "      <td>moveruz</td>\n",
       "      <td>toshkentdagi fevral voqealariga yil ldi mover</td>\n",
       "    </tr>\n",
       "    <tr>\n",
       "      <th>4</th>\n",
       "      <td>90945</td>\n",
       "      <td>fnvolgaru</td>\n",
       "      <td>mintrud nazvat samyi vysokooplachivaemyi dolzh...</td>\n",
       "    </tr>\n",
       "  </tbody>\n",
       "</table>\n",
       "</div>"
      ],
      "text/plain": [
       "   index              url                                              title\n",
       "0  59353   wwwvideoclubru     videoklub besplatnyi sait znakomstvo videochat\n",
       "1  53191        pogoda7ru  pogoda bagrationovsk den podrobno bagrationovs...\n",
       "2  28921  mtoursaviamirru                tur maldivy noch vzroslyi kupit tur\n",
       "3  40471          moveruz      toshkentdagi fevral voqealariga yil ldi mover\n",
       "4  90945        fnvolgaru  mintrud nazvat samyi vysokooplachivaemyi dolzh..."
      ]
     },
     "execution_count": 83,
     "metadata": {},
     "output_type": "execute_result"
    }
   ],
   "source": [
    "learning_content_dataset.reset_index().head()"
   ]
  },
  {
   "cell_type": "code",
   "execution_count": null,
   "metadata": {},
   "outputs": [
    {
     "data": {
      "text/plain": [
       "(64448, 100)"
      ]
     },
     "execution_count": 94,
     "metadata": {},
     "output_type": "execute_result"
    }
   ],
   "source": [
    "X_train.shape"
   ]
  },
  {
   "cell_type": "markdown",
   "metadata": {},
   "source": [
    "### Объединение признаков"
   ]
  },
  {
   "cell_type": "code",
   "execution_count": null,
   "metadata": {},
   "outputs": [],
   "source": [
    "pipeline = Pipeline([\n",
    "    (\n",
    "        'features', \n",
    "        ColumnTransformer([\n",
    "            (\n",
    "                'url', \n",
    "                TfidfVectorizer(\n",
    "                    lowercase=True, ngram_range=(4, 4), token_pattern=TOKEN_PATTERN,\n",
    "                    stop_words = stopword_set, min_df=2, max_df=0.8, analyzer = 'char', smooth_idf = True\n",
    "                ), \n",
    "                'url'\n",
    "            ),\n",
    "            (\n",
    "                'title',\n",
    "                TfidfVectorizer(\n",
    "                    lowercase=True, ngram_range=(4, 4), token_pattern=TOKEN_PATTERN,\n",
    "                    stop_words = stopword_set, min_df=1, max_df=0.8, analyzer = 'char_wb', smooth_idf = True\n",
    "                ), \n",
    "                'title'\n",
    "            ),\n",
    "        ])\n",
    "    ),\n",
    "    \n",
    "    # ('scaler', MinMaxScaler()),\n",
    "    ('clf', LogisticRegression(class_weight = 'balanced'))\n",
    "])"
   ]
  },
  {
   "cell_type": "code",
   "execution_count": null,
   "metadata": {},
   "outputs": [
    {
     "data": {
      "text/html": [
       "<style>#sk-container-id-2 {color: black;background-color: white;}#sk-container-id-2 pre{padding: 0;}#sk-container-id-2 div.sk-toggleable {background-color: white;}#sk-container-id-2 label.sk-toggleable__label {cursor: pointer;display: block;width: 100%;margin-bottom: 0;padding: 0.3em;box-sizing: border-box;text-align: center;}#sk-container-id-2 label.sk-toggleable__label-arrow:before {content: \"▸\";float: left;margin-right: 0.25em;color: #696969;}#sk-container-id-2 label.sk-toggleable__label-arrow:hover:before {color: black;}#sk-container-id-2 div.sk-estimator:hover label.sk-toggleable__label-arrow:before {color: black;}#sk-container-id-2 div.sk-toggleable__content {max-height: 0;max-width: 0;overflow: hidden;text-align: left;background-color: #f0f8ff;}#sk-container-id-2 div.sk-toggleable__content pre {margin: 0.2em;color: black;border-radius: 0.25em;background-color: #f0f8ff;}#sk-container-id-2 input.sk-toggleable__control:checked~div.sk-toggleable__content {max-height: 200px;max-width: 100%;overflow: auto;}#sk-container-id-2 input.sk-toggleable__control:checked~label.sk-toggleable__label-arrow:before {content: \"▾\";}#sk-container-id-2 div.sk-estimator input.sk-toggleable__control:checked~label.sk-toggleable__label {background-color: #d4ebff;}#sk-container-id-2 div.sk-label input.sk-toggleable__control:checked~label.sk-toggleable__label {background-color: #d4ebff;}#sk-container-id-2 input.sk-hidden--visually {border: 0;clip: rect(1px 1px 1px 1px);clip: rect(1px, 1px, 1px, 1px);height: 1px;margin: -1px;overflow: hidden;padding: 0;position: absolute;width: 1px;}#sk-container-id-2 div.sk-estimator {font-family: monospace;background-color: #f0f8ff;border: 1px dotted black;border-radius: 0.25em;box-sizing: border-box;margin-bottom: 0.5em;}#sk-container-id-2 div.sk-estimator:hover {background-color: #d4ebff;}#sk-container-id-2 div.sk-parallel-item::after {content: \"\";width: 100%;border-bottom: 1px solid gray;flex-grow: 1;}#sk-container-id-2 div.sk-label:hover label.sk-toggleable__label {background-color: #d4ebff;}#sk-container-id-2 div.sk-serial::before {content: \"\";position: absolute;border-left: 1px solid gray;box-sizing: border-box;top: 0;bottom: 0;left: 50%;z-index: 0;}#sk-container-id-2 div.sk-serial {display: flex;flex-direction: column;align-items: center;background-color: white;padding-right: 0.2em;padding-left: 0.2em;position: relative;}#sk-container-id-2 div.sk-item {position: relative;z-index: 1;}#sk-container-id-2 div.sk-parallel {display: flex;align-items: stretch;justify-content: center;background-color: white;position: relative;}#sk-container-id-2 div.sk-item::before, #sk-container-id-2 div.sk-parallel-item::before {content: \"\";position: absolute;border-left: 1px solid gray;box-sizing: border-box;top: 0;bottom: 0;left: 50%;z-index: -1;}#sk-container-id-2 div.sk-parallel-item {display: flex;flex-direction: column;z-index: 1;position: relative;background-color: white;}#sk-container-id-2 div.sk-parallel-item:first-child::after {align-self: flex-end;width: 50%;}#sk-container-id-2 div.sk-parallel-item:last-child::after {align-self: flex-start;width: 50%;}#sk-container-id-2 div.sk-parallel-item:only-child::after {width: 0;}#sk-container-id-2 div.sk-dashed-wrapped {border: 1px dashed gray;margin: 0 0.4em 0.5em 0.4em;box-sizing: border-box;padding-bottom: 0.4em;background-color: white;}#sk-container-id-2 div.sk-label label {font-family: monospace;font-weight: bold;display: inline-block;line-height: 1.2em;}#sk-container-id-2 div.sk-label-container {text-align: center;}#sk-container-id-2 div.sk-container {/* jupyter's `normalize.less` sets `[hidden] { display: none; }` but bootstrap.min.css set `[hidden] { display: none !important; }` so we also need the `!important` here to be able to override the default hidden behavior on the sphinx rendered scikit-learn.org. See: https://github.com/scikit-learn/scikit-learn/issues/21755 */display: inline-block !important;position: relative;}#sk-container-id-2 div.sk-text-repr-fallback {display: none;}</style><div id=\"sk-container-id-2\" class=\"sk-top-container\"><div class=\"sk-text-repr-fallback\"><pre>Pipeline(steps=[(&#x27;features&#x27;,\n",
       "                 ColumnTransformer(transformers=[(&#x27;url&#x27;,\n",
       "                                                  TfidfVectorizer(analyzer=&#x27;char&#x27;,\n",
       "                                                                  max_df=0.8,\n",
       "                                                                  min_df=2,\n",
       "                                                                  ngram_range=(4,\n",
       "                                                                               4),\n",
       "                                                                  stop_words=[&#x27;есть&#x27;,\n",
       "                                                                              &#x27;i&#x27;,\n",
       "                                                                              &quot;should&#x27;ve&quot;,\n",
       "                                                                              &#x27;совсем&#x27;,\n",
       "                                                                              &#x27;ее&#x27;,\n",
       "                                                                              &#x27;such&#x27;,\n",
       "                                                                              &#x27;you&#x27;,\n",
       "                                                                              &#x27;have&#x27;,\n",
       "                                                                              &#x27;всех&#x27;,\n",
       "                                                                              &#x27;три&#x27;,\n",
       "                                                                              &#x27;же&#x27;,\n",
       "                                                                              &#x27;now&#x27;,\n",
       "                                                                              &#x27;тогда&#x27;,\n",
       "                                                                              &#x27;этой&#x27;,\n",
       "                                                                              &#x27;через&#x27;,\n",
       "                                                                              &#x27;yourselves&#x27;,\n",
       "                                                                              &#x27;ведь&#x27;,\n",
       "                                                                              &#x27;will&#x27;,\n",
       "                                                                              &#x27;в&#x27;,\n",
       "                                                                              &#x27;мой&#x27;,\n",
       "                                                                              &#x27;mustn&#x27;,\n",
       "                                                                              &#x27;был&#x27;,\n",
       "                                                                              &#x27;t&#x27;,\n",
       "                                                                              &#x27;но&#x27;,\n",
       "                                                                              &#x27;had&#x27;,\n",
       "                                                                              &#x27;чего&#x27;,\n",
       "                                                                              &#x27;на&#x27;,\n",
       "                                                                              &#x27;those&#x27;,\n",
       "                                                                              &#x27;by&#x27;,\n",
       "                                                                              &#x27;there...\n",
       "                                                  TfidfVectorizer(analyzer=&#x27;char_wb&#x27;,\n",
       "                                                                  max_df=0.8,\n",
       "                                                                  ngram_range=(4,\n",
       "                                                                               4),\n",
       "                                                                  stop_words=[&#x27;есть&#x27;,\n",
       "                                                                              &#x27;i&#x27;,\n",
       "                                                                              &quot;should&#x27;ve&quot;,\n",
       "                                                                              &#x27;совсем&#x27;,\n",
       "                                                                              &#x27;ее&#x27;,\n",
       "                                                                              &#x27;such&#x27;,\n",
       "                                                                              &#x27;you&#x27;,\n",
       "                                                                              &#x27;have&#x27;,\n",
       "                                                                              &#x27;всех&#x27;,\n",
       "                                                                              &#x27;три&#x27;,\n",
       "                                                                              &#x27;же&#x27;,\n",
       "                                                                              &#x27;now&#x27;,\n",
       "                                                                              &#x27;тогда&#x27;,\n",
       "                                                                              &#x27;этой&#x27;,\n",
       "                                                                              &#x27;через&#x27;,\n",
       "                                                                              &#x27;yourselves&#x27;,\n",
       "                                                                              &#x27;ведь&#x27;,\n",
       "                                                                              &#x27;will&#x27;,\n",
       "                                                                              &#x27;в&#x27;,\n",
       "                                                                              &#x27;мой&#x27;,\n",
       "                                                                              &#x27;mustn&#x27;,\n",
       "                                                                              &#x27;был&#x27;,\n",
       "                                                                              &#x27;t&#x27;,\n",
       "                                                                              &#x27;но&#x27;,\n",
       "                                                                              &#x27;had&#x27;,\n",
       "                                                                              &#x27;чего&#x27;,\n",
       "                                                                              &#x27;на&#x27;,\n",
       "                                                                              &#x27;those&#x27;,\n",
       "                                                                              &#x27;by&#x27;,\n",
       "                                                                              &#x27;there&#x27;, ...],\n",
       "                                                                  token_pattern=&#x27;[а-яёa-z]+&#x27;),\n",
       "                                                  &#x27;title&#x27;)])),\n",
       "                (&#x27;clf&#x27;, LogisticRegression(class_weight=&#x27;balanced&#x27;))])</pre><b>In a Jupyter environment, please rerun this cell to show the HTML representation or trust the notebook. <br />On GitHub, the HTML representation is unable to render, please try loading this page with nbviewer.org.</b></div><div class=\"sk-container\" hidden><div class=\"sk-item sk-dashed-wrapped\"><div class=\"sk-label-container\"><div class=\"sk-label sk-toggleable\"><input class=\"sk-toggleable__control sk-hidden--visually\" id=\"sk-estimator-id-2\" type=\"checkbox\" ><label for=\"sk-estimator-id-2\" class=\"sk-toggleable__label sk-toggleable__label-arrow\">Pipeline</label><div class=\"sk-toggleable__content\"><pre>Pipeline(steps=[(&#x27;features&#x27;,\n",
       "                 ColumnTransformer(transformers=[(&#x27;url&#x27;,\n",
       "                                                  TfidfVectorizer(analyzer=&#x27;char&#x27;,\n",
       "                                                                  max_df=0.8,\n",
       "                                                                  min_df=2,\n",
       "                                                                  ngram_range=(4,\n",
       "                                                                               4),\n",
       "                                                                  stop_words=[&#x27;есть&#x27;,\n",
       "                                                                              &#x27;i&#x27;,\n",
       "                                                                              &quot;should&#x27;ve&quot;,\n",
       "                                                                              &#x27;совсем&#x27;,\n",
       "                                                                              &#x27;ее&#x27;,\n",
       "                                                                              &#x27;such&#x27;,\n",
       "                                                                              &#x27;you&#x27;,\n",
       "                                                                              &#x27;have&#x27;,\n",
       "                                                                              &#x27;всех&#x27;,\n",
       "                                                                              &#x27;три&#x27;,\n",
       "                                                                              &#x27;же&#x27;,\n",
       "                                                                              &#x27;now&#x27;,\n",
       "                                                                              &#x27;тогда&#x27;,\n",
       "                                                                              &#x27;этой&#x27;,\n",
       "                                                                              &#x27;через&#x27;,\n",
       "                                                                              &#x27;yourselves&#x27;,\n",
       "                                                                              &#x27;ведь&#x27;,\n",
       "                                                                              &#x27;will&#x27;,\n",
       "                                                                              &#x27;в&#x27;,\n",
       "                                                                              &#x27;мой&#x27;,\n",
       "                                                                              &#x27;mustn&#x27;,\n",
       "                                                                              &#x27;был&#x27;,\n",
       "                                                                              &#x27;t&#x27;,\n",
       "                                                                              &#x27;но&#x27;,\n",
       "                                                                              &#x27;had&#x27;,\n",
       "                                                                              &#x27;чего&#x27;,\n",
       "                                                                              &#x27;на&#x27;,\n",
       "                                                                              &#x27;those&#x27;,\n",
       "                                                                              &#x27;by&#x27;,\n",
       "                                                                              &#x27;there...\n",
       "                                                  TfidfVectorizer(analyzer=&#x27;char_wb&#x27;,\n",
       "                                                                  max_df=0.8,\n",
       "                                                                  ngram_range=(4,\n",
       "                                                                               4),\n",
       "                                                                  stop_words=[&#x27;есть&#x27;,\n",
       "                                                                              &#x27;i&#x27;,\n",
       "                                                                              &quot;should&#x27;ve&quot;,\n",
       "                                                                              &#x27;совсем&#x27;,\n",
       "                                                                              &#x27;ее&#x27;,\n",
       "                                                                              &#x27;such&#x27;,\n",
       "                                                                              &#x27;you&#x27;,\n",
       "                                                                              &#x27;have&#x27;,\n",
       "                                                                              &#x27;всех&#x27;,\n",
       "                                                                              &#x27;три&#x27;,\n",
       "                                                                              &#x27;же&#x27;,\n",
       "                                                                              &#x27;now&#x27;,\n",
       "                                                                              &#x27;тогда&#x27;,\n",
       "                                                                              &#x27;этой&#x27;,\n",
       "                                                                              &#x27;через&#x27;,\n",
       "                                                                              &#x27;yourselves&#x27;,\n",
       "                                                                              &#x27;ведь&#x27;,\n",
       "                                                                              &#x27;will&#x27;,\n",
       "                                                                              &#x27;в&#x27;,\n",
       "                                                                              &#x27;мой&#x27;,\n",
       "                                                                              &#x27;mustn&#x27;,\n",
       "                                                                              &#x27;был&#x27;,\n",
       "                                                                              &#x27;t&#x27;,\n",
       "                                                                              &#x27;но&#x27;,\n",
       "                                                                              &#x27;had&#x27;,\n",
       "                                                                              &#x27;чего&#x27;,\n",
       "                                                                              &#x27;на&#x27;,\n",
       "                                                                              &#x27;those&#x27;,\n",
       "                                                                              &#x27;by&#x27;,\n",
       "                                                                              &#x27;there&#x27;, ...],\n",
       "                                                                  token_pattern=&#x27;[а-яёa-z]+&#x27;),\n",
       "                                                  &#x27;title&#x27;)])),\n",
       "                (&#x27;clf&#x27;, LogisticRegression(class_weight=&#x27;balanced&#x27;))])</pre></div></div></div><div class=\"sk-serial\"><div class=\"sk-item sk-dashed-wrapped\"><div class=\"sk-label-container\"><div class=\"sk-label sk-toggleable\"><input class=\"sk-toggleable__control sk-hidden--visually\" id=\"sk-estimator-id-3\" type=\"checkbox\" ><label for=\"sk-estimator-id-3\" class=\"sk-toggleable__label sk-toggleable__label-arrow\">features: ColumnTransformer</label><div class=\"sk-toggleable__content\"><pre>ColumnTransformer(transformers=[(&#x27;url&#x27;,\n",
       "                                 TfidfVectorizer(analyzer=&#x27;char&#x27;, max_df=0.8,\n",
       "                                                 min_df=2, ngram_range=(4, 4),\n",
       "                                                 stop_words=[&#x27;есть&#x27;, &#x27;i&#x27;,\n",
       "                                                             &quot;should&#x27;ve&quot;,\n",
       "                                                             &#x27;совсем&#x27;, &#x27;ее&#x27;,\n",
       "                                                             &#x27;such&#x27;, &#x27;you&#x27;,\n",
       "                                                             &#x27;have&#x27;, &#x27;всех&#x27;,\n",
       "                                                             &#x27;три&#x27;, &#x27;же&#x27;, &#x27;now&#x27;,\n",
       "                                                             &#x27;тогда&#x27;, &#x27;этой&#x27;,\n",
       "                                                             &#x27;через&#x27;,\n",
       "                                                             &#x27;yourselves&#x27;,\n",
       "                                                             &#x27;ведь&#x27;, &#x27;will&#x27;,\n",
       "                                                             &#x27;в&#x27;, &#x27;мой&#x27;,\n",
       "                                                             &#x27;mustn&#x27;, &#x27;был&#x27;,\n",
       "                                                             &#x27;t&#x27;, &#x27;но&#x27;, &#x27;had&#x27;,\n",
       "                                                             &#x27;чего&#x27;, &#x27;на&#x27;,\n",
       "                                                             &#x27;those&#x27;, &#x27;by&#x27;,\n",
       "                                                             &#x27;there&#x27;, ...],\n",
       "                                                 token_pattern=&#x27;[а-яёa-z]+&#x27;),\n",
       "                                 &#x27;url&#x27;),\n",
       "                                (&#x27;title&#x27;,\n",
       "                                 TfidfVectorizer(analyzer=&#x27;char_wb&#x27;, max_df=0.8,\n",
       "                                                 ngram_range=(4, 4),\n",
       "                                                 stop_words=[&#x27;есть&#x27;, &#x27;i&#x27;,\n",
       "                                                             &quot;should&#x27;ve&quot;,\n",
       "                                                             &#x27;совсем&#x27;, &#x27;ее&#x27;,\n",
       "                                                             &#x27;such&#x27;, &#x27;you&#x27;,\n",
       "                                                             &#x27;have&#x27;, &#x27;всех&#x27;,\n",
       "                                                             &#x27;три&#x27;, &#x27;же&#x27;, &#x27;now&#x27;,\n",
       "                                                             &#x27;тогда&#x27;, &#x27;этой&#x27;,\n",
       "                                                             &#x27;через&#x27;,\n",
       "                                                             &#x27;yourselves&#x27;,\n",
       "                                                             &#x27;ведь&#x27;, &#x27;will&#x27;,\n",
       "                                                             &#x27;в&#x27;, &#x27;мой&#x27;,\n",
       "                                                             &#x27;mustn&#x27;, &#x27;был&#x27;,\n",
       "                                                             &#x27;t&#x27;, &#x27;но&#x27;, &#x27;had&#x27;,\n",
       "                                                             &#x27;чего&#x27;, &#x27;на&#x27;,\n",
       "                                                             &#x27;those&#x27;, &#x27;by&#x27;,\n",
       "                                                             &#x27;there&#x27;, ...],\n",
       "                                                 token_pattern=&#x27;[а-яёa-z]+&#x27;),\n",
       "                                 &#x27;title&#x27;)])</pre></div></div></div><div class=\"sk-parallel\"><div class=\"sk-parallel-item\"><div class=\"sk-item\"><div class=\"sk-label-container\"><div class=\"sk-label sk-toggleable\"><input class=\"sk-toggleable__control sk-hidden--visually\" id=\"sk-estimator-id-4\" type=\"checkbox\" ><label for=\"sk-estimator-id-4\" class=\"sk-toggleable__label sk-toggleable__label-arrow\">url</label><div class=\"sk-toggleable__content\"><pre>url</pre></div></div></div><div class=\"sk-serial\"><div class=\"sk-item\"><div class=\"sk-estimator sk-toggleable\"><input class=\"sk-toggleable__control sk-hidden--visually\" id=\"sk-estimator-id-5\" type=\"checkbox\" ><label for=\"sk-estimator-id-5\" class=\"sk-toggleable__label sk-toggleable__label-arrow\">TfidfVectorizer</label><div class=\"sk-toggleable__content\"><pre>TfidfVectorizer(analyzer=&#x27;char&#x27;, max_df=0.8, min_df=2, ngram_range=(4, 4),\n",
       "                stop_words=[&#x27;есть&#x27;, &#x27;i&#x27;, &quot;should&#x27;ve&quot;, &#x27;совсем&#x27;, &#x27;ее&#x27;, &#x27;such&#x27;,\n",
       "                            &#x27;you&#x27;, &#x27;have&#x27;, &#x27;всех&#x27;, &#x27;три&#x27;, &#x27;же&#x27;, &#x27;now&#x27;, &#x27;тогда&#x27;,\n",
       "                            &#x27;этой&#x27;, &#x27;через&#x27;, &#x27;yourselves&#x27;, &#x27;ведь&#x27;, &#x27;will&#x27;, &#x27;в&#x27;,\n",
       "                            &#x27;мой&#x27;, &#x27;mustn&#x27;, &#x27;был&#x27;, &#x27;t&#x27;, &#x27;но&#x27;, &#x27;had&#x27;, &#x27;чего&#x27;,\n",
       "                            &#x27;на&#x27;, &#x27;those&#x27;, &#x27;by&#x27;, &#x27;there&#x27;, ...],\n",
       "                token_pattern=&#x27;[а-яёa-z]+&#x27;)</pre></div></div></div></div></div></div><div class=\"sk-parallel-item\"><div class=\"sk-item\"><div class=\"sk-label-container\"><div class=\"sk-label sk-toggleable\"><input class=\"sk-toggleable__control sk-hidden--visually\" id=\"sk-estimator-id-6\" type=\"checkbox\" ><label for=\"sk-estimator-id-6\" class=\"sk-toggleable__label sk-toggleable__label-arrow\">title</label><div class=\"sk-toggleable__content\"><pre>title</pre></div></div></div><div class=\"sk-serial\"><div class=\"sk-item\"><div class=\"sk-estimator sk-toggleable\"><input class=\"sk-toggleable__control sk-hidden--visually\" id=\"sk-estimator-id-7\" type=\"checkbox\" ><label for=\"sk-estimator-id-7\" class=\"sk-toggleable__label sk-toggleable__label-arrow\">TfidfVectorizer</label><div class=\"sk-toggleable__content\"><pre>TfidfVectorizer(analyzer=&#x27;char_wb&#x27;, max_df=0.8, ngram_range=(4, 4),\n",
       "                stop_words=[&#x27;есть&#x27;, &#x27;i&#x27;, &quot;should&#x27;ve&quot;, &#x27;совсем&#x27;, &#x27;ее&#x27;, &#x27;such&#x27;,\n",
       "                            &#x27;you&#x27;, &#x27;have&#x27;, &#x27;всех&#x27;, &#x27;три&#x27;, &#x27;же&#x27;, &#x27;now&#x27;, &#x27;тогда&#x27;,\n",
       "                            &#x27;этой&#x27;, &#x27;через&#x27;, &#x27;yourselves&#x27;, &#x27;ведь&#x27;, &#x27;will&#x27;, &#x27;в&#x27;,\n",
       "                            &#x27;мой&#x27;, &#x27;mustn&#x27;, &#x27;был&#x27;, &#x27;t&#x27;, &#x27;но&#x27;, &#x27;had&#x27;, &#x27;чего&#x27;,\n",
       "                            &#x27;на&#x27;, &#x27;those&#x27;, &#x27;by&#x27;, &#x27;there&#x27;, ...],\n",
       "                token_pattern=&#x27;[а-яёa-z]+&#x27;)</pre></div></div></div></div></div></div></div></div><div class=\"sk-item\"><div class=\"sk-estimator sk-toggleable\"><input class=\"sk-toggleable__control sk-hidden--visually\" id=\"sk-estimator-id-8\" type=\"checkbox\" ><label for=\"sk-estimator-id-8\" class=\"sk-toggleable__label sk-toggleable__label-arrow\">LogisticRegression</label><div class=\"sk-toggleable__content\"><pre>LogisticRegression(class_weight=&#x27;balanced&#x27;)</pre></div></div></div></div></div></div></div>"
      ],
      "text/plain": [
       "Pipeline(steps=[('features',\n",
       "                 ColumnTransformer(transformers=[('url',\n",
       "                                                  TfidfVectorizer(analyzer='char',\n",
       "                                                                  max_df=0.8,\n",
       "                                                                  min_df=2,\n",
       "                                                                  ngram_range=(4,\n",
       "                                                                               4),\n",
       "                                                                  stop_words=['есть',\n",
       "                                                                              'i',\n",
       "                                                                              \"should've\",\n",
       "                                                                              'совсем',\n",
       "                                                                              'ее',\n",
       "                                                                              'such',\n",
       "                                                                              'you',\n",
       "                                                                              'have',\n",
       "                                                                              'всех',\n",
       "                                                                              'три',\n",
       "                                                                              'же',\n",
       "                                                                              'now',\n",
       "                                                                              'тогда',\n",
       "                                                                              'этой',\n",
       "                                                                              'через',\n",
       "                                                                              'yourselves',\n",
       "                                                                              'ведь',\n",
       "                                                                              'will',\n",
       "                                                                              'в',\n",
       "                                                                              'мой',\n",
       "                                                                              'mustn',\n",
       "                                                                              'был',\n",
       "                                                                              't',\n",
       "                                                                              'но',\n",
       "                                                                              'had',\n",
       "                                                                              'чего',\n",
       "                                                                              'на',\n",
       "                                                                              'those',\n",
       "                                                                              'by',\n",
       "                                                                              'there...\n",
       "                                                  TfidfVectorizer(analyzer='char_wb',\n",
       "                                                                  max_df=0.8,\n",
       "                                                                  ngram_range=(4,\n",
       "                                                                               4),\n",
       "                                                                  stop_words=['есть',\n",
       "                                                                              'i',\n",
       "                                                                              \"should've\",\n",
       "                                                                              'совсем',\n",
       "                                                                              'ее',\n",
       "                                                                              'such',\n",
       "                                                                              'you',\n",
       "                                                                              'have',\n",
       "                                                                              'всех',\n",
       "                                                                              'три',\n",
       "                                                                              'же',\n",
       "                                                                              'now',\n",
       "                                                                              'тогда',\n",
       "                                                                              'этой',\n",
       "                                                                              'через',\n",
       "                                                                              'yourselves',\n",
       "                                                                              'ведь',\n",
       "                                                                              'will',\n",
       "                                                                              'в',\n",
       "                                                                              'мой',\n",
       "                                                                              'mustn',\n",
       "                                                                              'был',\n",
       "                                                                              't',\n",
       "                                                                              'но',\n",
       "                                                                              'had',\n",
       "                                                                              'чего',\n",
       "                                                                              'на',\n",
       "                                                                              'those',\n",
       "                                                                              'by',\n",
       "                                                                              'there', ...],\n",
       "                                                                  token_pattern='[а-яёa-z]+'),\n",
       "                                                  'title')])),\n",
       "                ('clf', LogisticRegression(class_weight='balanced'))])"
      ]
     },
     "execution_count": 85,
     "metadata": {},
     "output_type": "execute_result"
    }
   ],
   "source": [
    "pipeline.fit(learning_content_dataset, Y_train)"
   ]
  },
  {
   "cell_type": "code",
   "execution_count": null,
   "metadata": {},
   "outputs": [
    {
     "data": {
      "text/plain": [
       "0.9954613005583002"
      ]
     },
     "execution_count": 86,
     "metadata": {},
     "output_type": "execute_result"
    }
   ],
   "source": [
    "f1_score(Y_train, pipeline.predict(learning_content_dataset))"
   ]
  },
  {
   "cell_type": "code",
   "execution_count": null,
   "metadata": {},
   "outputs": [
    {
     "data": {
      "text/plain": [
       "0.96951316839585"
      ]
     },
     "execution_count": 87,
     "metadata": {},
     "output_type": "execute_result"
    }
   ],
   "source": [
    "f1_score(Y_test, pipeline.predict(test_content_dataset))"
   ]
  },
  {
   "cell_type": "code",
   "execution_count": null,
   "metadata": {},
   "outputs": [
    {
     "name": "stdout",
     "output_type": "stream",
     "text": [
      "              precision    recall  f1-score   support\n",
      "\n",
      "           0       1.00      1.00      1.00     53252\n",
      "           1       0.96      0.98      0.97      3107\n",
      "\n",
      "    accuracy                           1.00     56359\n",
      "   macro avg       0.98      0.99      0.98     56359\n",
      "weighted avg       1.00      1.00      1.00     56359\n",
      "\n"
     ]
    }
   ],
   "source": [
    "print(classification_report(Y_test, pipeline.predict(test_content_dataset)))"
   ]
  },
  {
   "cell_type": "code",
   "execution_count": null,
   "metadata": {},
   "outputs": [],
   "source": [
    "from sklearn.model_selection import StratifiedKFold, cross_val_score\n",
    "from sklearn.metrics import roc_auc_score, roc_curve"
   ]
  },
  {
   "cell_type": "code",
   "execution_count": null,
   "metadata": {},
   "outputs": [
    {
     "data": {
      "text/plain": [
       "0.9845283055198853"
      ]
     },
     "execution_count": 565,
     "metadata": {},
     "output_type": "execute_result"
    }
   ],
   "source": [
    "k_fold = StratifiedKFold(n_splits = 5, shuffle = True)\n",
    "scores = cross_val_score(pipeline, learning_content_dataset, Y_train, cv = k_fold, scoring = 'f1')\n",
    "scores.mean()"
   ]
  },
  {
   "cell_type": "code",
   "execution_count": null,
   "metadata": {},
   "outputs": [
    {
     "data": {
      "text/plain": [
       "array([0.0182686 , 0.01675586, 0.41196483, ..., 0.03804436, 0.018704  ,\n",
       "       0.00655481])"
      ]
     },
     "execution_count": 108,
     "metadata": {},
     "output_type": "execute_result"
    }
   ],
   "source": [
    "pipeline.predict_proba(test_content_dataset)[:, 1]"
   ]
  },
  {
   "cell_type": "code",
   "execution_count": null,
   "metadata": {},
   "outputs": [],
   "source": [
    "fpr, tpr, threshods = roc_curve(y_true = Y_test, y_score = pipeline.predict_proba(test_content_dataset)[:, 1])"
   ]
  },
  {
   "cell_type": "code",
   "execution_count": null,
   "metadata": {},
   "outputs": [
    {
     "data": {
      "text/plain": [
       "0.9993479092468283"
      ]
     },
     "execution_count": 91,
     "metadata": {},
     "output_type": "execute_result"
    }
   ],
   "source": [
    "roc_auc = roc_auc_score(Y_test, pipeline.predict_proba(test_content_dataset)[:, 1])\n",
    "roc_auc"
   ]
  },
  {
   "cell_type": "code",
   "execution_count": null,
   "metadata": {},
   "outputs": [
    {
     "data": {
      "text/plain": [
       "[<matplotlib.lines.Line2D at 0x242aad7ae30>]"
      ]
     },
     "execution_count": 568,
     "metadata": {},
     "output_type": "execute_result"
    },
    {
     "data": {
      "image/png": "[encoded data removed]",
      "text/plain": [
       "<Figure size 640x480 with 1 Axes>"
      ]
     },
     "metadata": {},
     "output_type": "display_data"
    }
   ],
   "source": [
    "plt.plot(fpr, tpr)"
   ]
  },
  {
   "cell_type": "code",
   "execution_count": null,
   "metadata": {},
   "outputs": [],
   "source": [
    "import xgboost as xgb"
   ]
  },
  {
   "cell_type": "code",
   "execution_count": null,
   "metadata": {},
   "outputs": [],
   "source": [
    "pipeline_xgb = Pipeline([\n",
    "    (\n",
    "        'features', \n",
    "        ColumnTransformer([\n",
    "            (\n",
    "                'url', \n",
    "                TfidfVectorizer(\n",
    "                    lowercase=True, ngram_range=(4, 4), token_pattern=TOKEN_PATTERN,\n",
    "                    stop_words = stopword_set, min_df=2, max_df=0.8, analyzer = 'char', smooth_idf = True\n",
    "                ), \n",
    "                'url'\n",
    "            ),\n",
    "            (\n",
    "                'title',\n",
    "                TfidfVectorizer(\n",
    "                    lowercase=True, ngram_range=(4, 4), token_pattern=TOKEN_PATTERN,\n",
    "                    stop_words = stopword_set, min_df=1, max_df=0.8, analyzer = 'char_wb', smooth_idf = True\n",
    "                ), \n",
    "                'title'\n",
    "            ),\n",
    "        ])\n",
    "    ),\n",
    "    \n",
    "    # ('scaler', MinMaxScaler()),\n",
    "    ('xgb', xgb.XGBClassifier(objective = 'binary:logistic', base_score=0.5,\n",
    "       learning_rate=0.2309, max_depth = 20,\n",
    "       n_estimators=3,\n",
    "       seed=0))\n",
    "])"
   ]
  },
  {
   "cell_type": "code",
   "execution_count": null,
   "metadata": {},
   "outputs": [],
   "source": [
    "pipeline_xgb.fit(learning_content_dataset, Y_train)"
   ]
  },
  {
   "cell_type": "code",
   "execution_count": null,
   "metadata": {},
   "outputs": [],
   "source": [
    "f1_score(Y_test, pipeline_xgb.predict(test_content_dataset))"
   ]
  },
  {
   "cell_type": "code",
   "execution_count": null,
   "metadata": {},
   "outputs": [],
   "source": [
    "f1_score(Y_train, pipeline_xgb.predict(learning_content_dataset))"
   ]
  },
  {
   "cell_type": "code",
   "execution_count": null,
   "metadata": {},
   "outputs": [],
   "source": [
    "test_dataset['label'] = predictions"
   ]
  },
  {
   "cell_type": "code",
   "execution_count": null,
   "metadata": {},
   "outputs": [],
   "source": [
    "test_dataset_submit = test_dataset[['ID', 'label']]"
   ]
  },
  {
   "cell_type": "code",
   "execution_count": null,
   "metadata": {},
   "outputs": [
    {
     "data": {
      "text/html": [
       "<div>\n",
       "<style scoped>\n",
       "    .dataframe tbody tr th:only-of-type {\n",
       "        vertical-align: middle;\n",
       "    }\n",
       "\n",
       "    .dataframe tbody tr th {\n",
       "        vertical-align: top;\n",
       "    }\n",
       "\n",
       "    .dataframe thead th {\n",
       "        text-align: right;\n",
       "    }\n",
       "</style>\n",
       "<table border=\"1\" class=\"dataframe\">\n",
       "  <thead>\n",
       "    <tr style=\"text-align: right;\">\n",
       "      <th></th>\n",
       "      <th>ID</th>\n",
       "      <th>label</th>\n",
       "    </tr>\n",
       "  </thead>\n",
       "  <tbody>\n",
       "    <tr>\n",
       "      <th>0</th>\n",
       "      <td>135309</td>\n",
       "      <td>0</td>\n",
       "    </tr>\n",
       "    <tr>\n",
       "      <th>1</th>\n",
       "      <td>135310</td>\n",
       "      <td>0</td>\n",
       "    </tr>\n",
       "    <tr>\n",
       "      <th>2</th>\n",
       "      <td>135311</td>\n",
       "      <td>0</td>\n",
       "    </tr>\n",
       "    <tr>\n",
       "      <th>3</th>\n",
       "      <td>135312</td>\n",
       "      <td>1</td>\n",
       "    </tr>\n",
       "    <tr>\n",
       "      <th>4</th>\n",
       "      <td>135313</td>\n",
       "      <td>0</td>\n",
       "    </tr>\n",
       "    <tr>\n",
       "      <th>...</th>\n",
       "      <td>...</td>\n",
       "      <td>...</td>\n",
       "    </tr>\n",
       "    <tr>\n",
       "      <th>165373</th>\n",
       "      <td>300682</td>\n",
       "      <td>0</td>\n",
       "    </tr>\n",
       "    <tr>\n",
       "      <th>165374</th>\n",
       "      <td>300683</td>\n",
       "      <td>0</td>\n",
       "    </tr>\n",
       "    <tr>\n",
       "      <th>165375</th>\n",
       "      <td>300684</td>\n",
       "      <td>0</td>\n",
       "    </tr>\n",
       "    <tr>\n",
       "      <th>165376</th>\n",
       "      <td>300685</td>\n",
       "      <td>0</td>\n",
       "    </tr>\n",
       "    <tr>\n",
       "      <th>165377</th>\n",
       "      <td>300686</td>\n",
       "      <td>0</td>\n",
       "    </tr>\n",
       "  </tbody>\n",
       "</table>\n",
       "<p>165378 rows × 2 columns</p>\n",
       "</div>"
      ],
      "text/plain": [
       "            ID  label\n",
       "0       135309      0\n",
       "1       135310      0\n",
       "2       135311      0\n",
       "3       135312      1\n",
       "4       135313      0\n",
       "...        ...    ...\n",
       "165373  300682      0\n",
       "165374  300683      0\n",
       "165375  300684      0\n",
       "165376  300685      0\n",
       "165377  300686      0\n",
       "\n",
       "[165378 rows x 2 columns]"
      ]
     },
     "execution_count": 614,
     "metadata": {},
     "output_type": "execute_result"
    }
   ],
   "source": [
    "test_dataset_submit"
   ]
  },
  {
   "cell_type": "code",
   "execution_count": null,
   "metadata": {},
   "outputs": [],
   "source": [
    "test_dataset_submit.to_csv('submit_attempt.csv')"
   ]
  },
  {
   "cell_type": "code",
   "execution_count": null,
   "metadata": {},
   "outputs": [],
   "source": [
    "data = pd.read_csv('submit_attempt.csv')"
   ]
  },
  {
   "cell_type": "code",
   "execution_count": null,
   "metadata": {},
   "outputs": [
    {
     "data": {
      "text/html": [
       "<div>\n",
       "<style scoped>\n",
       "    .dataframe tbody tr th:only-of-type {\n",
       "        vertical-align: middle;\n",
       "    }\n",
       "\n",
       "    .dataframe tbody tr th {\n",
       "        vertical-align: top;\n",
       "    }\n",
       "\n",
       "    .dataframe thead th {\n",
       "        text-align: right;\n",
       "    }\n",
       "</style>\n",
       "<table border=\"1\" class=\"dataframe\">\n",
       "  <thead>\n",
       "    <tr style=\"text-align: right;\">\n",
       "      <th></th>\n",
       "      <th>ID</th>\n",
       "      <th>label</th>\n",
       "    </tr>\n",
       "  </thead>\n",
       "  <tbody>\n",
       "    <tr>\n",
       "      <th>0</th>\n",
       "      <td>135309</td>\n",
       "      <td>0</td>\n",
       "    </tr>\n",
       "    <tr>\n",
       "      <th>1</th>\n",
       "      <td>135310</td>\n",
       "      <td>0</td>\n",
       "    </tr>\n",
       "    <tr>\n",
       "      <th>2</th>\n",
       "      <td>135311</td>\n",
       "      <td>0</td>\n",
       "    </tr>\n",
       "    <tr>\n",
       "      <th>3</th>\n",
       "      <td>135312</td>\n",
       "      <td>1</td>\n",
       "    </tr>\n",
       "    <tr>\n",
       "      <th>4</th>\n",
       "      <td>135313</td>\n",
       "      <td>0</td>\n",
       "    </tr>\n",
       "    <tr>\n",
       "      <th>...</th>\n",
       "      <td>...</td>\n",
       "      <td>...</td>\n",
       "    </tr>\n",
       "    <tr>\n",
       "      <th>165373</th>\n",
       "      <td>300682</td>\n",
       "      <td>0</td>\n",
       "    </tr>\n",
       "    <tr>\n",
       "      <th>165374</th>\n",
       "      <td>300683</td>\n",
       "      <td>0</td>\n",
       "    </tr>\n",
       "    <tr>\n",
       "      <th>165375</th>\n",
       "      <td>300684</td>\n",
       "      <td>0</td>\n",
       "    </tr>\n",
       "    <tr>\n",
       "      <th>165376</th>\n",
       "      <td>300685</td>\n",
       "      <td>0</td>\n",
       "    </tr>\n",
       "    <tr>\n",
       "      <th>165377</th>\n",
       "      <td>300686</td>\n",
       "      <td>0</td>\n",
       "    </tr>\n",
       "  </tbody>\n",
       "</table>\n",
       "<p>165378 rows × 2 columns</p>\n",
       "</div>"
      ],
      "text/plain": [
       "            ID  label\n",
       "0       135309      0\n",
       "1       135310      0\n",
       "2       135311      0\n",
       "3       135312      1\n",
       "4       135313      0\n",
       "...        ...    ...\n",
       "165373  300682      0\n",
       "165374  300683      0\n",
       "165375  300684      0\n",
       "165376  300685      0\n",
       "165377  300686      0\n",
       "\n",
       "[165378 rows x 2 columns]"
      ]
     },
     "execution_count": 619,
     "metadata": {},
     "output_type": "execute_result"
    }
   ],
   "source": [
    "data"
   ]
  },
  {
   "cell_type": "markdown",
   "metadata": {},
   "source": [
    "### Margin"
   ]
  },
  {
   "cell_type": "code",
   "execution_count": null,
   "metadata": {},
   "outputs": [],
   "source": [
    "parameters = {\n",
    "    'site_name__ngram_range': ((1, 1), (2, 2), (3, 3)),\n",
    "    'site_name__min_df': (3, 5, 7),\n",
    "    'site_name__max_df': (0.5, 0.75),\n",
    "    'title__ngram_range': ((1, 1), (2, 2), (3, 3), (4, 4)),\n",
    "    'title__min_df': (3, 5, 7),\n",
    "    'title__max_df': (0.5, 0.75),\n",
    "}"
   ]
  },
  {
   "cell_type": "code",
   "execution_count": null,
   "metadata": {},
   "outputs": [],
   "source": [
    "grid_search = GridSearchCV(pipeline, parameters, cv=3, scoring='f1', verbose=1)"
   ]
  },
  {
   "cell_type": "code",
   "execution_count": null,
   "metadata": {},
   "outputs": [],
   "source": [
    "grid_search.fit(learning_content_dataset, Y_train)"
   ]
  },
  {
   "cell_type": "code",
   "execution_count": null,
   "metadata": {},
   "outputs": [
    {
     "data": {
      "text/plain": [
       "{'clf__C': 0.01, 'clf__penalty': 'l2', 'clf__solver': 'liblinear'}"
      ]
     },
     "execution_count": 1180,
     "metadata": {},
     "output_type": "execute_result"
    }
   ],
   "source": [
    "grid_search.best_params_"
   ]
  },
  {
   "cell_type": "markdown",
   "metadata": {},
   "source": [
    "### Visual Part"
   ]
  },
  {
   "cell_type": "code",
   "execution_count": null,
   "metadata": {},
   "outputs": [],
   "source": [
    "y_val_proba = pipeline.predict_proba(test_content_dataset)[:, 1]\n",
    "\n",
    "def false_positive(y, y_proba, eps=1e-15):\n",
    "    if y:\n",
    "        return (-y) * np.log(y_proba + eps)\n",
    "    else:\n",
    "        return 0.0\n",
    "\n",
    "def false_negative(y, y_proba, eps=1e-15):\n",
    "    if y:\n",
    "        return 0.0\n",
    "    else:\n",
    "        return (y - 1) * np.log(1 - y_proba + eps)\n",
    "\n",
    "\n",
    "review_count = 5\n",
    "\n",
    "\n",
    "positive_error = np.array([false_positive(y, y_proba) for (y, y_proba) in zip(Y_test, y_val_proba)])\n",
    "\n",
    "negative_error = np.array([false_negative(y, y_proba) for (y, y_proba) in zip(Y_test, y_val_proba)])\n",
    "\n",
    "max_loss_ids = np.concatenate((\n",
    "    positive_error.argsort()[::-1][:review_count],\n",
    "    negative_error.argsort()[::-1][:review_count]\n",
    "))"
   ]
  },
  {
   "cell_type": "code",
   "execution_count": null,
   "metadata": {},
   "outputs": [],
   "source": [
    "vectorizer = pipeline.steps[0][1]\n",
    "\n",
    "token2id = {token: i for i, token in enumerate(vectorizer.get_feature_names_out())}\n",
    "\n",
    "importance = pipeline.steps[1][1].coef_[0]\n",
    "\n",
    "min_importance = importance.min()\n",
    "max_importance = importance.max()"
   ]
  },
  {
   "cell_type": "code",
   "execution_count": null,
   "metadata": {},
   "outputs": [
    {
     "data": {
      "text/plain": [
       "array([23496, 13326,  1399, 11297, 35975, 11581, 37143, 30679, 16083,\n",
       "        8496], dtype=int64)"
      ]
     },
     "execution_count": 1082,
     "metadata": {},
     "output_type": "execute_result"
    }
   ],
   "source": [
    "max_loss_ids"
   ]
  },
  {
   "cell_type": "code",
   "execution_count": null,
   "metadata": {},
   "outputs": [
    {
     "data": {
      "text/plain": [
       "array([2.86937500e-03, 6.95986245e-03, 9.98665301e-01, ...,\n",
       "       2.10973200e-04, 2.91976185e-02, 1.26228016e-02])"
      ]
     },
     "execution_count": 1083,
     "metadata": {},
     "output_type": "execute_result"
    }
   ],
   "source": [
    "y_val_proba"
   ]
  },
  {
   "cell_type": "code",
   "execution_count": null,
   "metadata": {},
   "outputs": [
    {
     "name": "stdout",
     "output_type": "stream",
     "text": [
      "klinkernyi stupen priamoi euramic classics puma klinker tsentr\n",
      "predicted class: 0\n",
      "true label: 1\n"
     ]
    },
    {
     "data": {
      "text/html": [
       "\n",
       "    <p style=\"font-size:16px; color:#000000; border: 2px solid #000; text-align: justify; background-color:#ffffff; border-radius: 25px; padding: 20px;\">\n",
       "    <span style=\"background-color: #ffffff\"; title=\"0.00\">klinkernyi</span> <span style=\"background-color: #ffffff\"; title=\"0.00\">stupen</span> <span style=\"background-color: #ffffff\"; title=\"0.00\">priamoi</span> <span style=\"background-color: #ffffff\"; title=\"0.00\">euramic</span> <span style=\"background-color: #ffffff\"; title=\"0.00\">classics</span> <span style=\"background-color: #ffffff\"; title=\"0.00\">puma</span> <span style=\"background-color: #ffffff\"; title=\"0.00\">klinker</span> <span style=\"background-color: #ffffff\"; title=\"0.00\">tsentr</span> </p>"
      ],
      "text/plain": [
       "<IPython.core.display.HTML object>"
      ]
     },
     "metadata": {},
     "output_type": "display_data"
    },
    {
     "name": "stdout",
     "output_type": "stream",
     "text": [
      "spartacus hdtv srt subtitles english\n",
      "predicted class: 0\n",
      "true label: 1\n"
     ]
    },
    {
     "data": {
      "text/html": [
       "\n",
       "    <p style=\"font-size:16px; color:#000000; border: 2px solid #000; text-align: justify; background-color:#ffffff; border-radius: 25px; padding: 20px;\">\n",
       "    <span style=\"background-color: #ffffff\"; title=\"0.00\">spartacus</span> <span style=\"background-color: #ffffff\"; title=\"0.00\">hdtv</span> <span style=\"background-color: #ffffff\"; title=\"0.00\">srt</span> <span style=\"background-color: #ffffff\"; title=\"0.00\">subtitles</span> <span style=\"background-color: #ffffff\"; title=\"0.00\">english</span> </p>"
      ],
      "text/plain": [
       "<IPython.core.display.HTML object>"
      ]
     },
     "metadata": {},
     "output_type": "display_data"
    },
    {
     "name": "stdout",
     "output_type": "stream",
     "text": [
      "tatuaggio inchiostro nero stile dotwork carino coppia gufo dino nemec\n",
      "predicted class: 0\n",
      "true label: 1\n"
     ]
    },
    {
     "data": {
      "text/html": [
       "\n",
       "    <p style=\"font-size:16px; color:#000000; border: 2px solid #000; text-align: justify; background-color:#ffffff; border-radius: 25px; padding: 20px;\">\n",
       "    <span style=\"background-color: #ffffff\"; title=\"0.00\">tatuaggio</span> <span style=\"background-color: #ffffff\"; title=\"0.00\">inchiostro</span> <span style=\"background-color: #ffffff\"; title=\"0.00\">nero</span> <span style=\"background-color: #ffffff\"; title=\"0.00\">stile</span> <span style=\"background-color: #ffffff\"; title=\"0.00\">dotwork</span> <span style=\"background-color: #ffffff\"; title=\"0.00\">carino</span> <span style=\"background-color: #ffffff\"; title=\"0.00\">coppia</span> <span style=\"background-color: #ffffff\"; title=\"0.00\">gufo</span> <span style=\"background-color: #ffffff\"; title=\"0.00\">dino</span> <span style=\"background-color: #ffffff\"; title=\"0.00\">nemec</span> </p>"
      ],
      "text/plain": [
       "<IPython.core.display.HTML object>"
      ]
     },
     "metadata": {},
     "output_type": "display_data"
    },
    {
     "name": "stdout",
     "output_type": "stream",
     "text": [
      "lazizbek jaqulov yoqib qolibsiz uzbekskii klip\n",
      "predicted class: 0\n",
      "true label: 1\n"
     ]
    },
    {
     "data": {
      "text/html": [
       "\n",
       "    <p style=\"font-size:16px; color:#000000; border: 2px solid #000; text-align: justify; background-color:#ffffff; border-radius: 25px; padding: 20px;\">\n",
       "    <span style=\"background-color: #ffffff\"; title=\"0.00\">lazizbek</span> <span style=\"background-color: #ffffff\"; title=\"0.00\">jaqulov</span> <span style=\"background-color: #ffffff\"; title=\"0.00\">yoqib</span> <span style=\"background-color: #ffffff\"; title=\"0.00\">qolibsiz</span> <span style=\"background-color: #ffffff\"; title=\"0.00\">uzbekskii</span> <span style=\"background-color: #ffffff\"; title=\"0.00\">klip</span> </p>"
      ],
      "text/plain": [
       "<IPython.core.display.HTML object>"
      ]
     },
     "metadata": {},
     "output_type": "display_data"
    },
    {
     "name": "stdout",
     "output_type": "stream",
     "text": [
      "gulbahorning bahoriy onlari\n",
      "predicted class: 0\n",
      "true label: 1\n"
     ]
    },
    {
     "data": {
      "text/html": [
       "\n",
       "    <p style=\"font-size:16px; color:#000000; border: 2px solid #000; text-align: justify; background-color:#ffffff; border-radius: 25px; padding: 20px;\">\n",
       "    <span style=\"background-color: #ffffff\"; title=\"0.00\">gulbahorning</span> <span style=\"background-color: #ffffff\"; title=\"0.00\">bahoriy</span> <span style=\"background-color: #ffffff\"; title=\"0.00\">onlari</span> </p>"
      ],
      "text/plain": [
       "<IPython.core.display.HTML object>"
      ]
     },
     "metadata": {},
     "output_type": "display_data"
    },
    {
     "name": "stdout",
     "output_type": "stream",
     "text": [
      "seks\n",
      "predicted class: 1\n",
      "true label: 0\n"
     ]
    },
    {
     "data": {
      "text/html": [
       "\n",
       "    <p style=\"font-size:16px; color:#000000; border: 2px solid #000; text-align: justify; background-color:#ffffff; border-radius: 25px; padding: 20px;\">\n",
       "    <span style=\"background-color: #ffffff\"; title=\"0.00\">seks</span> </p>"
      ],
      "text/plain": [
       "<IPython.core.display.HTML object>"
      ]
     },
     "metadata": {},
     "output_type": "display_data"
    },
    {
     "name": "stdout",
     "output_type": "stream",
     "text": [
      "seks analnyi\n",
      "predicted class: 1\n",
      "true label: 0\n"
     ]
    },
    {
     "data": {
      "text/html": [
       "\n",
       "    <p style=\"font-size:16px; color:#000000; border: 2px solid #000; text-align: justify; background-color:#ffffff; border-radius: 25px; padding: 20px;\">\n",
       "    <span style=\"background-color: #ffffff\"; title=\"0.00\">seks</span> <span style=\"background-color: #ffffff\"; title=\"0.00\">analnyi</span> </p>"
      ],
      "text/plain": [
       "<IPython.core.display.HTML object>"
      ]
     },
     "metadata": {},
     "output_type": "display_data"
    },
    {
     "name": "stdout",
     "output_type": "stream",
     "text": [
      "hentai hot com\n",
      "predicted class: 1\n",
      "true label: 0\n"
     ]
    },
    {
     "data": {
      "text/html": [
       "\n",
       "    <p style=\"font-size:16px; color:#000000; border: 2px solid #000; text-align: justify; background-color:#ffffff; border-radius: 25px; padding: 20px;\">\n",
       "    <span style=\"background-color: #ffffff\"; title=\"0.00\">hentai</span> <span style=\"background-color: #ffffff\"; title=\"0.00\">hot</span> <span style=\"background-color: #ffffff\"; title=\"0.00\">com</span> </p>"
      ],
      "text/plain": [
       "<IPython.core.display.HTML object>"
      ]
     },
     "metadata": {},
     "output_type": "display_data"
    },
    {
     "name": "stdout",
     "output_type": "stream",
     "text": [
      "seks muzyka intimnyi eroticheskii moment mail\n",
      "predicted class: 1\n",
      "true label: 0\n"
     ]
    },
    {
     "data": {
      "text/html": [
       "\n",
       "    <p style=\"font-size:16px; color:#000000; border: 2px solid #000; text-align: justify; background-color:#ffffff; border-radius: 25px; padding: 20px;\">\n",
       "    <span style=\"background-color: #ffffff\"; title=\"0.00\">seks</span> <span style=\"background-color: #ffffff\"; title=\"0.00\">muzyka</span> <span style=\"background-color: #ffffff\"; title=\"0.00\">intimnyi</span> <span style=\"background-color: #ffffff\"; title=\"0.00\">eroticheskii</span> <span style=\"background-color: #ffffff\"; title=\"0.00\">moment</span> <span style=\"background-color: #ffffff\"; title=\"0.00\">mail</span> </p>"
      ],
      "text/plain": [
       "<IPython.core.display.HTML object>"
      ]
     },
     "metadata": {},
     "output_type": "display_data"
    },
    {
     "name": "stdout",
     "output_type": "stream",
     "text": [
      "antares erotic erotic classic hot trailer official\n",
      "predicted class: 1\n",
      "true label: 0\n"
     ]
    },
    {
     "data": {
      "text/html": [
       "\n",
       "    <p style=\"font-size:16px; color:#000000; border: 2px solid #000; text-align: justify; background-color:#ffffff; border-radius: 25px; padding: 20px;\">\n",
       "    <span style=\"background-color: #ffffff\"; title=\"0.00\">antares</span> <span style=\"background-color: #ffffff\"; title=\"0.00\">erotic</span> <span style=\"background-color: #ffffff\"; title=\"0.00\">erotic</span> <span style=\"background-color: #ffffff\"; title=\"0.00\">classic</span> <span style=\"background-color: #ffffff\"; title=\"0.00\">hot</span> <span style=\"background-color: #ffffff\"; title=\"0.00\">trailer</span> <span style=\"background-color: #ffffff\"; title=\"0.00\">official</span> </p>"
      ],
      "text/plain": [
       "<IPython.core.display.HTML object>"
      ]
     },
     "metadata": {},
     "output_type": "display_data"
    }
   ],
   "source": [
    "for i in max_loss_ids:\n",
    "    review_body = test_content_dataset.reset_index().iloc[i, :].title\n",
    "    print(review_body)\n",
    "    \n",
    "    print(f'predicted class: {pipeline.predict(test_content_dataset)[i]}')\n",
    "    print(f'true label: {test_content_dataset.reset_index().label.loc[i]}')\n",
    "    \n",
    "    review_tokens = re.findall(TOKEN_PATTERN, review_body.lower())\n",
    "    \n",
    "    html_string = '''\n",
    "    <p style=\"font-size:16px; color:#000000; border: 2px solid #000; text-align: justify; background-color:#ffffff; border-radius: 25px; padding: 20px;\">\n",
    "    '''\n",
    "\n",
    "    for token in review_tokens:\n",
    "        if token in token2id:\n",
    "            weight = importance[token2id[token]]\n",
    "            if weight < 0:\n",
    "                component = hex(int(255 - 255 * weight / min_importance))[2:]\n",
    "                color = f'{component}{component}ff'\n",
    "            else:\n",
    "                component = hex(int(255 - 255 * weight / max_importance))[2:]\n",
    "                color = f'ff{component}{component}'\n",
    "        else:\n",
    "            weight = 0.0\n",
    "            color = 'ffffff'\n",
    "        html_string += f'<span style=\"background-color: #{color}\"; title=\"{weight:.2f}\">{token}</span> '\n",
    "\n",
    "    html_string += '</p>'\n",
    "\n",
    "    display(HTML(html_string))"
   ]
  },
  {
   "cell_type": "code",
   "execution_count": null,
   "metadata": {},
   "outputs": [
    {
     "data": {
      "text/html": [
       "<div>\n",
       "<style scoped>\n",
       "    .dataframe tbody tr th:only-of-type {\n",
       "        vertical-align: middle;\n",
       "    }\n",
       "\n",
       "    .dataframe tbody tr th {\n",
       "        vertical-align: top;\n",
       "    }\n",
       "\n",
       "    .dataframe thead th {\n",
       "        text-align: right;\n",
       "    }\n",
       "</style>\n",
       "<table border=\"1\" class=\"dataframe\">\n",
       "  <thead>\n",
       "    <tr style=\"text-align: right;\">\n",
       "      <th></th>\n",
       "      <th>ID</th>\n",
       "      <th>url</th>\n",
       "      <th>title</th>\n",
       "    </tr>\n",
       "  </thead>\n",
       "  <tbody>\n",
       "    <tr>\n",
       "      <th>0</th>\n",
       "      <td>135309</td>\n",
       "      <td>www.kommersant.ru</td>\n",
       "      <td>Шестой кассационный суд в Самаре начнет работу...</td>\n",
       "    </tr>\n",
       "    <tr>\n",
       "      <th>1</th>\n",
       "      <td>135310</td>\n",
       "      <td>urexpert.online</td>\n",
       "      <td>Что такое индексация алиментов, кем и в каких ...</td>\n",
       "    </tr>\n",
       "    <tr>\n",
       "      <th>2</th>\n",
       "      <td>135311</td>\n",
       "      <td>imperimeha.ru</td>\n",
       "      <td>Женщинам | Империя Меха - Part 12</td>\n",
       "    </tr>\n",
       "    <tr>\n",
       "      <th>3</th>\n",
       "      <td>135312</td>\n",
       "      <td>national-porn.com</td>\n",
       "      <td>Небритые, волосатые киски: Порно всех стран и ...</td>\n",
       "    </tr>\n",
       "    <tr>\n",
       "      <th>4</th>\n",
       "      <td>135313</td>\n",
       "      <td>2gis.ru</td>\n",
       "      <td>67</td>\n",
       "    </tr>\n",
       "  </tbody>\n",
       "</table>\n",
       "</div>"
      ],
      "text/plain": [
       "       ID                url   \n",
       "0  135309  www.kommersant.ru  \\\n",
       "1  135310    urexpert.online   \n",
       "2  135311      imperimeha.ru   \n",
       "3  135312  national-porn.com   \n",
       "4  135313            2gis.ru   \n",
       "\n",
       "                                               title  \n",
       "0  Шестой кассационный суд в Самаре начнет работу...  \n",
       "1  Что такое индексация алиментов, кем и в каких ...  \n",
       "2                  Женщинам | Империя Меха - Part 12  \n",
       "3  Небритые, волосатые киски: Порно всех стран и ...  \n",
       "4                                                 67  "
      ]
     },
     "execution_count": 341,
     "metadata": {},
     "output_type": "execute_result"
    }
   ],
   "source": [
    "test_dataset = pd.read_csv('tools//test.csv')\n",
    "test_dataset.head()"
   ]
  },
  {
   "cell_type": "code",
   "execution_count": null,
   "metadata": {},
   "outputs": [
    {
     "data": {
      "text/html": [
       "<div>\n",
       "<style scoped>\n",
       "    .dataframe tbody tr th:only-of-type {\n",
       "        vertical-align: middle;\n",
       "    }\n",
       "\n",
       "    .dataframe tbody tr th {\n",
       "        vertical-align: top;\n",
       "    }\n",
       "\n",
       "    .dataframe thead th {\n",
       "        text-align: right;\n",
       "    }\n",
       "</style>\n",
       "<table border=\"1\" class=\"dataframe\">\n",
       "  <thead>\n",
       "    <tr style=\"text-align: right;\">\n",
       "      <th></th>\n",
       "      <th>ID</th>\n",
       "      <th>url</th>\n",
       "      <th>title</th>\n",
       "      <th>new_url</th>\n",
       "      <th>url_domain</th>\n",
       "      <th>site_name</th>\n",
       "    </tr>\n",
       "  </thead>\n",
       "  <tbody>\n",
       "    <tr>\n",
       "      <th>0</th>\n",
       "      <td>135309</td>\n",
       "      <td>www.kommersant.ru</td>\n",
       "      <td>Шестой кассационный суд в Самаре начнет работу...</td>\n",
       "      <td>[www, kommersant, ru]</td>\n",
       "      <td>ru</td>\n",
       "      <td>kommersant</td>\n",
       "    </tr>\n",
       "    <tr>\n",
       "      <th>1</th>\n",
       "      <td>135310</td>\n",
       "      <td>urexpert.online</td>\n",
       "      <td>Что такое индексация алиментов, кем и в каких ...</td>\n",
       "      <td>[urexpert, online]</td>\n",
       "      <td>online</td>\n",
       "      <td>online</td>\n",
       "    </tr>\n",
       "    <tr>\n",
       "      <th>2</th>\n",
       "      <td>135311</td>\n",
       "      <td>imperimeha.ru</td>\n",
       "      <td>Женщинам | Империя Меха - Part 12</td>\n",
       "      <td>[imperimeha, ru]</td>\n",
       "      <td>ru</td>\n",
       "      <td>imperimeha</td>\n",
       "    </tr>\n",
       "    <tr>\n",
       "      <th>3</th>\n",
       "      <td>135312</td>\n",
       "      <td>national-porn.com</td>\n",
       "      <td>Небритые, волосатые киски: Порно всех стран и ...</td>\n",
       "      <td>[national-porn, com]</td>\n",
       "      <td>com</td>\n",
       "      <td>national-porn</td>\n",
       "    </tr>\n",
       "    <tr>\n",
       "      <th>4</th>\n",
       "      <td>135313</td>\n",
       "      <td>2gis.ru</td>\n",
       "      <td>67</td>\n",
       "      <td>[2gis, ru]</td>\n",
       "      <td>ru</td>\n",
       "      <td>2gis</td>\n",
       "    </tr>\n",
       "  </tbody>\n",
       "</table>\n",
       "</div>"
      ],
      "text/plain": [
       "       ID                url   \n",
       "0  135309  www.kommersant.ru  \\\n",
       "1  135310    urexpert.online   \n",
       "2  135311      imperimeha.ru   \n",
       "3  135312  national-porn.com   \n",
       "4  135313            2gis.ru   \n",
       "\n",
       "                                               title                new_url   \n",
       "0  Шестой кассационный суд в Самаре начнет работу...  [www, kommersant, ru]  \\\n",
       "1  Что такое индексация алиментов, кем и в каких ...     [urexpert, online]   \n",
       "2                  Женщинам | Империя Меха - Part 12       [imperimeha, ru]   \n",
       "3  Небритые, волосатые киски: Порно всех стран и ...   [national-porn, com]   \n",
       "4                                                 67             [2gis, ru]   \n",
       "\n",
       "  url_domain      site_name  \n",
       "0         ru     kommersant  \n",
       "1     online         online  \n",
       "2         ru     imperimeha  \n",
       "3        com  national-porn  \n",
       "4         ru           2gis  "
      ]
     },
     "execution_count": 348,
     "metadata": {},
     "output_type": "execute_result"
    }
   ],
   "source": [
    "test_dataset.head()"
   ]
  },
  {
   "cell_type": "code",
   "execution_count": null,
   "metadata": {},
   "outputs": [],
   "source": []
  }
 ],
 "metadata": {
  "kernelspec": {
   "display_name": "venv",
   "language": "python",
   "name": "python3"
  },
  "language_info": {
   "codemirror_mode": {
    "name": "ipython",
    "version": 3
   },
   "file_extension": ".py",
   "mimetype": "text/x-python",
   "name": "python",
   "nbconvert_exporter": "python",
   "pygments_lexer": "ipython3",
   "version": "3.10.11"
  }
 },
 "nbformat": 4,
 "nbformat_minor": 2
}
