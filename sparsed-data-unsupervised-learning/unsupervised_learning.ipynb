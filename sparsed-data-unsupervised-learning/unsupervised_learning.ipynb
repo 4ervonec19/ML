{
 "cells": [
  {
   "cell_type": "code",
   "execution_count": 20,
   "metadata": {},
   "outputs": [],
   "source": [
    "import pandas as pd\n",
    "import numpy as np\n",
    "import matplotlib.pyplot as plt\n",
    "import matplotlib.ticker as ticker\n",
    "from scipy import sparse\n",
    "import seaborn as sns\n",
    "\n",
    "from sklearn.model_selection import train_test_split\n",
    "from sklearn.decomposition import PCA, TruncatedSVD\n",
    "from sklearn.decomposition import PCA\n",
    "\n",
    "from sklearn.cluster import KMeans\n",
    "\n",
    "import os\n",
    "import tensorflow as tf\n",
    "sns.set()"
   ]
  },
  {
   "cell_type": "markdown",
   "metadata": {},
   "source": [
    "### And from this spot we start!\n",
    "\n",
    "### Here we go! @fabriziorom (Who knows - he gets)"
   ]
  },
  {
   "cell_type": "code",
   "execution_count": 2,
   "metadata": {},
   "outputs": [],
   "source": [
    "train_data = sparse.load_npz(\"train.npz\")\n",
    "#test_data = pd.read_csv('sample_submission.csv')"
   ]
  },
  {
   "cell_type": "code",
   "execution_count": 3,
   "metadata": {},
   "outputs": [],
   "source": [
    "train_data = pd.DataFrame(train_data.toarray()).astype('float16')"
   ]
  },
  {
   "cell_type": "code",
   "execution_count": 4,
   "metadata": {},
   "outputs": [
    {
     "data": {
      "text/plain": [
       "(14590, 77888)"
      ]
     },
     "execution_count": 4,
     "metadata": {},
     "output_type": "execute_result"
    }
   ],
   "source": [
    "train_data.shape"
   ]
  },
  {
   "cell_type": "markdown",
   "metadata": {},
   "source": [
    "### Let's check on the stddev in different features"
   ]
  },
  {
   "cell_type": "code",
   "execution_count": 7,
   "metadata": {},
   "outputs": [],
   "source": [
    "stddev_array = np.zeros((train_data.shape[1]))"
   ]
  },
  {
   "cell_type": "code",
   "execution_count": 8,
   "metadata": {},
   "outputs": [],
   "source": [
    "def sttdev_count(sttdev_array, data):\n",
    "    for i in range(data.shape[1]):\n",
    "        sttdev_array[i] = data.iloc[:, i][train_data.iloc[:, i] != 0].std()\n",
    "    return sttdev_array\n",
    "\n",
    "stddev_array = sttdev_count(stddev_array, train_data)\n",
    "\n",
    "#too long, but probably gold"
   ]
  },
  {
   "cell_type": "code",
   "execution_count": 9,
   "metadata": {},
   "outputs": [
    {
     "data": {
      "text/plain": [
       "(array([0.07385254, 0.0496521 , 0.0243988 , ..., 0.04296875, 0.04498291,\n",
       "        0.08404541]),\n",
       " 77888)"
      ]
     },
     "execution_count": 9,
     "metadata": {},
     "output_type": "execute_result"
    }
   ],
   "source": [
    "stddev_array, len(stddev_array)"
   ]
  },
  {
   "cell_type": "code",
   "execution_count": 10,
   "metadata": {},
   "outputs": [],
   "source": [
    "sttdev_array_series = pd.Series(data=stddev_array)"
   ]
  },
  {
   "cell_type": "markdown",
   "metadata": {},
   "source": [
    "### And build the histplot"
   ]
  },
  {
   "cell_type": "code",
   "execution_count": 11,
   "metadata": {},
   "outputs": [
    {
     "data": {
      "text/plain": [
       "Text(0.5, 0, 'Standard deviation, $\\\\sigma$')"
      ]
     },
     "execution_count": 11,
     "metadata": {},
     "output_type": "execute_result"
    },
    {
     "data": {
      "image/png": "[encoded data removed]",
      "text/plain": [
       "<Figure size 640x480 with 1 Axes>"
      ]
     },
     "metadata": {},
     "output_type": "display_data"
    }
   ],
   "source": [
    "formatter = ticker.ScalarFormatter(useMathText=True)\n",
    "formatter.set_scientific(True)\n",
    "formatter.set_powerlimits((-1, 1))\n",
    "plt.gca().xaxis.set_major_formatter(formatter)\n",
    "\n",
    "sns.histplot(data = stddev_array, bins = 200)\n",
    "\n",
    "plt.title('Distribition for standard deviations of features')\n",
    "plt.xlabel(f'Standard deviation, $\\sigma$')"
   ]
  },
  {
   "cell_type": "markdown",
   "metadata": {},
   "source": [
    "### As we notice, distribution looks like Gaussian. Let's try to calc quantile values"
   ]
  },
  {
   "cell_type": "code",
   "execution_count": 12,
   "metadata": {},
   "outputs": [
    {
     "name": "stdout",
     "output_type": "stream",
     "text": [
      "0.0242919921875\n",
      "0.12930004882812796\n"
     ]
    }
   ],
   "source": [
    "print(sttdev_array_series.quantile(0.125))\n",
    "print(sttdev_array_series.quantile(0.999))"
   ]
  },
  {
   "cell_type": "code",
   "execution_count": 13,
   "metadata": {},
   "outputs": [],
   "source": [
    "threshold_percent_quantile = sttdev_array_series.quantile(0.125)\n",
    "nn_percent_quantile = sttdev_array_series.quantile(0.99)"
   ]
  },
  {
   "cell_type": "code",
   "execution_count": 14,
   "metadata": {},
   "outputs": [
    {
     "data": {
      "text/plain": [
       "0.0242919921875"
      ]
     },
     "execution_count": 14,
     "metadata": {},
     "output_type": "execute_result"
    }
   ],
   "source": [
    "threshold_percent_quantile"
   ]
  },
  {
   "cell_type": "markdown",
   "metadata": {},
   "source": [
    "### We assume low std_dev value to be noise features. Let's denote that the phenomenon of low std_dev corresponds to the all objects having similar feature, smth like narrow gaussian that shows the low variance of data corresponding to this feature. So, I try to make this pre-filtering. \n",
    "\n",
    "Otherwise, my office laptop with 4 Gb RAM shall die"
   ]
  },
  {
   "cell_type": "code",
   "execution_count": 15,
   "metadata": {},
   "outputs": [],
   "source": [
    "def drop_low_stddev_columns(data):\n",
    "    count = []\n",
    "    for i in range(data.shape[1]):\n",
    "        \n",
    "        if stddev_array[i] <= threshold_percent_quantile:\n",
    "            count.append(i)\n",
    "            \n",
    "    \n",
    "    return count\n",
    "\n",
    "count = drop_low_stddev_columns(train_data)"
   ]
  },
  {
   "cell_type": "code",
   "execution_count": 16,
   "metadata": {},
   "outputs": [
    {
     "data": {
      "text/plain": [
       "9749"
      ]
     },
     "execution_count": 16,
     "metadata": {},
     "output_type": "execute_result"
    }
   ],
   "source": [
    "len(count)"
   ]
  },
  {
   "cell_type": "code",
   "execution_count": 17,
   "metadata": {},
   "outputs": [],
   "source": [
    "train_data = train_data.drop(columns = count).astype('float16')"
   ]
  },
  {
   "cell_type": "code",
   "execution_count": 18,
   "metadata": {},
   "outputs": [
    {
     "data": {
      "text/plain": [
       "(14590, 68139)"
      ]
     },
     "execution_count": 18,
     "metadata": {},
     "output_type": "execute_result"
    }
   ],
   "source": [
    "train_data.shape"
   ]
  },
  {
   "cell_type": "code",
   "execution_count": 19,
   "metadata": {},
   "outputs": [
    {
     "name": "stdout",
     "output_type": "stream",
     "text": [
      "Memory: 1926.60 Mb\n"
     ]
    }
   ],
   "source": [
    "import psutil\n",
    "print(f\"Memory: {psutil.Process().memory_info().rss / 1024**2:.2f} Mb\")"
   ]
  },
  {
   "cell_type": "code",
   "execution_count": null,
   "metadata": {},
   "outputs": [],
   "source": [
    "from scipy import sparse\n",
    "sparse.save_npz(\"my_matrix.npy\", train_data)"
   ]
  },
  {
   "cell_type": "code",
   "execution_count": 21,
   "metadata": {},
   "outputs": [],
   "source": [
    "pca_analysis = PCA()\n",
    "pca_analysis.fit(train_data)\n",
    "\n",
    "cumulative_variance_ratio = np.cumsum(pca_analysis.explained_variance_ratio_)"
   ]
  },
  {
   "cell_type": "code",
   "execution_count": null,
   "metadata": {},
   "outputs": [],
   "source": [
    "def n_components(ratio):\n",
    "    n_components = np.argmax(cumulative_variance_ratio >= ratio) + 1\n",
    "    return n_components\n",
    "\n",
    "print(n_components(0.9))"
   ]
  },
  {
   "cell_type": "markdown",
   "metadata": {},
   "source": [
    "### So, the low-level filtering gave us ~9k less features than it was initial, why not?"
   ]
  },
  {
   "cell_type": "markdown",
   "metadata": {},
   "source": [
    "### Now, we may try the fitting on KMeans or other base algorithms working in initial space. Further we should try some feature decomposition techniques to know how's that visualized."
   ]
  },
  {
   "cell_type": "markdown",
   "metadata": {},
   "source": [
    "* First, go with k-means tryna to analyze for clusters number"
   ]
  },
  {
   "cell_type": "code",
   "execution_count": 47,
   "metadata": {},
   "outputs": [],
   "source": [
    "kmeans_resolution = KMeans(n_clusters=2, random_state = 42, n_init = 'auto').fit(train_data)\n",
    "print(np.sqrt(kmeans_resolution.inertia_))"
   ]
  },
  {
   "cell_type": "code",
   "execution_count": null,
   "metadata": {},
   "outputs": [],
   "source": [
    "fig, ax = plt.subplots((1, 1))\n",
    "ax[0].plot(range(2, 10), criterion_array, markers = 's')\n",
    "\n",
    "ax[0].set_xlabel('$number_clusters$')\n",
    "ax[0].set_ylabel('$Criterion_value$')"
   ]
  }
 ],
 "metadata": {
  "kernelspec": {
   "display_name": "venv",
   "language": "python",
   "name": "python3"
  },
  "language_info": {
   "codemirror_mode": {
    "name": "ipython",
    "version": 3
   },
   "file_extension": ".py",
   "mimetype": "text/x-python",
   "name": "python",
   "nbconvert_exporter": "python",
   "pygments_lexer": "ipython3",
   "version": "3.10.11"
  }
 },
 "nbformat": 4,
 "nbformat_minor": 2
}
